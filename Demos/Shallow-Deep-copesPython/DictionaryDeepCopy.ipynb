{
 "cells": [
  {
   "cell_type": "code",
   "execution_count": 3,
   "metadata": {},
   "outputs": [],
   "source": [
    "months = {'jan' : 1, 'feb' :2, \"months\":3, \"April\": 4}\n",
    "\n",
    "months\n",
    "\n",
    "\n",
    "\n"
   ]
  },
  {
   "cell_type": "code",
   "execution_count": 4,
   "metadata": {},
   "outputs": [
    {
     "name": "stdout",
     "output_type": "stream",
     "text": [
      "orginals {'jan': 1, 'feb': 2, 'months': 3, 'April': 4}\n",
      "orginals {'jan': 1, 'feb': 2, 'months': 3, 'April': 4}\n"
     ]
    }
   ],
   "source": [
    "new_months = months.copy()\n",
    "\n",
    "\n",
    "print(\"orginals\" , months)\n",
    "print(\"orginals\" , new_months)\n"
   ]
  },
  {
   "cell_type": "code",
   "execution_count": 7,
   "metadata": {},
   "outputs": [
    {
     "name": "stdout",
     "output_type": "stream",
     "text": [
      "orginals {'jan': 1, 'feb': 2, 'months': 3, 'April': 4}\n",
      "orginals {'jan': 1, 'feb': 'FEB', 'months': 3, 'April': 4}\n"
     ]
    }
   ],
   "source": [
    "new_months['feb'] = \"FEB\"\n",
    "\n",
    "\n",
    "print(\"orginals\" , months)\n",
    "print(\"orginals\" , new_months)\n"
   ]
  },
  {
   "cell_type": "code",
   "execution_count": 8,
   "metadata": {},
   "outputs": [
    {
     "data": {
      "text/plain": [
       "{'alison': 2007, 'bart': 2008, 'cathy': 2009, 'dan': 2010}"
      ]
     },
     "execution_count": 8,
     "metadata": {},
     "output_type": "execute_result"
    }
   ],
   "source": [
    "## creating a deep copy of a ditionary\n",
    "\n",
    "import copy \n",
    "\n",
    "\n",
    "employees = {\"alison\" : 2007 , \"bart\": 2008, \"cathy\": 2009, \"dan\": 2010}\n",
    "\n",
    "employees"
   ]
  },
  {
   "cell_type": "code",
   "execution_count": 10,
   "metadata": {},
   "outputs": [
    {
     "name": "stdout",
     "output_type": "stream",
     "text": [
      "{'alison': 2007, 'bart': 2008, 'cathy': 2009, 'dan': 2010}\n",
      "{'alison': 2007, 'bart': 2008, 'cathy': 2009, 'dan': 2010}\n"
     ]
    },
    {
     "data": {
      "text/plain": [
       "2007"
      ]
     },
     "execution_count": 10,
     "metadata": {},
     "output_type": "execute_result"
    }
   ],
   "source": [
    "employees_copy = copy.deepcopy(employees)\n",
    "\n",
    "\n",
    "##this is a deep copy \n",
    "print(employees)\n",
    "print(employees_copy)\n"
   ]
  },
  {
   "cell_type": "code",
   "execution_count": 13,
   "metadata": {},
   "outputs": [],
   "source": [
    "employees['alison'] = 2011"
   ]
  },
  {
   "cell_type": "code",
   "execution_count": 14,
   "metadata": {},
   "outputs": [
    {
     "name": "stdout",
     "output_type": "stream",
     "text": [
      "{'alison': 2011, 'bart': 2008, 'cathy': 2009, 'dan': 2010}\n",
      "{'alison': 2007, 'bart': 2008, 'cathy': 2009, 'dan': 2010}\n"
     ]
    }
   ],
   "source": [
    "print(employees)\n",
    "print(employees_copy)"
   ]
  },
  {
   "cell_type": "code",
   "execution_count": 15,
   "metadata": {},
   "outputs": [
    {
     "data": {
      "text/plain": [
       "{'one': 1, 'two': 2, 'three': 3, 'four': [1, 2, 3, 4.0]}"
      ]
     },
     "execution_count": 15,
     "metadata": {},
     "output_type": "execute_result"
    }
   ],
   "source": [
    "orig_dict = {'one':1, 'two':2, \"three\":3, \"four\":[1,2,3,4.0]}\n",
    "\n",
    "orig_dict"
   ]
  },
  {
   "cell_type": "code",
   "execution_count": 16,
   "metadata": {},
   "outputs": [],
   "source": [
    "new_dict = copy.deepcopy(orig_dict)"
   ]
  },
  {
   "cell_type": "code",
   "execution_count": 26,
   "metadata": {},
   "outputs": [
    {
     "name": "stdout",
     "output_type": "stream",
     "text": [
      "{'one': 1, 'two': 2, 'three': 3, 'four': [1, 2, 'FOUR', 4.0]}\n",
      "{'one': 1, 'two': 2, 'three': 3, 'four': [1, 2, 3, 4.0]}\n"
     ]
    }
   ],
   "source": [
    "print(new_dict)\n",
    "print(orig_dict)\n",
    "\n",
    "\n",
    "# new_dict['four'][2] = 'FOUR'\n",
    "\n",
    "## new dictionary "
   ]
  }
 ],
 "metadata": {
  "kernelspec": {
   "display_name": "Python 3",
   "language": "python",
   "name": "python3"
  },
  "language_info": {
   "codemirror_mode": {
    "name": "ipython",
    "version": 3
   },
   "file_extension": ".py",
   "mimetype": "text/x-python",
   "name": "python",
   "nbconvert_exporter": "python",
   "pygments_lexer": "ipython3",
   "version": "3.12.1"
  }
 },
 "nbformat": 4,
 "nbformat_minor": 2
}
