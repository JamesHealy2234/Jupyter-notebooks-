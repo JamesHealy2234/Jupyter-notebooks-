{
 "cells": [
  {
   "cell_type": "code",
   "execution_count": 1,
   "id": "6c3df43b",
   "metadata": {},
   "outputs": [
    {
     "data": {
      "text/plain": [
       "['sara', 'david', 'Warner', 'sandy']"
      ]
     },
     "execution_count": 1,
     "metadata": {},
     "output_type": "execute_result"
    }
   ],
   "source": [
    "names = [\"sara\", \"david\", \"Warner\", \"sandy\"]\n",
    "names"
   ]
  },
  {
   "cell_type": "code",
   "execution_count": 3,
   "id": "864f932c",
   "metadata": {},
   "outputs": [
    {
     "name": "stdout",
     "output_type": "stream",
     "text": [
      "Originals:  ['sara', 'david', 'Warner', 'sandy']\n",
      "MOdified:  ['sara', 'david', 'Warner', 'sandy']\n"
     ]
    }
   ],
   "source": [
    "new_names = names.copy()\n",
    "\n",
    "print(\"Originals: \" , names)\n",
    "print(\"MOdified: \" , new_names)\n"
   ]
  },
  {
   "cell_type": "code",
   "execution_count": 5,
   "id": "6df01d26",
   "metadata": {},
   "outputs": [
    {
     "name": "stdout",
     "output_type": "stream",
     "text": [
      "Originals:  ['sara', 'david', 'Warner', 'sandy']\n",
      "MOdified:  ['sara', 'Ridley', 'Warner', 'sandy']\n"
     ]
    }
   ],
   "source": [
    "new_names[1] = \"Ridley\"\n",
    "print(\"Originals: \" , names)\n",
    "print(\"MOdified: \" , new_names)"
   ]
  },
  {
   "cell_type": "code",
   "execution_count": 6,
   "id": "0edf8467",
   "metadata": {},
   "outputs": [],
   "source": [
    "import copy \n",
    "\n",
    "companies = [\"amazon \", \"google\", \"apple\"]"
   ]
  },
  {
   "cell_type": "code",
   "execution_count": 10,
   "id": "ee1b9c99",
   "metadata": {},
   "outputs": [
    {
     "name": "stdout",
     "output_type": "stream",
     "text": [
      "originals: ['amazon ', 'google', 'apple']\n",
      "modified: ['amazon ', 'google', 'apple']\n"
     ]
    }
   ],
   "source": [
    "new_companies = copy.deepcopy(companies)\n",
    "\n",
    "print(\"originals:\", companies)\n",
    "print(\"modified:\", new_companies)"
   ]
  },
  {
   "cell_type": "code",
   "execution_count": 13,
   "id": "1a5cfc82",
   "metadata": {},
   "outputs": [
    {
     "name": "stdout",
     "output_type": "stream",
     "text": [
      "originals: ['amazon ', 'google', 'apple']\n",
      "modified: ['amazon ', 'microsoft', 'apple']\n"
     ]
    }
   ],
   "source": [
    "new_companies[1] = 'microsoft' \n",
    "\n",
    "print(\"originals:\", companies)\n",
    "print(\"modified:\", new_companies)"
   ]
  },
  {
   "cell_type": "code",
   "execution_count": 14,
   "id": "20808108",
   "metadata": {},
   "outputs": [
    {
     "data": {
      "text/plain": [
       "[[1, 2, 3], [4, 5, 6], [7, 8, 9]]"
      ]
     },
     "execution_count": 14,
     "metadata": {},
     "output_type": "execute_result"
    }
   ],
   "source": [
    "old_list = [[1,2,3], [4,5,6], [7,8,9]]\n",
    "\n",
    "old_list"
   ]
  },
  {
   "cell_type": "code",
   "execution_count": 15,
   "id": "c3fd2fde",
   "metadata": {},
   "outputs": [],
   "source": [
    "new_list = copy.deepcopy(old_list)"
   ]
  },
  {
   "cell_type": "code",
   "execution_count": 17,
   "id": "9357412f",
   "metadata": {},
   "outputs": [
    {
     "name": "stdout",
     "output_type": "stream",
     "text": [
      "Old LIst [[1, 2, 3], [4, 5, 6], [7, 8, 9]]\n",
      "New LIst [[1, 2, 3], [4, 5, 6], [7, 8, 9]]\n"
     ]
    }
   ],
   "source": [
    "print(\"Old LIst\", old_list)\n",
    "print(\"New LIst\", new_list)"
   ]
  },
  {
   "cell_type": "code",
   "execution_count": 19,
   "id": "3d07f72e",
   "metadata": {},
   "outputs": [
    {
     "data": {
      "text/plain": [
       "6"
      ]
     },
     "execution_count": 19,
     "metadata": {},
     "output_type": "execute_result"
    }
   ],
   "source": [
    "old_list[1][2]"
   ]
  },
  {
   "cell_type": "code",
   "execution_count": 21,
   "id": "fb09d989",
   "metadata": {},
   "outputs": [
    {
     "name": "stdout",
     "output_type": "stream",
     "text": [
      "Old LIst [[1, 2, 3], [4, 5, 2], [7, 8, 9]]\n",
      "New LIst [[1, 2, 3], [4, 5, 6], [7, 8, 9]]\n"
     ]
    }
   ],
   "source": [
    "old_list[1][2] = 2\n",
    "\n",
    "print(\"Old LIst\", old_list)\n",
    "print(\"New LIst\", new_list)"
   ]
  },
  {
   "cell_type": "code",
   "execution_count": 23,
   "id": "3133b784",
   "metadata": {},
   "outputs": [],
   "source": [
    "## using the array slicing method \n",
    "\n",
    "new_companies = companies[:]"
   ]
  },
  {
   "cell_type": "code",
   "execution_count": 25,
   "id": "73bd4caf",
   "metadata": {},
   "outputs": [
    {
     "name": "stdout",
     "output_type": "stream",
     "text": [
      "originals: ['amazon ', 'google', 'apple']\n",
      "modified: ['amazon ', 'skillsoft', 'apple']\n"
     ]
    }
   ],
   "source": [
    "new_companies[1] = \"skillsoft\"\n",
    "\n",
    "print(\"originals:\", companies)\n",
    "print(\"modified:\", new_companies)"
   ]
  }
 ],
 "metadata": {
  "kernelspec": {
   "display_name": "Python 3 (ipykernel)",
   "language": "python",
   "name": "python3"
  },
  "language_info": {
   "codemirror_mode": {
    "name": "ipython",
    "version": 3
   },
   "file_extension": ".py",
   "mimetype": "text/x-python",
   "name": "python",
   "nbconvert_exporter": "python",
   "pygments_lexer": "ipython3",
   "version": "3.11.5"
  }
 },
 "nbformat": 4,
 "nbformat_minor": 5
}
