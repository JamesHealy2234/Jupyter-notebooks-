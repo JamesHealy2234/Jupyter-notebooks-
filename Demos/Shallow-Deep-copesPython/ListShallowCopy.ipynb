{
 "cells": [
  {
   "cell_type": "code",
   "execution_count": 1,
   "id": "1b6b233e",
   "metadata": {},
   "outputs": [],
   "source": [
    "names = [\"sara\", \"david\", \"warner\", \" Sandy\"]"
   ]
  },
  {
   "cell_type": "code",
   "execution_count": 2,
   "id": "8c19a237",
   "metadata": {},
   "outputs": [
    {
     "data": {
      "text/plain": [
       "['sara', 'david', 'warner', ' Sandy']"
      ]
     },
     "execution_count": 2,
     "metadata": {},
     "output_type": "execute_result"
    }
   ],
   "source": [
    "names"
   ]
  },
  {
   "cell_type": "code",
   "execution_count": 3,
   "id": "077b4359",
   "metadata": {},
   "outputs": [],
   "source": [
    "new_names = names ## assignment Creates a shallow copy "
   ]
  },
  {
   "cell_type": "code",
   "execution_count": 4,
   "id": "6a8087b4",
   "metadata": {},
   "outputs": [
    {
     "name": "stdout",
     "output_type": "stream",
     "text": [
      "original ['sara', 'david', 'warner', ' Sandy']\n",
      "copy ['sara', 'david', 'warner', ' Sandy']\n"
     ]
    }
   ],
   "source": [
    "print(\"original\", names)\n",
    "print(\"copy\", new_names)"
   ]
  },
  {
   "cell_type": "code",
   "execution_count": 6,
   "id": "a3214dda",
   "metadata": {},
   "outputs": [
    {
     "data": {
      "text/plain": [
       "'david'"
      ]
     },
     "execution_count": 6,
     "metadata": {},
     "output_type": "execute_result"
    }
   ],
   "source": [
    "names[1]"
   ]
  },
  {
   "cell_type": "code",
   "execution_count": 7,
   "id": "965575ca",
   "metadata": {},
   "outputs": [],
   "source": [
    "new_names[1] = 'Ridley'"
   ]
  },
  {
   "cell_type": "code",
   "execution_count": 9,
   "id": "8334d43e",
   "metadata": {},
   "outputs": [
    {
     "name": "stdout",
     "output_type": "stream",
     "text": [
      "Original ['sara', 'Ridley', 'warner', ' Sandy']\n",
      "modified ['sara', 'Ridley', 'warner', ' Sandy']\n"
     ]
    }
   ],
   "source": [
    "print('Original:', names)\n",
    "print(\"modified: \", new_names)"
   ]
  },
  {
   "cell_type": "code",
   "execution_count": 10,
   "id": "a795366b",
   "metadata": {},
   "outputs": [],
   "source": [
    "import copy "
   ]
  },
  {
   "cell_type": "code",
   "execution_count": 11,
   "id": "11e930f4",
   "metadata": {},
   "outputs": [],
   "source": [
    "companies = ['google', 'facebook', 'microsoft']"
   ]
  },
  {
   "cell_type": "code",
   "execution_count": 12,
   "id": "7af65e74",
   "metadata": {},
   "outputs": [],
   "source": [
    "new_companies = copy.copy(companies)"
   ]
  },
  {
   "cell_type": "code",
   "execution_count": 14,
   "id": "134e16b8",
   "metadata": {},
   "outputs": [
    {
     "name": "stdout",
     "output_type": "stream",
     "text": [
      "Originals:  ['google', 'facebook', 'microsoft']\n",
      "modified:  ['google', 'facebook', 'microsoft']\n"
     ]
    }
   ],
   "source": [
    "print('Originals: ', companies)\n",
    "print(\"modified: \", new_companies)"
   ]
  },
  {
   "cell_type": "code",
   "execution_count": 16,
   "id": "5ee85925",
   "metadata": {},
   "outputs": [
    {
     "name": "stdout",
     "output_type": "stream",
     "text": [
      "Original: ['google', 'facebook', 'microsoft']\n",
      "modified:  ['google', 'Amazon', 'microsoft']\n"
     ]
    }
   ],
   "source": [
    "new_companies[1] = 'Amazon'\n",
    "\n",
    "print('Original:',companies )\n",
    "print(\"modified: \",new_companies )"
   ]
  },
  {
   "cell_type": "code",
   "execution_count": 18,
   "id": "b180fca8",
   "metadata": {},
   "outputs": [
    {
     "data": {
      "text/plain": [
       "[[1, 2, 3], [4, 5, 6], [7, 8, 9]]"
      ]
     },
     "execution_count": 18,
     "metadata": {},
     "output_type": "execute_result"
    }
   ],
   "source": [
    "old_list = [[1,2,3], [4,5,6], [7,8,9]]\n",
    "old_list"
   ]
  },
  {
   "cell_type": "code",
   "execution_count": 19,
   "id": "cde7a2c3",
   "metadata": {},
   "outputs": [],
   "source": [
    "new_list = old_list"
   ]
  },
  {
   "cell_type": "code",
   "execution_count": 20,
   "id": "27997520",
   "metadata": {},
   "outputs": [],
   "source": [
    "old_list[1][1] = 'Five'"
   ]
  },
  {
   "cell_type": "code",
   "execution_count": 21,
   "id": "9b1dc60b",
   "metadata": {},
   "outputs": [
    {
     "name": "stdout",
     "output_type": "stream",
     "text": [
      "Original: [[1, 2, 3], [4, 'Five', 6], [7, 8, 9]]\n",
      "modified:  [[1, 2, 3], [4, 'Five', 6], [7, 8, 9]]\n"
     ]
    }
   ],
   "source": [
    "print('Original:',old_list )\n",
    "print(\"modified: \",new_list  )"
   ]
  },
  {
   "cell_type": "code",
   "execution_count": 22,
   "id": "19c523bd",
   "metadata": {},
   "outputs": [],
   "source": [
    "new_list = copy.copy(old_list)"
   ]
  },
  {
   "cell_type": "code",
   "execution_count": 25,
   "id": "5debe900",
   "metadata": {},
   "outputs": [
    {
     "name": "stdout",
     "output_type": "stream",
     "text": [
      "Original: [[1, 2, 3], [4, 'Five', 6], [7, 8, 9, 'Ten', 'Ten']]\n",
      "modified:  [[1, 2, 3], [4, 'Five', 6], [7, 8, 9, 'Ten', 'Ten']]\n"
     ]
    }
   ],
   "source": [
    "new_list[2].append('Ten')\n",
    "print('Original:',old_list )\n",
    "print(\"modified: \",new_list  )"
   ]
  },
  {
   "cell_type": "code",
   "execution_count": 29,
   "id": "c39ef379",
   "metadata": {},
   "outputs": [
    {
     "name": "stdout",
     "output_type": "stream",
     "text": [
      "Modified: [[1, 2, 3], [4, 'Five', 6], [7, 8, 9, 'Ten', 'Ten'], [10, 11, 12], [10, 11, 12]]\n",
      "modified:  [[1, 2, 3], [4, 'Five', 6], [7, 8, 9, 'Ten', 'Ten']]\n"
     ]
    }
   ],
   "source": [
    "# old_list.append([10,11,12])\n",
    "print('Modified:',old_list )\n",
    "print(\"modified: \",new_list  )"
   ]
  }
 ],
 "metadata": {
  "kernelspec": {
   "display_name": "Python 3 (ipykernel)",
   "language": "python",
   "name": "python3"
  },
  "language_info": {
   "codemirror_mode": {
    "name": "ipython",
    "version": 3
   },
   "file_extension": ".py",
   "mimetype": "text/x-python",
   "name": "python",
   "nbconvert_exporter": "python",
   "pygments_lexer": "ipython3",
   "version": "3.11.5"
  }
 },
 "nbformat": 4,
 "nbformat_minor": 5
}
