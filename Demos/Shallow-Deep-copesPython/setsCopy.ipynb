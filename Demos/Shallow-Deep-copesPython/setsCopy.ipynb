{
 "cells": [
  {
   "cell_type": "code",
   "execution_count": 10,
   "metadata": {},
   "outputs": [
    {
     "data": {
      "text/plain": [
       "{'Java', 'c++', 'javascript', 'php', 'python'}"
      ]
     },
     "execution_count": 10,
     "metadata": {},
     "output_type": "execute_result"
    }
   ],
   "source": [
    "set_1 = {'c++', 'php', 'javascript', 'python', 'Java'}\n",
    "\n",
    "set_1"
   ]
  },
  {
   "cell_type": "code",
   "execution_count": 11,
   "metadata": {},
   "outputs": [
    {
     "name": "stdout",
     "output_type": "stream",
     "text": [
      "Original:  {'javascript', 'c++', 'python', 'Java', 'php'}\n",
      "Modified:  {'javascript', 'c++', 'python', 'Java', 'php'}\n"
     ]
    }
   ],
   "source": [
    "set_2 = set_1\n",
    "\n",
    "\n",
    "print('Original: ', set_1)\n",
    "print('Modified: ', set_2)"
   ]
  },
  {
   "cell_type": "code",
   "execution_count": 12,
   "metadata": {},
   "outputs": [
    {
     "name": "stdout",
     "output_type": "stream",
     "text": [
      "Original:  {'javascript', 'c++', 'sql', 'python', 'Java', 'php'}\n",
      "Modified:  {'javascript', 'c++', 'sql', 'python', 'Java', 'php'}\n"
     ]
    }
   ],
   "source": [
    "set_2.add('sql')\n",
    "\n",
    "print('Original: ', set_1)\n",
    "print('Modified: ', set_2)"
   ]
  },
  {
   "cell_type": "code",
   "execution_count": 13,
   "metadata": {},
   "outputs": [
    {
     "name": "stdout",
     "output_type": "stream",
     "text": [
      "Original:  {'javascript', 'c++', 'sql', 'python', 'Java', 'php'}\n",
      "Modified:  {'javascript', 'c++', 'sql', 'python', 'Java', 'php'}\n"
     ]
    }
   ],
   "source": [
    "\n",
    "print('Original: ', set_1)\n",
    "print('Modified: ', set_2)\n",
    "\n",
    "\n",
    "# set_2[2] = 'ruby'"
   ]
  }
 ],
 "metadata": {
  "kernelspec": {
   "display_name": "Python 3",
   "language": "python",
   "name": "python3"
  },
  "language_info": {
   "codemirror_mode": {
    "name": "ipython",
    "version": 3
   },
   "file_extension": ".py",
   "mimetype": "text/x-python",
   "name": "python",
   "nbconvert_exporter": "python",
   "pygments_lexer": "ipython3",
   "version": "3.12.1"
  }
 },
 "nbformat": 4,
 "nbformat_minor": 2
}
