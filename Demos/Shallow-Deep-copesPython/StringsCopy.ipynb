{
 "cells": [
  {
   "cell_type": "code",
   "execution_count": 1,
   "id": "c381fb15",
   "metadata": {},
   "outputs": [
    {
     "data": {
      "text/plain": [
       "'Python'"
      ]
     },
     "execution_count": 1,
     "metadata": {},
     "output_type": "execute_result"
    }
   ],
   "source": [
    "old_str = \"Python\"\n",
    "\n",
    "old_str"
   ]
  },
  {
   "cell_type": "code",
   "execution_count": 4,
   "id": "064b7e2b",
   "metadata": {},
   "outputs": [
    {
     "name": "stdout",
     "output_type": "stream",
     "text": [
      "Python\n",
      "Python\n"
     ]
    }
   ],
   "source": [
    "new_str = old_str\n",
    "\n",
    "print(old_str\n",
    "     )\n",
    "print(new_str)"
   ]
  },
  {
   "cell_type": "code",
   "execution_count": 9,
   "id": "0f213143",
   "metadata": {},
   "outputs": [
    {
     "ename": "TypeError",
     "evalue": "'str' object does not support item assignment",
     "output_type": "error",
     "traceback": [
      "\u001b[1;31m---------------------------------------------------------------------------\u001b[0m",
      "\u001b[1;31mTypeError\u001b[0m                                 Traceback (most recent call last)",
      "Cell \u001b[1;32mIn[9], line 1\u001b[0m\n\u001b[1;32m----> 1\u001b[0m new_str[\u001b[38;5;241m2\u001b[39m] \u001b[38;5;241m=\u001b[39m \u001b[38;5;124m'\u001b[39m\u001b[38;5;124mt\u001b[39m\u001b[38;5;124m'\u001b[39m\n",
      "\u001b[1;31mTypeError\u001b[0m: 'str' object does not support item assignment"
     ]
    }
   ],
   "source": [
    "new_str[2] = 't' ## strings are immutable in python "
   ]
  },
  {
   "cell_type": "code",
   "execution_count": 12,
   "id": "1e2cb761",
   "metadata": {},
   "outputs": [],
   "source": [
    "import copy \n",
    "\n"
   ]
  },
  {
   "cell_type": "code",
   "execution_count": 15,
   "id": "43b59ab4",
   "metadata": {},
   "outputs": [],
   "source": [
    "first_str = 'will'"
   ]
  },
  {
   "cell_type": "code",
   "execution_count": 16,
   "id": "12a816d6",
   "metadata": {},
   "outputs": [
    {
     "name": "stdout",
     "output_type": "stream",
     "text": [
      "First strings:  will\n",
      "second string:  will\n"
     ]
    }
   ],
   "source": [
    "second_str = copy.copy(first_str)\n",
    "\n",
    "print(\"First strings: \", first_str)\n",
    "print(\"second string: \", second_str)"
   ]
  },
  {
   "cell_type": "code",
   "execution_count": 20,
   "id": "d5285b72",
   "metadata": {},
   "outputs": [],
   "source": [
    "second_str = \"smith\""
   ]
  },
  {
   "cell_type": "code",
   "execution_count": 22,
   "id": "f214389a",
   "metadata": {},
   "outputs": [
    {
     "name": "stdout",
     "output_type": "stream",
     "text": [
      "First strings:  will\n",
      "second string:  smith\n"
     ]
    }
   ],
   "source": [
    "print(\"First strings: \", first_str)\n",
    "print(\"second string: \", second_str)"
   ]
  },
  {
   "cell_type": "code",
   "execution_count": null,
   "id": "c8b59789",
   "metadata": {},
   "outputs": [],
   "source": [
    "## no difference between copy,cop"
   ]
  }
 ],
 "metadata": {
  "kernelspec": {
   "display_name": "Python 3 (ipykernel)",
   "language": "python",
   "name": "python3"
  },
  "language_info": {
   "codemirror_mode": {
    "name": "ipython",
    "version": 3
   },
   "file_extension": ".py",
   "mimetype": "text/x-python",
   "name": "python",
   "nbconvert_exporter": "python",
   "pygments_lexer": "ipython3",
   "version": "3.11.5"
  }
 },
 "nbformat": 4,
 "nbformat_minor": 5
}
