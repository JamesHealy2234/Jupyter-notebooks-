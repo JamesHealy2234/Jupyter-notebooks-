{
 "cells": [
  {
   "cell_type": "code",
   "execution_count": 2,
   "metadata": {},
   "outputs": [
    {
     "data": {
      "text/plain": [
       "{'jan': 1, 'feb': 2, 'march': 3, 'april': 4}"
      ]
     },
     "execution_count": 2,
     "metadata": {},
     "output_type": "execute_result"
    }
   ],
   "source": [
    "months = {'jan': 1, 'feb' : 2, 'march' :3, 'april': 4}\n",
    "\n",
    "months "
   ]
  },
  {
   "cell_type": "code",
   "execution_count": 3,
   "metadata": {},
   "outputs": [],
   "source": []
  },
  {
   "cell_type": "code",
   "execution_count": 5,
   "metadata": {},
   "outputs": [],
   "source": [
    "new_months['feb'] = 'FEB'"
   ]
  },
  {
   "cell_type": "code",
   "execution_count": 6,
   "metadata": {},
   "outputs": [
    {
     "name": "stdout",
     "output_type": "stream",
     "text": [
      "Orginals {'jan': 1, 'feb': 'FEB', 'march': 3, 'april': 4}\n",
      "modified {'jan': 1, 'feb': 'FEB', 'march': 3, 'april': 4}\n"
     ]
    }
   ],
   "source": [
    "print(\"Orginals\", months)\n",
    "print(\"modified\", new_months)"
   ]
  },
  {
   "cell_type": "code",
   "execution_count": 7,
   "metadata": {},
   "outputs": [
    {
     "data": {
      "text/plain": [
       "{'Alison': 2007, 'bart': 2008, 'Cathy': 2009, 'Dan': 2010}"
      ]
     },
     "execution_count": 7,
     "metadata": {},
     "output_type": "execute_result"
    }
   ],
   "source": [
    "import copy \n",
    "\n",
    "employees = {'Alison' : 2007, \"bart\" : 2008, \"Cathy\" : 2009, \"Dan\": 2010}\n",
    "\n",
    "employees"
   ]
  },
  {
   "cell_type": "code",
   "execution_count": 8,
   "metadata": {},
   "outputs": [
    {
     "name": "stdout",
     "output_type": "stream",
     "text": [
      "{'Alison': 2007, 'bart': 2008, 'Cathy': 2009, 'Dan': 2010}\n",
      "{'Alison': 2007, 'bart': 2008, 'Cathy': 2009, 'Dan': 2010}\n"
     ]
    }
   ],
   "source": [
    "employees_copy = copy.copy(employees)\n",
    "\n",
    "print(employees)\n",
    "print(employees_copy)"
   ]
  },
  {
   "cell_type": "code",
   "execution_count": 9,
   "metadata": {},
   "outputs": [
    {
     "name": "stdout",
     "output_type": "stream",
     "text": [
      "{'Alison': 2007, 'bart': 2008, 'Cathy': 2009, 'Dan': 2010}\n",
      "{'Alison': 2005, 'bart': 2008, 'Cathy': 2009, 'Dan': 2010}\n"
     ]
    }
   ],
   "source": [
    "employees_copy['Alison'] = 2005\n",
    "\n",
    "print(employees)\n",
    "print(employees_copy)"
   ]
  },
  {
   "cell_type": "code",
   "execution_count": 10,
   "metadata": {},
   "outputs": [
    {
     "data": {
      "text/plain": [
       "{'one': 1, 'two': 2, 'Three': 3, 'Four': [1, 2, 3, 4, 5]}"
      ]
     },
     "execution_count": 10,
     "metadata": {},
     "output_type": "execute_result"
    }
   ],
   "source": [
    "orig_dict = {'one':1 , 'two': 2, 'Three':3, 'Four':[1,2,3,4,5]}\n",
    "orig_dict"
   ]
  },
  {
   "cell_type": "code",
   "execution_count": 11,
   "metadata": {},
   "outputs": [],
   "source": [
    "new_dict = copy.copy(orig_dict)"
   ]
  },
  {
   "cell_type": "code",
   "execution_count": 16,
   "metadata": {},
   "outputs": [
    {
     "name": "stdout",
     "output_type": "stream",
     "text": [
      "{'one': 1, 'two': 2, 'Three': 3, 'Four': [1, 2, 3, 4, 5]}\n",
      "{'one': 1, 'two': 2, 'Three': 3, 'Four': [1, 2, 3, 4, 5]}\n"
     ]
    }
   ],
   "source": [
    "print(new_dict)\n",
    "print(orig_dict)\n",
    "\n",
    "\n",
    "new_dict['Four'][3] = 'FOUR'\n",
    "\n",
    "\n"
   ]
  },
  {
   "cell_type": "code",
   "execution_count": 17,
   "metadata": {},
   "outputs": [
    {
     "name": "stdout",
     "output_type": "stream",
     "text": [
      "{'one': 1, 'two': 2, 'Three': 3, 'Four': [1, 2, 3, 'FOUR', 5]}\n",
      "{'one': 1, 'two': 2, 'Three': 3, 'Four': [1, 2, 3, 'FOUR', 5]}\n"
     ]
    }
   ],
   "source": [
    "print(new_dict)\n",
    "print(orig_dict)"
   ]
  },
  {
   "cell_type": "code",
   "execution_count": 19,
   "metadata": {},
   "outputs": [
    {
     "name": "stdout",
     "output_type": "stream",
     "text": [
      "{'one': 1, 'two': 2, 'Three': 3, 'Four': [1, 2, 3, 'FOUR', 5, 5]}\n",
      "{'one': 1, 'two': 2, 'Three': 3, 'Four': [1, 2, 3, 'FOUR', 5, 5]}\n"
     ]
    }
   ],
   "source": [
    "new_dict['Four'].append(5)\n",
    "print(new_dict)\n",
    "print(orig_dict)"
   ]
  },
  {
   "cell_type": "code",
   "execution_count": 20,
   "metadata": {},
   "outputs": [
    {
     "data": {
      "text/plain": [
       "{'one': 1, 'two': 2, 'three': {'zero': 0, 'one': 1}, 'four': 4}"
      ]
     },
     "execution_count": 20,
     "metadata": {},
     "output_type": "execute_result"
    }
   ],
   "source": [
    "orig_dict = {'one' :1, 'two':2, 'three' :{'zero':0, 'one':1}, 'four': 4}\n",
    "\n",
    "orig_dict"
   ]
  },
  {
   "cell_type": "code",
   "execution_count": 22,
   "metadata": {},
   "outputs": [],
   "source": [
    "new_dict = copy.copy(orig_dict)"
   ]
  },
  {
   "cell_type": "code",
   "execution_count": 23,
   "metadata": {},
   "outputs": [
    {
     "name": "stdout",
     "output_type": "stream",
     "text": [
      "{'one': 1, 'two': 2, 'three': {'zero': 'ZERO', 'one': 1}, 'four': 4}\n",
      "{'one': 1, 'two': 2, 'three': {'zero': 'ZERO', 'one': 1}, 'four': 4}\n"
     ]
    }
   ],
   "source": [
    "new_dict['three']['zero'] = 'ZERO'\n",
    "\n",
    "print(orig_dict)\n",
    "print(new_dict)\n",
    "\n",
    "\n",
    "## nested complex data types are not deep copied when using the copy function \n",
    "\n"
   ]
  }
 ],
 "metadata": {
  "kernelspec": {
   "display_name": "Python 3",
   "language": "python",
   "name": "python3"
  },
  "language_info": {
   "codemirror_mode": {
    "name": "ipython",
    "version": 3
   },
   "file_extension": ".py",
   "mimetype": "text/x-python",
   "name": "python",
   "nbconvert_exporter": "python",
   "pygments_lexer": "ipython3",
   "version": "3.12.1"
  }
 },
 "nbformat": 4,
 "nbformat_minor": 2
}
