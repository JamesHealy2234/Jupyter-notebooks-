{
 "cells": [
  {
   "cell_type": "code",
   "execution_count": 1,
   "id": "c4450756",
   "metadata": {},
   "outputs": [],
   "source": [
    "empty_list = []"
   ]
  },
  {
   "cell_type": "code",
   "execution_count": 2,
   "id": "b6ce5161",
   "metadata": {},
   "outputs": [
    {
     "data": {
      "text/plain": [
       "[]"
      ]
     },
     "execution_count": 2,
     "metadata": {},
     "output_type": "execute_result"
    }
   ],
   "source": [
    "empty_list"
   ]
  },
  {
   "cell_type": "code",
   "execution_count": 3,
   "id": "991aa08f",
   "metadata": {},
   "outputs": [
    {
     "data": {
      "text/plain": [
       "['toyota camry', 'ford falcon', 'land cruiser prado']"
      ]
     },
     "execution_count": 3,
     "metadata": {},
     "output_type": "execute_result"
    }
   ],
   "source": [
    "list_str = ['toyota camry', 'ford falcon', 'land cruiser prado']\n",
    "list_str"
   ]
  },
  {
   "cell_type": "code",
   "execution_count": 4,
   "id": "85489be3",
   "metadata": {},
   "outputs": [
    {
     "data": {
      "text/plain": [
       "[True, False]"
      ]
     },
     "execution_count": 4,
     "metadata": {},
     "output_type": "execute_result"
    }
   ],
   "source": [
    "list_bool = [True,False]\n",
    "list_bool\n"
   ]
  },
  {
   "cell_type": "code",
   "execution_count": 5,
   "id": "29246b5f",
   "metadata": {},
   "outputs": [
    {
     "data": {
      "text/plain": [
       "['nissan santra', 1, 2.5, True]"
      ]
     },
     "execution_count": 5,
     "metadata": {},
     "output_type": "execute_result"
    }
   ],
   "source": [
    "## mixed list \n",
    "mixed_list = ['nissan santra', 1,2.5 ,True]\n",
    "mixed_list"
   ]
  },
  {
   "cell_type": "code",
   "execution_count": 6,
   "id": "62b3c417",
   "metadata": {},
   "outputs": [],
   "source": [
    "list_str = ['toyota camry', 'ford falcon', 'land cruiser prado', 'mazda 3']\n",
    "# print(list_str(0))"
   ]
  },
  {
   "cell_type": "code",
   "execution_count": 7,
   "id": "50f61854",
   "metadata": {},
   "outputs": [
    {
     "name": "stdout",
     "output_type": "stream",
     "text": [
      "mazda 3\n"
     ]
    }
   ],
   "source": [
    "list_str\n",
    "## mixed list start at 0 for the first index \n",
    "\n",
    "print(list_str[3])"
   ]
  },
  {
   "cell_type": "code",
   "execution_count": 8,
   "id": "bc4447d2",
   "metadata": {},
   "outputs": [
    {
     "name": "stdout",
     "output_type": "stream",
     "text": [
      "mazda 3\n"
     ]
    }
   ],
   "source": [
    "print(list_str[3])"
   ]
  },
  {
   "cell_type": "code",
   "execution_count": 9,
   "id": "cd7b1658",
   "metadata": {},
   "outputs": [
    {
     "name": "stdout",
     "output_type": "stream",
     "text": [
      "land cruiser prado\n"
     ]
    }
   ],
   "source": [
    "print(list_str[2])"
   ]
  },
  {
   "cell_type": "code",
   "execution_count": 10,
   "id": "625b436f",
   "metadata": {},
   "outputs": [
    {
     "ename": "TypeError",
     "evalue": "list indices must be integers or slices, not tuple",
     "output_type": "error",
     "traceback": [
      "\u001b[0;31m---------------------------------------------------------------------------\u001b[0m",
      "\u001b[0;31mTypeError\u001b[0m                                 Traceback (most recent call last)",
      "Cell \u001b[0;32mIn[10], line 1\u001b[0m\n\u001b[0;32m----> 1\u001b[0m \u001b[38;5;28mprint\u001b[39m(\u001b[43mlist_str\u001b[49m\u001b[43m[\u001b[49m\u001b[38;5;241;43m1\u001b[39;49m\u001b[43m,\u001b[49m\u001b[38;5;241;43m2\u001b[39;49m\u001b[43m]\u001b[49m)\n",
      "\u001b[0;31mTypeError\u001b[0m: list indices must be integers or slices, not tuple"
     ]
    }
   ],
   "source": [
    "print(list_str[1,2])"
   ]
  },
  {
   "cell_type": "code",
   "execution_count": null,
   "id": "5d1c1b24",
   "metadata": {},
   "outputs": [
    {
     "name": "stdout",
     "output_type": "stream",
     "text": [
      "toyota camry\n",
      "ford falcon\n",
      "land cruiser prado\n",
      "mazda 3\n"
     ]
    }
   ],
   "source": [
    "cars_list = ['toyota camry', 'ford falcon', 'land cruiser prado', 'mazda 3']\n",
    "\n",
    "print(list_str[-4])\n",
    "print(list_str[-3])\n",
    "print(list_str[-2])\n",
    "print(list_str[-1])\n",
    "## -1 prints the last element in the list"
   ]
  },
  {
   "cell_type": "code",
   "execution_count": null,
   "id": "5c00d5c7",
   "metadata": {
    "scrolled": true
   },
   "outputs": [
    {
     "name": "stdout",
     "output_type": "stream",
     "text": [
      "ford falcon\n"
     ]
    }
   ],
   "source": [
    "## update  a lsit \n",
    "\n",
    "print(cars_list[1])"
   ]
  },
  {
   "cell_type": "code",
   "execution_count": null,
   "id": "0305addc",
   "metadata": {},
   "outputs": [
    {
     "name": "stdout",
     "output_type": "stream",
     "text": [
      "NEW CARS LIST AT POSTION 2 Hyandai Elantra\n",
      "['toyota camry', 'ford falcon', 'Hyandai Elantra', 'mazda 3']\n"
     ]
    }
   ],
   "source": [
    "cars_list = ['toyota camry', 'ford falcon', 'land cruiser prado', 'mazda 3'] \n",
    "cars_list[2] =\"Hyandai Elantra\" \n",
    "print(\"NEW CARS LIST AT POSTION 2\" , cars_list[2])\n",
    "print(cars_list)"
   ]
  },
  {
   "cell_type": "code",
   "execution_count": null,
   "id": "42374703",
   "metadata": {},
   "outputs": [],
   "source": []
  },
  {
   "cell_type": "code",
   "execution_count": null,
   "id": "b2fd2456",
   "metadata": {},
   "outputs": [],
   "source": []
  },
  {
   "cell_type": "code",
   "execution_count": null,
   "id": "c0ad4cb4",
   "metadata": {},
   "outputs": [],
   "source": []
  }
 ],
 "metadata": {
  "kernelspec": {
   "display_name": "Python 3 (ipykernel)",
   "language": "python",
   "name": "python3"
  },
  "language_info": {
   "codemirror_mode": {
    "name": "ipython",
    "version": 3
   },
   "file_extension": ".py",
   "mimetype": "text/x-python",
   "name": "python",
   "nbconvert_exporter": "python",
   "pygments_lexer": "ipython3",
   "version": "3.12.1"
  }
 },
 "nbformat": 4,
 "nbformat_minor": 5
}
