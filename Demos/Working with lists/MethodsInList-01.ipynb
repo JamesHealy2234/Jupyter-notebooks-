{
 "cells": [
  {
   "cell_type": "code",
   "execution_count": 2,
   "id": "b94614c9",
   "metadata": {},
   "outputs": [
    {
     "data": {
      "text/plain": [
       "['toyota camry', 'ford falcon', 'land cruiser prado', 'mazda 3']"
      ]
     },
     "execution_count": 2,
     "metadata": {},
     "output_type": "execute_result"
    }
   ],
   "source": [
    "cars_list = ['toyota camry', 'ford falcon', 'land cruiser prado', 'mazda 3']\n",
    "\n",
    "cars_list"
   ]
  },
  {
   "cell_type": "code",
   "execution_count": 10,
   "id": "b9df2226",
   "metadata": {},
   "outputs": [
    {
     "data": {
      "text/plain": [
       "['toyota camry',\n",
       " 'ford falcon',\n",
       " 'land cruiser prado',\n",
       " 'mazda 3',\n",
       " 'Hyandai Elantra']"
      ]
     },
     "execution_count": 10,
     "metadata": {},
     "output_type": "execute_result"
    }
   ],
   "source": [
    "# cars_list[3] = 'Hyundai Elantra'\n",
    "# only takes in one argument cannot append 2 elements \n",
    "cars_list.append('Hyandai Elantra')\n",
    "\n",
    "cars_list"
   ]
  },
  {
   "cell_type": "code",
   "execution_count": 11,
   "id": "48ba2001",
   "metadata": {},
   "outputs": [
    {
     "data": {
      "text/plain": [
       "['toyota camry',\n",
       " 'ford falcon',\n",
       " 'land cruiser prado',\n",
       " 'mazda 3',\n",
       " 'Hyandai Elantra',\n",
       " 'nissan sentra']"
      ]
     },
     "execution_count": 11,
     "metadata": {},
     "output_type": "execute_result"
    }
   ],
   "source": [
    "cars_list.insert(6,'nissan sentra')\n",
    "cars_list"
   ]
  },
  {
   "cell_type": "code",
   "execution_count": 12,
   "id": "366554c5",
   "metadata": {},
   "outputs": [
    {
     "data": {
      "text/plain": [
       "6"
      ]
     },
     "execution_count": 12,
     "metadata": {},
     "output_type": "execute_result"
    }
   ],
   "source": [
    "len(cars_list)"
   ]
  },
  {
   "cell_type": "code",
   "execution_count": 13,
   "id": "93c95932",
   "metadata": {},
   "outputs": [
    {
     "data": {
      "text/plain": [
       "['toyota camry',\n",
       " 'ford falcon',\n",
       " 'land cruiser prado',\n",
       " 'mazda 3',\n",
       " 'Hyandai Elantra',\n",
       " 'nissan sentra',\n",
       " 'kia optima',\n",
       " 'Kia Soul']"
      ]
     },
     "execution_count": 13,
     "metadata": {},
     "output_type": "execute_result"
    }
   ],
   "source": [
    "cars_list.extend([\"kia optima\", 'Kia Soul'])\n",
    "\n",
    "cars_list "
   ]
  },
  {
   "cell_type": "code",
   "execution_count": 17,
   "id": "a09a50d3",
   "metadata": {},
   "outputs": [
    {
     "data": {
      "text/plain": [
       "['Hennessey venom gt ', 'Bugatti Veryron', 'ferrari 458']"
      ]
     },
     "execution_count": 17,
     "metadata": {},
     "output_type": "execute_result"
    }
   ],
   "source": [
    "cars_list2 = ['Hennessey venom gt ' , 'Bugatti Veryron' , 'ferrari 458']\n",
    "cars_list2 "
   ]
  },
  {
   "cell_type": "code",
   "execution_count": 19,
   "id": "4c902c8e",
   "metadata": {},
   "outputs": [
    {
     "name": "stdout",
     "output_type": "stream",
     "text": [
      "['toyota camry', 'ford falcon', 'land cruiser prado', 'mazda 3', 'Hyandai Elantra', 'nissan sentra', 'kia optima', 'Kia Soul', 'Hennessey venom gt ', 'Bugatti Veryron', 'ferrari 458']\n"
     ]
    }
   ],
   "source": [
    "  complete_cars_list = cars_list + cars_list2\n",
    "print(complete_cars_list)"
   ]
  },
  {
   "cell_type": "code",
   "execution_count": 22,
   "id": "d63a6f04",
   "metadata": {},
   "outputs": [
    {
     "data": {
      "text/plain": [
       "7"
      ]
     },
     "execution_count": 22,
     "metadata": {},
     "output_type": "execute_result"
    }
   ],
   "source": [
    "## index funtion when using on a list has to be an exact match\n",
    "complete_cars_list.index('Kia Soul')"
   ]
  },
  {
   "cell_type": "code",
   "execution_count": 29,
   "id": "6468dc35",
   "metadata": {},
   "outputs": [
    {
     "name": "stdout",
     "output_type": "stream",
     "text": [
      "1\n"
     ]
    }
   ],
   "source": [
    "# complete_cars_list.remove('mazda 3')\n",
    "# complete_cars_list.index('mazda 3')\n",
    "print(complete_cars_list.index('ford falcon'));"
   ]
  },
  {
   "cell_type": "code",
   "execution_count": 55,
   "id": "3a5631b1",
   "metadata": {},
   "outputs": [
    {
     "name": "stdout",
     "output_type": "stream",
     "text": [
      "['Bugatti Veryron', 'Hennessey venom gt ', 'Hyandai Elantra', 'Kia Soul']\n",
      "['Bugatti Veryron', 'Hennessey venom gt ', 'Hyandai Elantra', 'Kia Soul', 'Bugatti Veryron', 'Hennessey venom gt ', 'Hyandai Elantra', 'Kia Soul']\n"
     ]
    }
   ],
   "source": [
    "# complete_cars_list.remove('ceverolet Crise')\n",
    "# complete_cars_list.sort()\n",
    "len(complete_cars_list)\n",
    "print(complete_cars_list)\n",
    "\n",
    "\n",
    "# del complete_cars_list[4:11]\n",
    "\n",
    "complete_cars_list2 = ['BMW','mazda 6', 'toyota carola', 'volswaggon', 'mercedes']\n",
    "\n",
    "complete_cars_list_next2  = complete_cars_list +  complete_cars_list\n",
    "\n",
    "print(complete_cars_list_next2)"
   ]
  },
  {
   "cell_type": "code",
   "execution_count": 58,
   "id": "ec116dc3",
   "metadata": {},
   "outputs": [
    {
     "name": "stdout",
     "output_type": "stream",
     "text": [
      "940000\n"
     ]
    },
    {
     "data": {
      "text/plain": [
       "['Bugatti Veryron',\n",
       " 'Bugatti Veryron',\n",
       " 'Hennessey venom gt ',\n",
       " 'Hennessey venom gt ',\n",
       " 'Hyandai Elantra',\n",
       " 'Hyandai Elantra',\n",
       " 'Kia Soul',\n",
       " 'Kia Soul']"
      ]
     },
     "execution_count": 58,
     "metadata": {},
     "output_type": "execute_result"
    }
   ],
   "source": [
    "salary = 94000\n",
    "salary *= 10\n",
    "print(salary)\n",
    "\n",
    "complete_cars_list_next2.sort()\n",
    "\n",
    "complete_cars_list_next2"
   ]
  },
  {
   "cell_type": "code",
   "execution_count": 69,
   "id": "1f04c4d4",
   "metadata": {},
   "outputs": [
    {
     "data": {
      "text/plain": [
       "{'Bugatti Veryron',\n",
       " 'Hennessey venom gt ',\n",
       " 'Hyandai Elantra',\n",
       " 'Kia Soul',\n",
       " 'something1',\n",
       " 'something2'}"
      ]
     },
     "execution_count": 69,
     "metadata": {},
     "output_type": "execute_result"
    }
   ],
   "source": [
    "# complete_cars_list_next2.pop()\n",
    "# complete_cars_list_next2.extend(['something1','something2','something2'])\n",
    "\n",
    "complete_cars_list_next2.count('something3')\n",
    "\n",
    "set(complete_cars_list_next2)\n",
    "# del complete_cars_list_next2([7,])\n"
   ]
  },
  {
   "cell_type": "code",
   "execution_count": 70,
   "id": "db7af725",
   "metadata": {},
   "outputs": [
    {
     "name": "stdout",
     "output_type": "stream",
     "text": [
      "['toyota camry', 'ford falcon', 'land cruiser prado', 'mazda 3', 'Hyandai Elantra', 'nissan sentra', 'kia optima', 'Kia Soul']\n"
     ]
    }
   ],
   "source": [
    "print(cars_list)"
   ]
  },
  {
   "cell_type": "code",
   "execution_count": 71,
   "id": "b7a6f842",
   "metadata": {},
   "outputs": [],
   "source": [
    "import copy"
   ]
  },
  {
   "cell_type": "code",
   "execution_count": 74,
   "id": "f1f2fcb1",
   "metadata": {},
   "outputs": [
    {
     "name": "stdout",
     "output_type": "stream",
     "text": [
      "['Bugatti Veryron', 'Bugatti Veryron', 'Hennessey venom gt ', 'Hennessey venom gt ', 'Hyandai Elantra', 'Hyandai Elantra', 'Kia Soul', 'something1', 'something2', 'something2', 'something1', 'something2', 'something2', 'something1', 'something2', 'something2', 'something1', 'something2', 'something2']\n"
     ]
    }
   ],
   "source": [
    "# new_cars_list = copy.deepcopy(complete_cars_list_next2)\n",
    "print(new_cars_list)"
   ]
  },
  {
   "cell_type": "code",
   "execution_count": 75,
   "id": "76d5f7b0",
   "metadata": {},
   "outputs": [],
   "source": [
    "del complete_cars_list_next2"
   ]
  },
  {
   "cell_type": "code",
   "execution_count": 76,
   "id": "4eade95f",
   "metadata": {},
   "outputs": [
    {
     "ename": "NameError",
     "evalue": "name 'complete_cars_list_next2' is not defined",
     "output_type": "error",
     "traceback": [
      "\u001b[1;31m---------------------------------------------------------------------------\u001b[0m",
      "\u001b[1;31mNameError\u001b[0m                                 Traceback (most recent call last)",
      "Cell \u001b[1;32mIn[76], line 1\u001b[0m\n\u001b[1;32m----> 1\u001b[0m complete_cars_list_next2\n",
      "\u001b[1;31mNameError\u001b[0m: name 'complete_cars_list_next2' is not defined"
     ]
    }
   ],
   "source": [
    "complete_cars_list_next2"
   ]
  },
  {
   "cell_type": "code",
   "execution_count": 77,
   "id": "9c9bbcf4",
   "metadata": {},
   "outputs": [
    {
     "data": {
      "text/plain": [
       "['Bugatti Veryron',\n",
       " 'Bugatti Veryron',\n",
       " 'Hennessey venom gt ',\n",
       " 'Hennessey venom gt ',\n",
       " 'Hyandai Elantra',\n",
       " 'Hyandai Elantra',\n",
       " 'Kia Soul',\n",
       " 'something1',\n",
       " 'something2',\n",
       " 'something2',\n",
       " 'something1',\n",
       " 'something2',\n",
       " 'something2',\n",
       " 'something1',\n",
       " 'something2',\n",
       " 'something2',\n",
       " 'something1',\n",
       " 'something2',\n",
       " 'something2']"
      ]
     },
     "execution_count": 77,
     "metadata": {},
     "output_type": "execute_result"
    }
   ],
   "source": [
    "new_cars_list"
   ]
  },
  {
   "cell_type": "code",
   "execution_count": 6,
   "id": "88ee2ffb",
   "metadata": {},
   "outputs": [
    {
     "name": "stdout",
     "output_type": "stream",
     "text": [
      "['toyota camry', 'ford falcon', 'land cruiser prado', 'mazda 3']\n"
     ]
    }
   ],
   "source": [
    "cars_list = ['toyota camry', 'ford falcon', 'land cruiser prado', 'mazda 3']\n",
    "\n",
    "print(cars_list)"
   ]
  },
  {
   "cell_type": "code",
   "execution_count": 9,
   "id": "774098b2",
   "metadata": {},
   "outputs": [
    {
     "name": "stdout",
     "output_type": "stream",
     "text": [
      "['toyota camry', 'ford falcon', 'land cruiser prado', 'mazda 3', 'ferrari 458', 'hyandi accent', 'volswagon golf', 'honda civic', 'ferrari 458', 'hyandi accent', 'volswagon golf', 'honda civic']\n"
     ]
    }
   ],
   "source": [
    "cars_list.extend(['ferrari 458','hyandi accent','volswagon golf','honda civic'])\n",
    "print(cars_list)\n"
   ]
  },
  {
   "cell_type": "code",
   "execution_count": 10,
   "id": "df1f0282",
   "metadata": {},
   "outputs": [
    {
     "data": {
      "text/plain": [
       "{'ferrari 458',\n",
       " 'ford falcon',\n",
       " 'honda civic',\n",
       " 'hyandi accent',\n",
       " 'land cruiser prado',\n",
       " 'mazda 3',\n",
       " 'toyota camry',\n",
       " 'volswagon golf'}"
      ]
     },
     "execution_count": 10,
     "metadata": {},
     "output_type": "execute_result"
    }
   ],
   "source": [
    "set(cars_list)"
   ]
  }
 ],
 "metadata": {
  "kernelspec": {
   "display_name": "Python 3 (ipykernel)",
   "language": "python",
   "name": "python3"
  },
  "language_info": {
   "codemirror_mode": {
    "name": "ipython",
    "version": 3
   },
   "file_extension": ".py",
   "mimetype": "text/x-python",
   "name": "python",
   "nbconvert_exporter": "python",
   "pygments_lexer": "ipython3",
   "version": "3.11.5"
  }
 },
 "nbformat": 4,
 "nbformat_minor": 5
}
