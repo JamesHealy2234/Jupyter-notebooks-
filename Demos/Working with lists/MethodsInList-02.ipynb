{
 "cells": [
  {
   "cell_type": "code",
   "execution_count": 2,
   "id": "ecd97e12",
   "metadata": {},
   "outputs": [
    {
     "data": {
      "text/plain": [
       "[20, 40, 2, 2, 26, 33, 57]"
      ]
     },
     "execution_count": 2,
     "metadata": {},
     "output_type": "execute_result"
    }
   ],
   "source": [
    "list_num = [20,40,2,2,26,33,57]\n",
    "list_num"
   ]
  },
  {
   "cell_type": "code",
   "execution_count": 3,
   "id": "9acdf26c",
   "metadata": {},
   "outputs": [
    {
     "data": {
      "text/plain": [
       "57"
      ]
     },
     "execution_count": 3,
     "metadata": {},
     "output_type": "execute_result"
    }
   ],
   "source": [
    "max(list_num)"
   ]
  },
  {
   "cell_type": "code",
   "execution_count": 4,
   "id": "570610a3",
   "metadata": {},
   "outputs": [
    {
     "data": {
      "text/plain": [
       "2"
      ]
     },
     "execution_count": 4,
     "metadata": {},
     "output_type": "execute_result"
    }
   ],
   "source": [
    "min(list_num)"
   ]
  },
  {
   "cell_type": "code",
   "execution_count": 6,
   "id": "9db206d9",
   "metadata": {},
   "outputs": [
    {
     "data": {
      "text/plain": [
       "[2, 2, 20, 26, 33, 40, 57]"
      ]
     },
     "execution_count": 6,
     "metadata": {},
     "output_type": "execute_result"
    }
   ],
   "source": [
    "list_num.sort()\n",
    "list_num"
   ]
  },
  {
   "cell_type": "code",
   "execution_count": 8,
   "id": "f00af69e",
   "metadata": {},
   "outputs": [
    {
     "data": {
      "text/plain": [
       "[2, 2, 20, 26, 33, 40, 57, 28, 28]"
      ]
     },
     "execution_count": 8,
     "metadata": {},
     "output_type": "execute_result"
    }
   ],
   "source": [
    "list_num.append(28)\n",
    "list_num"
   ]
  },
  {
   "cell_type": "code",
   "execution_count": 12,
   "id": "c35165fe",
   "metadata": {},
   "outputs": [
    {
     "name": "stdout",
     "output_type": "stream",
     "text": [
      "[2, 2, 20, 26, 28, 28, 33, 40, 57]\n"
     ]
    }
   ],
   "source": [
    "sorted_list_num = sorted(list_num)\n",
    "print(sorted_list_num)"
   ]
  },
  {
   "cell_type": "code",
   "execution_count": 15,
   "id": "b0646bad",
   "metadata": {},
   "outputs": [
    {
     "name": "stdout",
     "output_type": "stream",
     "text": [
      "[2, 2, 20, 26, 33, 40, 57, 28, 28, 33, 33]\n"
     ]
    }
   ],
   "source": [
    "list_num.append(33)\n",
    "print(list_num)"
   ]
  },
  {
   "cell_type": "code",
   "execution_count": 17,
   "id": "e2546d98",
   "metadata": {},
   "outputs": [
    {
     "data": {
      "text/plain": [
       "302"
      ]
     },
     "execution_count": 17,
     "metadata": {},
     "output_type": "execute_result"
    }
   ],
   "source": [
    "sum(list_num)"
   ]
  },
  {
   "cell_type": "code",
   "execution_count": 19,
   "id": "96e34b81",
   "metadata": {},
   "outputs": [
    {
     "data": {
      "text/plain": [
       "[2,\n",
       " 2,\n",
       " 20,\n",
       " 26,\n",
       " 33,\n",
       " 40,\n",
       " 57,\n",
       " 28,\n",
       " 28,\n",
       " 33,\n",
       " 33,\n",
       " 2,\n",
       " 2,\n",
       " 20,\n",
       " 26,\n",
       " 33,\n",
       " 40,\n",
       " 57,\n",
       " 28,\n",
       " 28,\n",
       " 33,\n",
       " 33,\n",
       " 2,\n",
       " 2,\n",
       " 20,\n",
       " 26,\n",
       " 33,\n",
       " 40,\n",
       " 57,\n",
       " 28,\n",
       " 28,\n",
       " 33,\n",
       " 33,\n",
       " 2,\n",
       " 2,\n",
       " 20,\n",
       " 26,\n",
       " 33,\n",
       " 40,\n",
       " 57,\n",
       " 28,\n",
       " 28,\n",
       " 33,\n",
       " 33]"
      ]
     },
     "execution_count": 19,
     "metadata": {},
     "output_type": "execute_result"
    }
   ],
   "source": [
    "# list_num *= 2 \n",
    "list_num *= "
   ]
  },
  {
   "cell_type": "code",
   "execution_count": 20,
   "id": "cf66164f",
   "metadata": {},
   "outputs": [
    {
     "data": {
      "text/plain": [
       "False"
      ]
     },
     "execution_count": 20,
     "metadata": {},
     "output_type": "execute_result"
    }
   ],
   "source": [
    "all([0])"
   ]
  },
  {
   "cell_type": "code",
   "execution_count": 21,
   "id": "b28595e7",
   "metadata": {},
   "outputs": [
    {
     "data": {
      "text/plain": [
       "True"
      ]
     },
     "execution_count": 21,
     "metadata": {},
     "output_type": "execute_result"
    }
   ],
   "source": [
    "all([1])"
   ]
  },
  {
   "cell_type": "code",
   "execution_count": 22,
   "id": "48fb442d",
   "metadata": {},
   "outputs": [
    {
     "data": {
      "text/plain": [
       "True"
      ]
     },
     "execution_count": 22,
     "metadata": {},
     "output_type": "execute_result"
    }
   ],
   "source": [
    "all(list_num)"
   ]
  },
  {
   "cell_type": "code",
   "execution_count": 24,
   "id": "50703628",
   "metadata": {},
   "outputs": [
    {
     "data": {
      "text/plain": [
       "False"
      ]
     },
     "execution_count": 24,
     "metadata": {},
     "output_type": "execute_result"
    }
   ],
   "source": [
    "any([0]) "
   ]
  }
 ],
 "metadata": {
  "kernelspec": {
   "display_name": "Python 3 (ipykernel)",
   "language": "python",
   "name": "python3"
  },
  "language_info": {
   "codemirror_mode": {
    "name": "ipython",
    "version": 3
   },
   "file_extension": ".py",
   "mimetype": "text/x-python",
   "name": "python",
   "nbconvert_exporter": "python",
   "pygments_lexer": "ipython3",
   "version": "3.11.5"
  }
 },
 "nbformat": 4,
 "nbformat_minor": 5
}
