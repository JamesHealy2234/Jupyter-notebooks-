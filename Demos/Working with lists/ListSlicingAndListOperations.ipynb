{
 "cells": [
  {
   "cell_type": "code",
   "execution_count": 2,
   "id": "5efa8a80",
   "metadata": {},
   "outputs": [
    {
     "data": {
      "text/plain": [
       "['Toyaota Corolla',\n",
       " 'Toyota cammeray',\n",
       " 'nissan altina',\n",
       " 'kia soul',\n",
       " 'kia optina',\n",
       " 'honda civic']"
      ]
     },
     "execution_count": 2,
     "metadata": {},
     "output_type": "execute_result"
    }
   ],
   "source": [
    "my_car_list = ['Toyaota Corolla','Toyota cammeray', 'nissan altina','kia soul','kia optina', 'honda civic']\n",
    "\n",
    "my_car_list"
   ]
  },
  {
   "cell_type": "code",
   "execution_count": 4,
   "id": "8d8edaab",
   "metadata": {},
   "outputs": [
    {
     "data": {
      "text/plain": [
       "6"
      ]
     },
     "execution_count": 4,
     "metadata": {},
     "output_type": "execute_result"
    }
   ],
   "source": [
    "len(my_car_list)"
   ]
  },
  {
   "cell_type": "code",
   "execution_count": 9,
   "id": "ae51e3d6",
   "metadata": {},
   "outputs": [
    {
     "data": {
      "text/plain": [
       "'kia soul'"
      ]
     },
     "execution_count": 9,
     "metadata": {},
     "output_type": "execute_result"
    }
   ],
   "source": [
    "my_car_list[-3]"
   ]
  },
  {
   "cell_type": "code",
   "execution_count": 28,
   "id": "6c0078b6",
   "metadata": {},
   "outputs": [
    {
     "name": "stdout",
     "output_type": "stream",
     "text": [
      "['Toyaota Corolla', 'nissan altina', 'kia soul', 'kia optina', 'honda civic', 'volswagon golf', 'nissan GTR']\n",
      "['Toyaota Corolla', 'nissan altina', 'kia soul', 'kia optina', 'honda civic', 'volswagon golf', 'nissan GTR']\n"
     ]
    }
   ],
   "source": [
    "## list slicing operatoins\n",
    "\n",
    "# my_car_list[0:4]\n",
    "\n",
    "\n",
    "\n",
    "# my_car_list.remove(['Toyota cammeray'])\n",
    "\n",
    "print(my_car_list)\n",
    "\n",
    "\n",
    "# my_car_list.remove('Toyota cammeray')\n",
    "\n",
    "print(my_car_list)\n",
    "\n",
    "# my_car_list.extend(['volswagon golf','nissan GTR'])\n"
   ]
  },
  {
   "cell_type": "code",
   "execution_count": 32,
   "id": "a3041242",
   "metadata": {},
   "outputs": [
    {
     "data": {
      "text/plain": [
       "['Toyaota Corolla', 'nissan altina', 'kia soul', 'kia optina']"
      ]
     },
     "execution_count": 32,
     "metadata": {},
     "output_type": "execute_result"
    }
   ],
   "source": [
    "my_car_list[0:4]"
   ]
  },
  {
   "cell_type": "code",
   "execution_count": 36,
   "id": "1b980044",
   "metadata": {},
   "outputs": [
    {
     "data": {
      "text/plain": [
       "['Toyaota Corolla',\n",
       " 'nissan altina',\n",
       " 'kia soul',\n",
       " 'kia optina',\n",
       " 'honda civic',\n",
       " 'volswagon golf',\n",
       " 'nissan GTR']"
      ]
     },
     "execution_count": 36,
     "metadata": {},
     "output_type": "execute_result"
    }
   ],
   "source": [
    "my_car_list"
   ]
  },
  {
   "cell_type": "code",
   "execution_count": 44,
   "id": "1bb28fe9",
   "metadata": {},
   "outputs": [
    {
     "data": {
      "text/plain": [
       "['Toyaota Corolla', 'kia soul', 'honda civic', 'nissan GTR', 'Hyundai Sonata']"
      ]
     },
     "execution_count": 44,
     "metadata": {},
     "output_type": "execute_result"
    }
   ],
   "source": [
    "## my_car_list.extend(['Tesla Model 3', 'Hyundai Sonata'])\n",
    "my_car_list[::2]\n",
    "\n",
    "## going by 2 in the list\n"
   ]
  },
  {
   "cell_type": "code",
   "execution_count": 4,
   "id": "b3eebe15",
   "metadata": {},
   "outputs": [],
   "source": [
    "my_car_list = ['Toyaota Corolla','Toyota cammeray', 'nissan altina','kia soul','kia optina', 'honda civic']"
   ]
  },
  {
   "cell_type": "code",
   "execution_count": 5,
   "id": "4da59f64",
   "metadata": {},
   "outputs": [
    {
     "data": {
      "text/plain": [
       "['Toyaota Corolla',\n",
       " 'Toyota cammeray',\n",
       " 'nissan altina',\n",
       " 'kia soul',\n",
       " 'kia optina',\n",
       " 'honda civic']"
      ]
     },
     "execution_count": 5,
     "metadata": {},
     "output_type": "execute_result"
    }
   ],
   "source": [
    "my_car_list"
   ]
  },
  {
   "cell_type": "code",
   "execution_count": 8,
   "id": "1c01bf19",
   "metadata": {},
   "outputs": [],
   "source": [
    "my_car_list.append(['ferrari 458', 'nissan Gtr' , 'mazda Rx 7'])"
   ]
  },
  {
   "cell_type": "code",
   "execution_count": 9,
   "id": "5a3b7ead",
   "metadata": {},
   "outputs": [
    {
     "data": {
      "text/plain": [
       "['Toyaota Corolla',\n",
       " 'Toyota cammeray',\n",
       " 'nissan altina',\n",
       " 'kia soul',\n",
       " 'kia optina',\n",
       " 'honda civic',\n",
       " ['ferrari 458', 'nissan Gtr', 'mazda Rx 7']]"
      ]
     },
     "execution_count": 9,
     "metadata": {},
     "output_type": "execute_result"
    }
   ],
   "source": [
    "my_car_list "
   ]
  },
  {
   "cell_type": "code",
   "execution_count": 11,
   "id": "d35f75ac",
   "metadata": {},
   "outputs": [
    {
     "data": {
      "text/plain": [
       "['Toyaota Corolla',\n",
       " 'Toyota cammeray',\n",
       " 'nissan altina',\n",
       " 'kia soul',\n",
       " 'kia optina',\n",
       " 'honda civic']"
      ]
     },
     "execution_count": 11,
     "metadata": {},
     "output_type": "execute_result"
    }
   ],
   "source": [
    "my_car_list[0:6]"
   ]
  },
  {
   "cell_type": "code",
   "execution_count": 13,
   "id": "4ced663c",
   "metadata": {},
   "outputs": [
    {
     "data": {
      "text/plain": [
       "['Toyaota Corolla',\n",
       " 'Toyota cammeray',\n",
       " 'nissan altina',\n",
       " 'kia soul',\n",
       " 'kia optina',\n",
       " 'honda civic',\n",
       " ['ferrari 458', 'nissan Gtr', 'mazda Rx 7']]"
      ]
     },
     "execution_count": 13,
     "metadata": {},
     "output_type": "execute_result"
    }
   ],
   "source": [
    "my_car_list[0:7]"
   ]
  },
  {
   "cell_type": "code",
   "execution_count": 15,
   "id": "e93f9845",
   "metadata": {},
   "outputs": [
    {
     "data": {
      "text/plain": [
       "['kia soul',\n",
       " 'kia optina',\n",
       " 'honda civic',\n",
       " ['ferrari 458', 'nissan Gtr', 'mazda Rx 7']]"
      ]
     },
     "execution_count": 15,
     "metadata": {},
     "output_type": "execute_result"
    }
   ],
   "source": [
    "my_car_list[3:]"
   ]
  },
  {
   "cell_type": "code",
   "execution_count": 23,
   "id": "10eeca70",
   "metadata": {},
   "outputs": [],
   "source": [
    "my_car_list.insert(8, \"mazda 3\")"
   ]
  },
  {
   "cell_type": "code",
   "execution_count": 24,
   "id": "5383a50a",
   "metadata": {},
   "outputs": [
    {
     "data": {
      "text/plain": [
       "['Toyaota Corolla',\n",
       " 'Toyota cammeray',\n",
       " 'nissan altina',\n",
       " 'kia soul',\n",
       " 'kia optina',\n",
       " 'honda civic',\n",
       " ['ferrari 458', 'nissan Gtr', 'mazda Rx 7'],\n",
       " 'mazda 3']"
      ]
     },
     "execution_count": 24,
     "metadata": {},
     "output_type": "execute_result"
    }
   ],
   "source": [
    "my_car_list"
   ]
  },
  {
   "cell_type": "code",
   "execution_count": 26,
   "id": "cff7cd69",
   "metadata": {},
   "outputs": [],
   "source": [
    "my_cars_list = ['Toyaota Corolla','Toyota cammeray', 'nissan altina', 'kia soul', 'kia optina', 'honda civic']"
   ]
  },
  {
   "cell_type": "code",
   "execution_count": 27,
   "id": "397aba66",
   "metadata": {},
   "outputs": [
    {
     "data": {
      "text/plain": [
       "['Toyaota Corolla',\n",
       " 'Toyota cammeray',\n",
       " 'nissan altina',\n",
       " 'kia soul',\n",
       " 'kia optina',\n",
       " 'honda civic']"
      ]
     },
     "execution_count": 27,
     "metadata": {},
     "output_type": "execute_result"
    }
   ],
   "source": [
    "my_cars_list"
   ]
  },
  {
   "cell_type": "code",
   "execution_count": 29,
   "id": "1ec1a959",
   "metadata": {},
   "outputs": [
    {
     "data": {
      "text/plain": [
       "['Toyaota Corolla',\n",
       " 'Toyota cammeray',\n",
       " 'nissan altina',\n",
       " 'kia soul',\n",
       " 'kia optina']"
      ]
     },
     "execution_count": 29,
     "metadata": {},
     "output_type": "execute_result"
    }
   ],
   "source": [
    "my_car_list[0:5:]"
   ]
  },
  {
   "cell_type": "code",
   "execution_count": 31,
   "id": "7564736f",
   "metadata": {},
   "outputs": [
    {
     "data": {
      "text/plain": [
       "['nissan altina', 'kia optina']"
      ]
     },
     "execution_count": 31,
     "metadata": {},
     "output_type": "execute_result"
    }
   ],
   "source": [
    "my_car_list[2:5:2]"
   ]
  },
  {
   "cell_type": "code",
   "execution_count": 32,
   "id": "7d74946d",
   "metadata": {},
   "outputs": [
    {
     "data": {
      "text/plain": [
       "['Toyota cammeray', 'kia soul']"
      ]
     },
     "execution_count": 32,
     "metadata": {},
     "output_type": "execute_result"
    }
   ],
   "source": [
    "my_car_list[1:4:2]"
   ]
  },
  {
   "cell_type": "code",
   "execution_count": 46,
   "id": "102bb026",
   "metadata": {},
   "outputs": [
    {
     "data": {
      "text/plain": [
       "['kia optina', 'kia soul', 'nissan altina']"
      ]
     },
     "execution_count": 46,
     "metadata": {},
     "output_type": "execute_result"
    }
   ],
   "source": [
    "my_car_list[4:1:-1]"
   ]
  },
  {
   "cell_type": "code",
   "execution_count": 58,
   "id": "29a7e385",
   "metadata": {},
   "outputs": [
    {
     "data": {
      "text/plain": [
       "['Toyaota Corolla',\n",
       " 'Toyota cammeray',\n",
       " 'nissan altina',\n",
       " 'kia soul',\n",
       " 'kia optina',\n",
       " 'honda civic']"
      ]
     },
     "execution_count": 58,
     "metadata": {},
     "output_type": "execute_result"
    }
   ],
   "source": [
    "my_car_list"
   ]
  },
  {
   "cell_type": "code",
   "execution_count": 60,
   "id": "259e5045",
   "metadata": {},
   "outputs": [
    {
     "data": {
      "text/plain": [
       "['Toyaota Corolla',\n",
       " 'Toyota cammeray',\n",
       " 'nissan altina',\n",
       " 'kia soul',\n",
       " 'kia optina',\n",
       " 'honda civic',\n",
       " 'Ford Focus',\n",
       " 'Dodge Charger']"
      ]
     },
     "execution_count": 60,
     "metadata": {},
     "output_type": "execute_result"
    }
   ],
   "source": [
    "##my_car_list[6:-1] = ['Ford Focus', 'Dodge Charger']\n",
    "\n",
    "my_car_list"
   ]
  },
  {
   "cell_type": "code",
   "execution_count": 61,
   "id": "c9df681e",
   "metadata": {},
   "outputs": [
    {
     "data": {
      "text/plain": [
       "True"
      ]
     },
     "execution_count": 61,
     "metadata": {},
     "output_type": "execute_result"
    }
   ],
   "source": [
    "'Ford Focus' in my_car_list ## check if ford focus is in list"
   ]
  },
  {
   "cell_type": "code",
   "execution_count": 62,
   "id": "cad0a5fd",
   "metadata": {},
   "outputs": [
    {
     "data": {
      "text/plain": [
       "'Ford Focus'"
      ]
     },
     "execution_count": 62,
     "metadata": {},
     "output_type": "execute_result"
    }
   ],
   "source": [
    "my_car_list.pop(-2)"
   ]
  },
  {
   "cell_type": "code",
   "execution_count": 63,
   "id": "ddf64df0",
   "metadata": {},
   "outputs": [
    {
     "data": {
      "text/plain": [
       "False"
      ]
     },
     "execution_count": 63,
     "metadata": {},
     "output_type": "execute_result"
    }
   ],
   "source": [
    "'Ford Focus' in my_car_list\n"
   ]
  }
 ],
 "metadata": {
  "kernelspec": {
   "display_name": "Python 3 (ipykernel)",
   "language": "python",
   "name": "python3"
  },
  "language_info": {
   "codemirror_mode": {
    "name": "ipython",
    "version": 3
   },
   "file_extension": ".py",
   "mimetype": "text/x-python",
   "name": "python",
   "nbconvert_exporter": "python",
   "pygments_lexer": "ipython3",
   "version": "3.11.5"
  }
 },
 "nbformat": 4,
 "nbformat_minor": 5
}
