{
 "cells": [
  {
   "cell_type": "code",
   "execution_count": 11,
   "id": "1defa0e3",
   "metadata": {},
   "outputs": [
    {
     "name": "stdout",
     "output_type": "stream",
     "text": [
      "[1, 2.5, 'num', True, 'a']\n"
     ]
    }
   ],
   "source": [
    "num_list = [1, 2.5, 'num', True,'a']\n",
    "print(num_list)"
   ]
  },
  {
   "cell_type": "code",
   "execution_count": 12,
   "id": "a0c604b4",
   "metadata": {},
   "outputs": [
    {
     "data": {
      "text/plain": [
       "str"
      ]
     },
     "execution_count": 12,
     "metadata": {},
     "output_type": "execute_result"
    }
   ],
   "source": [
    "type(num_list[4])"
   ]
  },
  {
   "cell_type": "code",
   "execution_count": 14,
   "id": "c82b3717",
   "metadata": {},
   "outputs": [
    {
     "data": {
      "text/plain": [
       "(1, 2.5, 'num', True)"
      ]
     },
     "execution_count": 14,
     "metadata": {},
     "output_type": "execute_result"
    }
   ],
   "source": [
    "num_t = (1, 2.5, 'num',  True)\n",
    "num_t\n",
    "\n",
    "\n",
    " ##main difference between tuple and list is that tuple are immutable"
   ]
  },
  {
   "cell_type": "code",
   "execution_count": 15,
   "id": "f00edd6b",
   "metadata": {},
   "outputs": [
    {
     "data": {
      "text/plain": [
       "tuple"
      ]
     },
     "execution_count": 15,
     "metadata": {},
     "output_type": "execute_result"
    }
   ],
   "source": [
    "type(num_t)"
   ]
  },
  {
   "cell_type": "code",
   "execution_count": 17,
   "id": "1fbb2ac8",
   "metadata": {},
   "outputs": [
    {
     "data": {
      "text/plain": [
       "bool"
      ]
     },
     "execution_count": 17,
     "metadata": {},
     "output_type": "execute_result"
    }
   ],
   "source": [
    "type(num_t[3])"
   ]
  },
  {
   "cell_type": "code",
   "execution_count": 19,
   "id": "5d2428e1",
   "metadata": {},
   "outputs": [
    {
     "data": {
      "text/plain": [
       "dict"
      ]
     },
     "execution_count": 19,
     "metadata": {},
     "output_type": "execute_result"
    }
   ],
   "source": [
    "my_dictionary = {\"a\":25,\"b\":3,\"v\":4,\"v\":6}\n",
    "my_dictionary\n",
    "\n",
    "type(my_dictionary)\n",
    "\n",
    "\n",
    "new_list[0:3]\n",
    "\n",
    "## up to but not including 3"
   ]
  }
 ],
 "metadata": {
  "kernelspec": {
   "display_name": "Python 3 (ipykernel)",
   "language": "python",
   "name": "python3"
  },
  "language_info": {
   "codemirror_mode": {
    "name": "ipython",
    "version": 3
   },
   "file_extension": ".py",
   "mimetype": "text/x-python",
   "name": "python",
   "nbconvert_exporter": "python",
   "pygments_lexer": "ipython3",
   "version": "3.11.5"
  }
 },
 "nbformat": 4,
 "nbformat_minor": 5
}
