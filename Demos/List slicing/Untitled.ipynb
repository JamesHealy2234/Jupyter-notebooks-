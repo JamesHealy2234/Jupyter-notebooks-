{
 "cells": [
  {
   "cell_type": "code",
   "execution_count": 1,
   "id": "642e1357",
   "metadata": {},
   "outputs": [
    {
     "data": {
      "text/plain": [
       "('apple', 'Banana', 'cherry')"
      ]
     },
     "execution_count": 1,
     "metadata": {},
     "output_type": "execute_result"
    }
   ],
   "source": [
    "Fruits = (\"apple\", \"Banana\", \"cherry\")\n",
    "Fruits"
   ]
  },
  {
   "cell_type": "code",
   "execution_count": 5,
   "id": "5b28a682",
   "metadata": {},
   "outputs": [],
   "source": [
    "new_fruits = Fruits"
   ]
  },
  {
   "cell_type": "code",
   "execution_count": 6,
   "id": "fb77ad36",
   "metadata": {},
   "outputs": [
    {
     "name": "stdout",
     "output_type": "stream",
     "text": [
      "Original:  ('apple', 'Banana', 'cherry')\n",
      "Modified ('apple', 'Banana', 'cherry')\n"
     ]
    }
   ],
   "source": [
    "print(\"Original: \", Fruits)\n",
    "print(\"Modified\", new_fruits)"
   ]
  },
  {
   "cell_type": "code",
   "execution_count": 7,
   "id": "069122d5",
   "metadata": {},
   "outputs": [
    {
     "data": {
      "text/plain": [
       "'cherry'"
      ]
     },
     "execution_count": 7,
     "metadata": {},
     "output_type": "execute_result"
    }
   ],
   "source": [
    "new_fruits[2]"
   ]
  },
  {
   "cell_type": "code",
   "execution_count": 8,
   "id": "94661a94",
   "metadata": {},
   "outputs": [
    {
     "ename": "TypeError",
     "evalue": "'tuple' object does not support item assignment",
     "output_type": "error",
     "traceback": [
      "\u001b[1;31m---------------------------------------------------------------------------\u001b[0m",
      "\u001b[1;31mTypeError\u001b[0m                                 Traceback (most recent call last)",
      "Cell \u001b[1;32mIn[8], line 1\u001b[0m\n\u001b[1;32m----> 1\u001b[0m new_fruits[\u001b[38;5;241m2\u001b[39m] \u001b[38;5;241m=\u001b[39m \u001b[38;5;124m\"\u001b[39m\u001b[38;5;124morange\u001b[39m\u001b[38;5;124m\"\u001b[39m\n",
      "\u001b[1;31mTypeError\u001b[0m: 'tuple' object does not support item assignment"
     ]
    }
   ],
   "source": [
    "new_fruits[2] = \"orange\" ## tuple is immutable"
   ]
  },
  {
   "cell_type": "code",
   "execution_count": 10,
   "id": "d93c260f",
   "metadata": {},
   "outputs": [
    {
     "data": {
      "text/plain": [
       "('apple', ['banana', 'cherry'], 'blackcurrant')"
      ]
     },
     "execution_count": 10,
     "metadata": {},
     "output_type": "execute_result"
    }
   ],
   "source": [
    "fruits = (\"apple\", [\"banana\", 'cherry'], 'blackcurrant')\n",
    "\n",
    "fruits"
   ]
  },
  {
   "cell_type": "code",
   "execution_count": 11,
   "id": "207bd419",
   "metadata": {},
   "outputs": [],
   "source": [
    "new_fruits = fruits"
   ]
  },
  {
   "cell_type": "code",
   "execution_count": 12,
   "id": "5e79a46d",
   "metadata": {},
   "outputs": [
    {
     "name": "stdout",
     "output_type": "stream",
     "text": [
      "Original:  ('apple', ['banana', 'cherry'], 'blackcurrant')\n",
      "Modified ('apple', ['banana', 'cherry'], 'blackcurrant')\n"
     ]
    }
   ],
   "source": [
    "print(\"Original: \", fruits)\n",
    "print(\"Modified\", new_fruits)"
   ]
  },
  {
   "cell_type": "code",
   "execution_count": 13,
   "id": "d92e4865",
   "metadata": {},
   "outputs": [
    {
     "data": {
      "text/plain": [
       "'banana'"
      ]
     },
     "execution_count": 13,
     "metadata": {},
     "output_type": "execute_result"
    }
   ],
   "source": [
    "new_fruits[1][0]"
   ]
  },
  {
   "cell_type": "code",
   "execution_count": 15,
   "id": "88d3a307",
   "metadata": {},
   "outputs": [
    {
     "name": "stdout",
     "output_type": "stream",
     "text": [
      "Original:  ('apple', ['orange', 'cherry'], 'blackcurrant')\n",
      "Modified ('apple', ['orange', 'cherry'], 'blackcurrant')\n"
     ]
    }
   ],
   "source": [
    "new_fruits[1][0] = 'orange'\n",
    "print(\"Original: \", fruits)\n",
    "print(\"Modified\", new_fruits)"
   ]
  },
  {
   "cell_type": "code",
   "execution_count": 17,
   "id": "3934574f",
   "metadata": {},
   "outputs": [
    {
     "data": {
      "text/plain": [
       "(['Honda', 'Ducati'], 'Suzuki', 'Triumpy', 'Yamaha')"
      ]
     },
     "execution_count": 17,
     "metadata": {},
     "output_type": "execute_result"
    }
   ],
   "source": [
    "import copy\n",
    "\n",
    "bikes = (['Honda', 'Ducati'], 'Suzuki', 'Triumpy', 'Yamaha')\n",
    "bikes"
   ]
  },
  {
   "cell_type": "code",
   "execution_count": 18,
   "id": "6d001eac",
   "metadata": {},
   "outputs": [],
   "source": [
    "new_bikes = copy.copy(bikes)"
   ]
  },
  {
   "cell_type": "code",
   "execution_count": 19,
   "id": "79eb009b",
   "metadata": {},
   "outputs": [
    {
     "name": "stdout",
     "output_type": "stream",
     "text": [
      "Original:  (['Honda', 'Ducati'], 'Suzuki', 'Triumpy', 'Yamaha')\n",
      "Modified (['Honda', 'Ducati'], 'Suzuki', 'Triumpy', 'Yamaha')\n"
     ]
    }
   ],
   "source": [
    "print(\"Original: \", bikes)\n",
    "print(\"Modified\", new_bikes)"
   ]
  },
  {
   "cell_type": "code",
   "execution_count": 26,
   "id": "22ec74e6",
   "metadata": {},
   "outputs": [
    {
     "name": "stdout",
     "output_type": "stream",
     "text": [
      "Original:  (['Dodge', 'Ducati'], 'Suzuki', 'Triumpy', 'Yamaha')\n",
      "Modified (['Dodge', 'Ducati'], 'Suzuki', 'Triumpy', 'Yamaha')\n"
     ]
    }
   ],
   "source": [
    "# new_bikes[2] = 'Dodge'\n",
    "\n",
    "print(\"Original: \", bikes)\n",
    "print(\"Modified\", new_bikes)\n",
    "\n",
    "new_bikes = copy.deepcopy(bikes)"
   ]
  },
  {
   "cell_type": "code",
   "execution_count": 27,
   "id": "756b3e9a",
   "metadata": {},
   "outputs": [
    {
     "name": "stdout",
     "output_type": "stream",
     "text": [
      "Original:  (['Dodge', 'Ducati'], 'Suzuki', 'Triumpy', 'Yamaha')\n",
      "Modified (['Dodge', 'Ducati'], 'Suzuki', 'Triumpy', 'Yamaha')\n"
     ]
    }
   ],
   "source": [
    "print(\"Original: \", bikes)\n",
    "print(\"Modified\", new_bikes)"
   ]
  },
  {
   "cell_type": "code",
   "execution_count": 29,
   "id": "af2157e0",
   "metadata": {},
   "outputs": [
    {
     "name": "stdout",
     "output_type": "stream",
     "text": [
      "Original:  (['Dodge', 'Ducati'], 'Suzuki', 'Triumpy', 'Yamaha')\n",
      "Modified (['Harley Davidson', 'Ducati'], 'Suzuki', 'Triumpy', 'Yamaha')\n"
     ]
    }
   ],
   "source": [
    "new_bikes[0][0] = \"Harley Davidson\"\n",
    "print(\"Original: \", bikes)\n",
    "print(\"Modified\", new_bikes)"
   ]
  }
 ],
 "metadata": {
  "kernelspec": {
   "display_name": "Python 3 (ipykernel)",
   "language": "python",
   "name": "python3"
  },
  "language_info": {
   "codemirror_mode": {
    "name": "ipython",
    "version": 3
   },
   "file_extension": ".py",
   "mimetype": "text/x-python",
   "name": "python",
   "nbconvert_exporter": "python",
   "pygments_lexer": "ipython3",
   "version": "3.11.5"
  }
 },
 "nbformat": 4,
 "nbformat_minor": 5
}
