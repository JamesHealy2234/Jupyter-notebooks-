{
 "cells": [
  {
   "cell_type": "code",
   "execution_count": 1,
   "id": "f55d270f",
   "metadata": {},
   "outputs": [
    {
     "name": "stdout",
     "output_type": "stream",
     "text": [
      "world\n"
     ]
    }
   ],
   "source": [
    "print('world')"
   ]
  },
  {
   "cell_type": "code",
   "execution_count": 2,
   "id": "1071e88d",
   "metadata": {},
   "outputs": [],
   "source": [
    "x = 'World'"
   ]
  },
  {
   "cell_type": "code",
   "execution_count": 7,
   "id": "8a40c179",
   "metadata": {},
   "outputs": [
    {
     "data": {
      "text/plain": [
       "'d'"
      ]
     },
     "execution_count": 7,
     "metadata": {},
     "output_type": "execute_result"
    }
   ],
   "source": [
    "x[4] ## 0-5"
   ]
  },
  {
   "cell_type": "code",
   "execution_count": 15,
   "id": "54a8bd12",
   "metadata": {},
   "outputs": [
    {
     "ename": "ValueError",
     "evalue": "too many values to unpack (expected 4)",
     "output_type": "error",
     "traceback": [
      "\u001b[1;31m---------------------------------------------------------------------------\u001b[0m",
      "\u001b[1;31mValueError\u001b[0m                                Traceback (most recent call last)",
      "Cell \u001b[1;32mIn[15], line 1\u001b[0m\n\u001b[1;32m----> 1\u001b[0m a,b,c,d \u001b[38;5;241m=\u001b[39m x\n\u001b[0;32m      3\u001b[0m \u001b[38;5;28mprint\u001b[39m(e)\n",
      "\u001b[1;31mValueError\u001b[0m: too many values to unpack (expected 4)"
     ]
    }
   ],
   "source": [
    "a,b,c,d = x\n",
    "\n",
    "print(e)"
   ]
  },
  {
   "cell_type": "code",
   "execution_count": 18,
   "id": "ca45e92d",
   "metadata": {},
   "outputs": [
    {
     "name": "stdout",
     "output_type": "stream",
     "text": [
      "d\n"
     ]
    }
   ],
   "source": [
    "a,b,_,_,_ = x \n",
    "print(_)"
   ]
  },
  {
   "cell_type": "code",
   "execution_count": 19,
   "id": "88de8dd6",
   "metadata": {},
   "outputs": [
    {
     "name": "stdout",
     "output_type": "stream",
     "text": [
      "how are you?: ok\n"
     ]
    },
    {
     "data": {
      "text/plain": [
       "'ok'"
      ]
     },
     "execution_count": 19,
     "metadata": {},
     "output_type": "execute_result"
    }
   ],
   "source": [
    "input('how are you?: ')"
   ]
  },
  {
   "cell_type": "code",
   "execution_count": 66,
   "id": "fb3c1706",
   "metadata": {},
   "outputs": [
    {
     "name": "stdout",
     "output_type": "stream",
     "text": [
      "where are youy from? : New York City\n"
     ]
    }
   ],
   "source": [
    "place = input(\"where are youy from? : \")"
   ]
  },
  {
   "cell_type": "code",
   "execution_count": 23,
   "id": "3b44dc53",
   "metadata": {},
   "outputs": [
    {
     "data": {
      "text/plain": [
       "'City'"
      ]
     },
     "execution_count": 23,
     "metadata": {},
     "output_type": "execute_result"
    }
   ],
   "source": [
    "place[9:]"
   ]
  },
  {
   "cell_type": "code",
   "execution_count": 24,
   "id": "e15cb486",
   "metadata": {},
   "outputs": [
    {
     "data": {
      "text/plain": [
       "'City'"
      ]
     },
     "execution_count": 24,
     "metadata": {},
     "output_type": "execute_result"
    }
   ],
   "source": [
    "place[-4:]"
   ]
  },
  {
   "cell_type": "code",
   "execution_count": 25,
   "id": "0f39b384",
   "metadata": {},
   "outputs": [
    {
     "data": {
      "text/plain": [
       "'York '"
      ]
     },
     "execution_count": 25,
     "metadata": {},
     "output_type": "execute_result"
    }
   ],
   "source": [
    "place[4:-4]"
   ]
  },
  {
   "cell_type": "code",
   "execution_count": 26,
   "id": "7bb2686c",
   "metadata": {},
   "outputs": [
    {
     "data": {
      "text/plain": [
       "'NwYr'"
      ]
     },
     "execution_count": 26,
     "metadata": {},
     "output_type": "execute_result"
    }
   ],
   "source": [
    "place[0:8:2]"
   ]
  },
  {
   "cell_type": "code",
   "execution_count": 30,
   "id": "a1f66d64",
   "metadata": {},
   "outputs": [
    {
     "name": "stdout",
     "output_type": "stream",
     "text": [
      "New Yor\n"
     ]
    }
   ],
   "source": [
    "city = place[:8]\n",
    "print(city)"
   ]
  },
  {
   "cell_type": "code",
   "execution_count": 31,
   "id": "9062f1de",
   "metadata": {},
   "outputs": [],
   "source": [
    "del city"
   ]
  },
  {
   "cell_type": "code",
   "execution_count": 32,
   "id": "23382f51",
   "metadata": {},
   "outputs": [
    {
     "ename": "NameError",
     "evalue": "name 'city' is not defined",
     "output_type": "error",
     "traceback": [
      "\u001b[1;31m---------------------------------------------------------------------------\u001b[0m",
      "\u001b[1;31mNameError\u001b[0m                                 Traceback (most recent call last)",
      "Cell \u001b[1;32mIn[32], line 1\u001b[0m\n\u001b[1;32m----> 1\u001b[0m city\n",
      "\u001b[1;31mNameError\u001b[0m: name 'city' is not defined"
     ]
    }
   ],
   "source": [
    "city"
   ]
  },
  {
   "cell_type": "code",
   "execution_count": 34,
   "id": "8dff1abe",
   "metadata": {},
   "outputs": [
    {
     "name": "stdout",
     "output_type": "stream",
     "text": [
      "True\n",
      "False\n"
     ]
    }
   ],
   "source": [
    "print(place.startswith('N'))\n",
    "\n",
    "print(place.startswith('n')) "
   ]
  },
  {
   "cell_type": "code",
   "execution_count": 35,
   "id": "f0dc7caa",
   "metadata": {},
   "outputs": [
    {
     "data": {
      "text/plain": [
       "1"
      ]
     },
     "execution_count": 35,
     "metadata": {},
     "output_type": "execute_result"
    }
   ],
   "source": [
    "place.count('y')"
   ]
  },
  {
   "cell_type": "code",
   "execution_count": 37,
   "id": "f4e479bc",
   "metadata": {},
   "outputs": [
    {
     "data": {
      "text/plain": [
       "'new york city'"
      ]
     },
     "execution_count": 37,
     "metadata": {},
     "output_type": "execute_result"
    }
   ],
   "source": [
    "lower_place = place.lower()\n",
    "lower_place"
   ]
  },
  {
   "cell_type": "code",
   "execution_count": 38,
   "id": "57ef0baf",
   "metadata": {},
   "outputs": [
    {
     "name": "stdout",
     "output_type": "stream",
     "text": [
      "NEW YORK CITY\n"
     ]
    }
   ],
   "source": [
    "upper_place = place.upper()\n",
    "print(upper_place)"
   ]
  },
  {
   "cell_type": "code",
   "execution_count": 39,
   "id": "a02b4759",
   "metadata": {},
   "outputs": [
    {
     "data": {
      "text/plain": [
       "False"
      ]
     },
     "execution_count": 39,
     "metadata": {},
     "output_type": "execute_result"
    }
   ],
   "source": [
    "## check if the values are true \n",
    "lower_place == upper_place"
   ]
  },
  {
   "cell_type": "code",
   "execution_count": 40,
   "id": "349ebfbf",
   "metadata": {},
   "outputs": [
    {
     "data": {
      "text/plain": [
       "9"
      ]
     },
     "execution_count": 40,
     "metadata": {},
     "output_type": "execute_result"
    }
   ],
   "source": [
    "place.find('C')"
   ]
  },
  {
   "cell_type": "code",
   "execution_count": 41,
   "id": "78d2372d",
   "metadata": {},
   "outputs": [
    {
     "data": {
      "text/plain": [
       "4"
      ]
     },
     "execution_count": 41,
     "metadata": {},
     "output_type": "execute_result"
    }
   ],
   "source": [
    "place.find('York')"
   ]
  },
  {
   "cell_type": "code",
   "execution_count": 44,
   "id": "d90cf13a",
   "metadata": {},
   "outputs": [
    {
     "data": {
      "text/plain": [
       "'New York City'"
      ]
     },
     "execution_count": 44,
     "metadata": {},
     "output_type": "execute_result"
    }
   ],
   "source": [
    "place"
   ]
  },
  {
   "cell_type": "code",
   "execution_count": 48,
   "id": "2bb7b1db",
   "metadata": {},
   "outputs": [
    {
     "ename": "ValueError",
     "evalue": "substring not found",
     "output_type": "error",
     "traceback": [
      "\u001b[1;31m---------------------------------------------------------------------------\u001b[0m",
      "\u001b[1;31mValueError\u001b[0m                                Traceback (most recent call last)",
      "Cell \u001b[1;32mIn[48], line 1\u001b[0m\n\u001b[1;32m----> 1\u001b[0m place\u001b[38;5;241m.\u001b[39mindex(\u001b[38;5;124m'\u001b[39m\u001b[38;5;124mT\u001b[39m\u001b[38;5;124m'\u001b[39m)\n\u001b[0;32m      2\u001b[0m place\u001b[38;5;241m.\u001b[39mfind(\u001b[38;5;124m'\u001b[39m\u001b[38;5;124mc\u001b[39m\u001b[38;5;124m'\u001b[39m)\n",
      "\u001b[1;31mValueError\u001b[0m: substring not found"
     ]
    }
   ],
   "source": [
    "place.index('T')\n"
   ]
  },
  {
   "cell_type": "code",
   "execution_count": 50,
   "id": "4b569515",
   "metadata": {},
   "outputs": [
    {
     "data": {
      "text/plain": [
       "-1"
      ]
     },
     "execution_count": 50,
     "metadata": {},
     "output_type": "execute_result"
    }
   ],
   "source": [
    "place.find('c')"
   ]
  },
  {
   "cell_type": "code",
   "execution_count": 68,
   "id": "eacbebb3",
   "metadata": {},
   "outputs": [
    {
     "data": {
      "text/plain": [
       "['New', 'York', 'City']"
      ]
     },
     "execution_count": 68,
     "metadata": {},
     "output_type": "execute_result"
    }
   ],
   "source": [
    "split_place = place.split(' ')\n",
    "split_place\n",
    "\n",
    "##split on space"
   ]
  },
  {
   "cell_type": "code",
   "execution_count": 59,
   "id": "915f0178",
   "metadata": {},
   "outputs": [
    {
     "data": {
      "text/plain": [
       "['New Yor', ' City']"
      ]
     },
     "execution_count": 59,
     "metadata": {},
     "output_type": "execute_result"
    }
   ],
   "source": [
    "split_place = place.split('k')\n",
    "split_place\n",
    "\n",
    "##  counting  the number of spaces\n",
    "\n",
    "# place.count(' ')\n",
    "## split on K"
   ]
  },
  {
   "cell_type": "code",
   "execution_count": 69,
   "id": "b011e19b",
   "metadata": {},
   "outputs": [
    {
     "data": {
      "text/plain": [
       "'New,York,City'"
      ]
     },
     "execution_count": 69,
     "metadata": {},
     "output_type": "execute_result"
    }
   ],
   "source": [
    "join_car = ','\n",
    "join_char.join(split_place)\n",
    "\n",
    "# split_place = 'New York City'\n",
    "\n"
   ]
  },
  {
   "cell_type": "code",
   "execution_count": 74,
   "id": "674a9512",
   "metadata": {},
   "outputs": [
    {
     "data": {
      "text/plain": [
       "'New York City'"
      ]
     },
     "execution_count": 74,
     "metadata": {},
     "output_type": "execute_result"
    }
   ],
   "source": [
    "join_char1 = ' '\n",
    "join_char1.join(split_place)"
   ]
  },
  {
   "cell_type": "code",
   "execution_count": 75,
   "id": "6b1c347c",
   "metadata": {},
   "outputs": [
    {
     "data": {
      "text/plain": [
       "'New|York|City'"
      ]
     },
     "execution_count": 75,
     "metadata": {},
     "output_type": "execute_result"
    }
   ],
   "source": [
    "\"|\".join(split_place)"
   ]
  },
  {
   "cell_type": "code",
   "execution_count": 77,
   "id": "0f01499a",
   "metadata": {},
   "outputs": [
    {
     "name": "stdout",
     "output_type": "stream",
     "text": [
      "Hello python world\n"
     ]
    }
   ],
   "source": []
  }
 ],
 "metadata": {
  "kernelspec": {
   "display_name": "Python 3 (ipykernel)",
   "language": "python",
   "name": "python3"
  },
  "language_info": {
   "codemirror_mode": {
    "name": "ipython",
    "version": 3
   },
   "file_extension": ".py",
   "mimetype": "text/x-python",
   "name": "python",
   "nbconvert_exporter": "python",
   "pygments_lexer": "ipython3",
   "version": "3.11.5"
  }
 },
 "nbformat": 4,
 "nbformat_minor": 5
}
