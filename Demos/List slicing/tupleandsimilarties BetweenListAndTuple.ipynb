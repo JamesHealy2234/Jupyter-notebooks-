{
 "cells": [
  {
   "cell_type": "code",
   "execution_count": 3,
   "id": "c7e79222",
   "metadata": {},
   "outputs": [
    {
     "data": {
      "text/plain": [
       "()"
      ]
     },
     "execution_count": 3,
     "metadata": {},
     "output_type": "execute_result"
    }
   ],
   "source": [
    "my_tuple = ()\n",
    "my_tuple "
   ]
  },
  {
   "cell_type": "code",
   "execution_count": 4,
   "id": "5d17b18c",
   "metadata": {},
   "outputs": [
    {
     "data": {
      "text/plain": [
       "tuple"
      ]
     },
     "execution_count": 4,
     "metadata": {},
     "output_type": "execute_result"
    }
   ],
   "source": [
    "type(my_tuple )"
   ]
  },
  {
   "cell_type": "code",
   "execution_count": 5,
   "id": "b7fb26de",
   "metadata": {},
   "outputs": [
    {
     "name": "stdout",
     "output_type": "stream",
     "text": [
      "<class 'tuple'>\n"
     ]
    }
   ],
   "source": [
    "print(type(my_tuple))"
   ]
  },
  {
   "cell_type": "code",
   "execution_count": 6,
   "id": "befd5880",
   "metadata": {},
   "outputs": [
    {
     "name": "stdout",
     "output_type": "stream",
     "text": [
      "('hello', 'python') (1, 2, 3, 4)\n"
     ]
    }
   ],
   "source": [
    "str_tuple = (\"hello\", \"python\")\n",
    "str_tuple \n",
    "\n",
    "str_tuple2 = (1,2,3,4)\n",
    "\n",
    "print(str_tuple, str_tuple2)"
   ]
  },
  {
   "cell_type": "code",
   "execution_count": 11,
   "id": "76f92450",
   "metadata": {},
   "outputs": [
    {
     "name": "stdout",
     "output_type": "stream",
     "text": [
      "('hello', 'python', 1, 2, 3, 4)\n",
      "('hello', 'python', 'hello', 'python', 'hello', 'python')\n",
      "(1, 'hello', 5.6)\n"
     ]
    }
   ],
   "source": [
    "combine_tuple = str_tuple +  str_tuple2\n",
    "\n",
    "print(combine_tuple)\n",
    "\n",
    "print(str_tuple * 3)\n",
    "\n",
    "mixed_tuple = (1, \"hello\", 5.6)\n",
    "\n"
   ]
  },
  {
   "cell_type": "code",
   "execution_count": 12,
   "id": "edf65772",
   "metadata": {},
   "outputs": [],
   "source": [
    "## fields are what we used to call elements in a tuple"
   ]
  },
  {
   "cell_type": "code",
   "execution_count": 19,
   "id": "291b0b19",
   "metadata": {},
   "outputs": [
    {
     "name": "stdout",
     "output_type": "stream",
     "text": [
      "5.6\n",
      "(1, 2, 3, (4, 5, 6))\n"
     ]
    }
   ],
   "source": [
    "a, b, c = mixed_tuple\n",
    "\n",
    "print(c)\n",
    "\n",
    "nested_tuple = (1,2,3, (4,5,6))\n",
    "\n",
    "print(nested_tuple)"
   ]
  },
  {
   "cell_type": "code",
   "execution_count": 21,
   "id": "25e030f5",
   "metadata": {},
   "outputs": [
    {
     "name": "stdout",
     "output_type": "stream",
     "text": [
      "('mouse', [8, 4, 6], (1, 2, 3))\n"
     ]
    }
   ],
   "source": [
    "mixed_tuple = (\"mouse\", [8,4,6], (1,2,3))\n",
    "print(mixed_tuple)"
   ]
  },
  {
   "cell_type": "code",
   "execution_count": 30,
   "id": "d37012b0",
   "metadata": {},
   "outputs": [
    {
     "name": "stdout",
     "output_type": "stream",
     "text": [
      "('mouse', [8, 4, 6], (1, 2, 3))\n",
      "('p', 'e', 'r', 'm', 'i', 't', 't', 'e', 'd')\n"
     ]
    }
   ],
   "source": [
    "my_tuple = ('p', 'e','r','m', 'i', 't' , 't', 'e', 'd')\n",
    "\n",
    "print(mixed_tuple)\n",
    "\n",
    "print(my_tuple)\n",
    "#field 2 - index 2 = 3 "
   ]
  },
  {
   "cell_type": "code",
   "execution_count": 31,
   "id": "98fb7196",
   "metadata": {},
   "outputs": [
    {
     "name": "stdout",
     "output_type": "stream",
     "text": [
      "('p', 'r', 'i', 't', 'd')\n"
     ]
    }
   ],
   "source": [
    "print(my_tuple[::2])"
   ]
  },
  {
   "cell_type": "code",
   "execution_count": null,
   "id": "ffc670b5",
   "metadata": {},
   "outputs": [],
   "source": [
    "my_tuple = ('H','e','l','l','o')"
   ]
  },
  {
   "cell_type": "code",
   "execution_count": 35,
   "id": "16d3f81f",
   "metadata": {},
   "outputs": [
    {
     "name": "stdout",
     "output_type": "stream",
     "text": [
      "False\n"
     ]
    }
   ],
   "source": [
    "print('e'  not in  my_tuple)"
   ]
  },
  {
   "cell_type": "code",
   "execution_count": 40,
   "id": "23ccca0f",
   "metadata": {},
   "outputs": [
    {
     "data": {
      "text/plain": [
       "{1, 4, 6, 7}"
      ]
     },
     "execution_count": 40,
     "metadata": {},
     "output_type": "execute_result"
    }
   ],
   "source": [
    "int_tuple = (1,4,6,7, 7)\n",
    "int_tuple\n",
    "\n",
    "set(int_tuple)\n",
    "\n",
    "\n",
    "\n",
    "\n"
   ]
  },
  {
   "cell_type": "code",
   "execution_count": 42,
   "id": "4243fb8c",
   "metadata": {},
   "outputs": [
    {
     "data": {
      "text/plain": [
       "(4, 2, 3, (6, 5))"
      ]
     },
     "execution_count": 42,
     "metadata": {},
     "output_type": "execute_result"
    }
   ],
   "source": [
    "immutable_tuple_2 = (4,2,3, (6,5))\n",
    "immutable_tuple_2\n"
   ]
  },
  {
   "cell_type": "code",
   "execution_count": 4,
   "id": "28167502",
   "metadata": {},
   "outputs": [
    {
     "data": {
      "text/plain": [
       "(4, 3, 4, [6, 5])"
      ]
     },
     "execution_count": 4,
     "metadata": {},
     "output_type": "execute_result"
    }
   ],
   "source": [
    "immutable_tupple3 = (4,3,4,[6,5])\n",
    "immutable_tupple3"
   ]
  },
  {
   "cell_type": "code",
   "execution_count": 8,
   "id": "37ff08df",
   "metadata": {},
   "outputs": [],
   "source": [
    "immutable_tupple3[3][0] = 100"
   ]
  },
  {
   "cell_type": "code",
   "execution_count": 9,
   "id": "d5ad326e",
   "metadata": {},
   "outputs": [
    {
     "name": "stdout",
     "output_type": "stream",
     "text": [
      "(4, 3, 4, [100, 100])\n"
     ]
    }
   ],
   "source": [
    "print(immutable_tupple3)"
   ]
  },
  {
   "cell_type": "code",
   "execution_count": 11,
   "id": "1503fea1",
   "metadata": {},
   "outputs": [
    {
     "data": {
      "text/plain": [
       "('p', 'y', 't', 'h', 'o', 'n')"
      ]
     },
     "execution_count": 11,
     "metadata": {},
     "output_type": "execute_result"
    }
   ],
   "source": [
    "my_tuple = ('p', 'y','t','h','o','n')\n",
    "my_tuple"
   ]
  },
  {
   "cell_type": "code",
   "execution_count": 24,
   "id": "8c73c279",
   "metadata": {},
   "outputs": [
    {
     "name": "stdout",
     "output_type": "stream",
     "text": [
      "<zip object at 0x0000017A0938E100>\n"
     ]
    }
   ],
   "source": [
    "tuple_a = ('a', 'b', 'c', 'd', 'e')\n",
    "typle_b = (1,2,4,5, 6)\n",
    "\n",
    "zipped = zip(tuple_a,typle_b)\n",
    "\n",
    "print(zipped)"
   ]
  },
  {
   "cell_type": "code",
   "execution_count": 25,
   "id": "97bfac9e",
   "metadata": {},
   "outputs": [
    {
     "name": "stdout",
     "output_type": "stream",
     "text": [
      "(('a', 1), ('b', 2), ('c', 4), ('d', 5), ('e', 6))\n"
     ]
    }
   ],
   "source": [
    "result = tuple(zipped)\n",
    "\n",
    "print(result)"
   ]
  },
  {
   "cell_type": "code",
   "execution_count": 26,
   "id": "633e215c",
   "metadata": {},
   "outputs": [
    {
     "name": "stdout",
     "output_type": "stream",
     "text": [
      "('a', 'b', 'c', 'd', 'e')\n",
      "(1, 2, 4, 5, 6)\n"
     ]
    }
   ],
   "source": [
    "tuple_x, tuple_y = zip(*result)\n",
    "print(tuple_x)\n",
    "print(tuple_y)"
   ]
  },
  {
   "cell_type": "code",
   "execution_count": 28,
   "id": "8c64a7ba",
   "metadata": {},
   "outputs": [],
   "source": [
    "list_a = [4,7,8,9,10]\n",
    "list_b = [\"a\",'e','i','o','u']"
   ]
  },
  {
   "cell_type": "code",
   "execution_count": 31,
   "id": "ca726e18",
   "metadata": {},
   "outputs": [],
   "source": [
    "zipped_list = zip(list_a,list_b)"
   ]
  },
  {
   "cell_type": "code",
   "execution_count": 32,
   "id": "a74a41fc",
   "metadata": {},
   "outputs": [
    {
     "name": "stdout",
     "output_type": "stream",
     "text": [
      "[(4, 'a'), (7, 'e'), (8, 'i'), (9, 'o'), (10, 'u')]\n"
     ]
    }
   ],
   "source": [
    "result = list(zipped_list)\n",
    "\n",
    "print(result)"
   ]
  },
  {
   "cell_type": "code",
   "execution_count": 4,
   "id": "36e45a4f",
   "metadata": {},
   "outputs": [
    {
     "name": "stdout",
     "output_type": "stream",
     "text": [
      "{'john': 'manager', 'charles': 'supervisor', 'Mike': 'engineer'}\n"
     ]
    }
   ],
   "source": [
    "a = (\"john\", \"charles\", \"Mike\")\n",
    "\n",
    "b = (\"manager\", \"supervisor\", \"engineer\")\n",
    "\n",
    "x = zip(a,b)\n",
    "print(dict(x))"
   ]
  },
  {
   "cell_type": "code",
   "execution_count": 10,
   "id": "28b7b868",
   "metadata": {},
   "outputs": [
    {
     "name": "stdout",
     "output_type": "stream",
     "text": [
      "<zip object at 0x000001E16084A880>\n"
     ]
    }
   ],
   "source": [
    "## converting tupes to a set \n",
    "\n",
    "numbers_list = [1,2,3]\n",
    "\n",
    "str_list = ['one','two', 'three ']\n",
    "\n",
    "numbers_tuple = ['ONE', 'TWO', 'Three', 'Four']\n",
    "\n",
    "\n",
    "result = zip(numbers_list, numbers_tuple)\n",
    "\n",
    "print(result)\n"
   ]
  },
  {
   "cell_type": "code",
   "execution_count": 9,
   "id": "aaf1fc09",
   "metadata": {},
   "outputs": [
    {
     "name": "stdout",
     "output_type": "stream",
     "text": [
      "{(1, 'ONE'), (3, 'THREE'), (2, 'TWO')}\n"
     ]
    }
   ],
   "source": [
    "result_set = set(result)\n",
    "\n",
    "print(result_set)"
   ]
  },
  {
   "cell_type": "code",
   "execution_count": 12,
   "id": "3ad05161",
   "metadata": {},
   "outputs": [],
   "source": [
    "result = zip(numbers_list, str_list, numbers_tuple)"
   ]
  },
  {
   "cell_type": "code",
   "execution_count": 13,
   "id": "5d93fb0b",
   "metadata": {},
   "outputs": [
    {
     "name": "stdout",
     "output_type": "stream",
     "text": [
      "{(1, 'one', 'ONE'), (2, 'two', 'TWO'), (3, 'three ', 'Three')}\n"
     ]
    }
   ],
   "source": [
    "result_set = set(result)\n",
    "print(result_set)"
   ]
  }
 ],
 "metadata": {
  "kernelspec": {
   "display_name": "Python 3 (ipykernel)",
   "language": "python",
   "name": "python3"
  },
  "language_info": {
   "codemirror_mode": {
    "name": "ipython",
    "version": 3
   },
   "file_extension": ".py",
   "mimetype": "text/x-python",
   "name": "python",
   "nbconvert_exporter": "python",
   "pygments_lexer": "ipython3",
   "version": "3.11.5"
  }
 },
 "nbformat": 4,
 "nbformat_minor": 5
}
