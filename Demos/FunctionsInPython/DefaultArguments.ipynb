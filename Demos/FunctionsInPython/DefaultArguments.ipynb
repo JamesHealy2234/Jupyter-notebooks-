{
 "cells": [
  {
   "cell_type": "code",
   "execution_count": 2,
   "metadata": {},
   "outputs": [],
   "source": [
    "def print_student_details(name, school, math, physics,chemisty, biology, enrolled):\n",
    "\n",
    "    total = math + physics + chemisty + biology\n",
    "\n",
    "    print(\"name \", name)\n",
    "    print(\"school: \", school, \"Enrolled: \", enrolled)\n",
    "    print(\"Score: \", total)\n",
    "\n",
    "    "
   ]
  },
  {
   "cell_type": "code",
   "execution_count": 3,
   "metadata": {},
   "outputs": [
    {
     "name": "stdout",
     "output_type": "stream",
     "text": [
      "name  Alice\n",
      "school:  columbia Enrolled:  True\n",
      "Score:  267\n"
     ]
    }
   ],
   "source": [
    "print_student_details(\"Alice\", \"columbia\", math=100, physics=76, chemisty=55,biology=36, enrolled=True)"
   ]
  },
  {
   "cell_type": "code",
   "execution_count": null,
   "metadata": {},
   "outputs": [],
   "source": [
    "print_student_details(\"Alice\", \"columbia\", math=100, physics=76, chemisty=55,biology=36,)"
   ]
  },
  {
   "cell_type": "code",
   "execution_count": 4,
   "metadata": {},
   "outputs": [],
   "source": [
    "def print_student_details(name, school, math, physics,chemisty, biology, enrolled=False):\n",
    "\n",
    "    total = math + physics + chemisty + biology\n",
    "\n",
    "    print(\"name \", name)\n",
    "    print(\"school: \", school, \"Enrolled: \", enrolled)\n",
    "    print(\"Score: \", total)\n",
    "\n",
    "\n",
    "##example of using a default argument in a function"
   ]
  },
  {
   "cell_type": "code",
   "execution_count": 6,
   "metadata": {},
   "outputs": [
    {
     "name": "stdout",
     "output_type": "stream",
     "text": [
      "name  Alice\n",
      "school:  columbia Enrolled:  False\n",
      "Score:  267\n"
     ]
    }
   ],
   "source": [
    "print_student_details(\"Alice\", \"columbia\", math=100, physics=76, chemisty=55,biology=36)"
   ]
  },
  {
   "cell_type": "code",
   "execution_count": 27,
   "metadata": {},
   "outputs": [],
   "source": [
    "def print_student_details(name, school, math=50, physics=22 ,chemisty=64, biology =50, enrolled=False):\n",
    "\n",
    "    total = math + physics + chemisty + biology\n",
    "\n",
    "    print(\"name \", name)\n",
    "    print(\"school: \", school, \"Enrolled: \", enrolled)\n",
    "    print(\"Biology: \", biology)\n",
    "    print(\"chemistry\", chemisty)\n",
    "    print(\"Score: \", total)\n",
    "\n",
    "\n",
    "##example of using a default argument in a function\n",
    "## default arguments have to be specified at the end of arguments\n",
    "## when all your arguments have default values you have many ways in which you can invoke a function\n",
    "    "
   ]
  },
  {
   "cell_type": "code",
   "execution_count": 26,
   "metadata": {},
   "outputs": [
    {
     "name": "stdout",
     "output_type": "stream",
     "text": [
      "name  Alice\n",
      "school:  columbia Enrolled:  False\n",
      "Biology:  50\n",
      "chemistry 64\n",
      "Score:  186\n"
     ]
    }
   ],
   "source": [
    "print_student_details(\"Alice\", \"columbia\",)"
   ]
  },
  {
   "cell_type": "code",
   "execution_count": null,
   "metadata": {},
   "outputs": [],
   "source": []
  }
 ],
 "metadata": {
  "kernelspec": {
   "display_name": "Python 3",
   "language": "python",
   "name": "python3"
  },
  "language_info": {
   "codemirror_mode": {
    "name": "ipython",
    "version": 3
   },
   "file_extension": ".py",
   "mimetype": "text/x-python",
   "name": "python",
   "nbconvert_exporter": "python",
   "pygments_lexer": "ipython3",
   "version": "3.12.1"
  }
 },
 "nbformat": 4,
 "nbformat_minor": 2
}
