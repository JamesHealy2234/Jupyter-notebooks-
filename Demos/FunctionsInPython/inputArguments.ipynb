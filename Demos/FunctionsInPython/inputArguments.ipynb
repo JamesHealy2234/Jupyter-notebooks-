{
 "cells": [
  {
   "cell_type": "code",
   "execution_count": 1,
   "metadata": {},
   "outputs": [
    {
     "name": "stdout",
     "output_type": "stream",
     "text": [
      "Hello, my name is lily\n",
      "I live and work in texas\n",
      "Hello, my name is lily\n",
      "I live and work in  new york\n"
     ]
    }
   ],
   "source": [
    "\n",
    "## name is a input argument\n",
    "# def my_introduction(name):\n",
    "#     print(\"Hello, my name is lucy\")\n",
    "#     print(\"I live and work in dallas\")\n",
    "\n",
    "# my_introduction()\n",
    "\n",
    "def my_introduction():\n",
    "    print(\"Hello, my name is lily\" , )\n",
    "    print(\"I live and work in texas\",)\n",
    "\n",
    "my_introduction()\n",
    "\n",
    "\n",
    "def introduction(name,city):\n",
    "    print(\"Hello, my name is\" , name)\n",
    "    print(\"I live and work in \", city)\n",
    "\n",
    "introduction(\"lily\",'new york')\n",
    "\n",
    "## you musy specify the input argument in order\n",
    "\n",
    "\n"
   ]
  },
  {
   "cell_type": "code",
   "execution_count": 2,
   "metadata": {},
   "outputs": [
    {
     "name": "stdout",
     "output_type": "stream",
     "text": [
      "Hello, my name is lily\n",
      "I live and work in texas\n"
     ]
    }
   ],
   "source": [
    "my_introduction()"
   ]
  },
  {
   "cell_type": "code",
   "execution_count": 3,
   "metadata": {},
   "outputs": [
    {
     "name": "stdout",
     "output_type": "stream",
     "text": [
      "the sqaure of 3 is 9\n"
     ]
    }
   ],
   "source": [
    "def square(x): \n",
    "    print(\"the sqaure of\", x , 'is', x*x)\n",
    "\n",
    "square(3)"
   ]
  },
  {
   "cell_type": "code",
   "execution_count": 4,
   "metadata": {},
   "outputs": [
    {
     "name": "stdout",
     "output_type": "stream",
     "text": [
      "the sqaure of 100000 is 10000000000\n"
     ]
    }
   ],
   "source": [
    "square(100000)"
   ]
  },
  {
   "cell_type": "code",
   "execution_count": 5,
   "metadata": {},
   "outputs": [
    {
     "name": "stdout",
     "output_type": "stream",
     "text": [
      "the sqaure of 25 is 625\n"
     ]
    }
   ],
   "source": [
    "num = 25 \n",
    "\n",
    "square(num)"
   ]
  },
  {
   "cell_type": "code",
   "execution_count": 6,
   "metadata": {},
   "outputs": [
    {
     "name": "stdout",
     "output_type": "stream",
     "text": [
      "the sqaure of 25 is 625\n",
      "the sqaure of 100 is 10000\n"
     ]
    }
   ],
   "source": [
    "another_num = 100\n",
    "\n",
    "square(num)\n",
    "square(another_num)"
   ]
  },
  {
   "cell_type": "code",
   "execution_count": 7,
   "metadata": {},
   "outputs": [
    {
     "name": "stdout",
     "output_type": "stream",
     "text": [
      "My total savings 9700\n"
     ]
    }
   ],
   "source": [
    "salary = 2000\n",
    "expenses = 400 \n",
    "\n",
    "def my_savings(a,b):\n",
    "    print(\"My total savings\", a - b)\n",
    "\n",
    "\n",
    "##input arguments are not being used \n",
    "\n",
    "my_savings(10000,300)"
   ]
  },
  {
   "cell_type": "code",
   "execution_count": 8,
   "metadata": {},
   "outputs": [],
   "source": [
    "salary = 2000\n",
    "expenses = 700\n",
    "\n",
    "def calculate_savings(salary, expenses):\n",
    "    print(\"My savings are: \", salary - expenses)\n",
    "\n",
    "\n",
    "\n",
    "\n"
   ]
  },
  {
   "cell_type": "code",
   "execution_count": 9,
   "metadata": {},
   "outputs": [
    {
     "name": "stdout",
     "output_type": "stream",
     "text": [
      "My savings are:  2000\n"
     ]
    }
   ],
   "source": [
    "# calculate_savings(salary,expenses)\n",
    "\n",
    "calculate_savings(3000, 1000)\n",
    "\n",
    "\n",
    "\n"
   ]
  },
  {
   "cell_type": "code",
   "execution_count": 10,
   "metadata": {},
   "outputs": [
    {
     "name": "stdout",
     "output_type": "stream",
     "text": [
      "Skillsoft\n",
      "Skillsoft\n",
      "Skillsoft\n",
      "Skillsoft\n",
      "Skillsoft\n"
     ]
    }
   ],
   "source": [
    "### new video USING positional Arguments\n",
    "\n",
    "\n",
    "def print_many_times(string, times):\n",
    "\n",
    "    for i in range(times):\n",
    "        print(string)\n",
    "\n",
    "print_many_times(\"Skillsoft\", 5)\n",
    "\n"
   ]
  },
  {
   "cell_type": "code",
   "execution_count": 11,
   "metadata": {},
   "outputs": [],
   "source": [
    "def print_many_times(string, times):\n",
    "\n",
    "\n",
    "    \"\"\" Prins the specified string the specific number of times \n",
    "\n",
    "        the first argument is the string you want printed, the second argument is\n",
    "        the number of times you want the string printed\n",
    "    \"\"\"\n",
    "\n",
    "    \"\"\"parameters (both required )\n",
    "        string(str): the string to be printed\n",
    "        times(int): the number of times the string should be printed\n",
    "      \n",
    "    \"\"\"\n",
    "\n",
    "    for i in range(times):\n",
    "        print(string)"
   ]
  },
  {
   "cell_type": "code",
   "execution_count": 12,
   "metadata": {},
   "outputs": [],
   "source": [
    "def print_higher_number(a,b):\n",
    "    \n",
    "    if a > b:\n",
    "        print(\"Higher number is\" , a)\n",
    "    else: \n",
    "        print(\"higher number is \", b)"
   ]
  },
  {
   "cell_type": "code",
   "execution_count": 13,
   "metadata": {},
   "outputs": [
    {
     "name": "stdout",
     "output_type": "stream",
     "text": [
      "Higher number is 10\n",
      "higher number is  35\n"
     ]
    }
   ],
   "source": [
    "print_higher_number(10, 1)\n",
    "\n",
    "\n",
    "\n",
    "print_higher_number(10, 35)"
   ]
  },
  {
   "cell_type": "code",
   "execution_count": 14,
   "metadata": {},
   "outputs": [],
   "source": [
    "def print_higher_number_error(a,b):\n",
    "    if a > b: \n",
    "        print(\"higher number is\", a)\n",
    "    else: \n",
    "        print(\"Higher number is\", b)\n",
    "\n",
    "        result = b + \"a\""
   ]
  },
  {
   "cell_type": "code",
   "execution_count": 15,
   "metadata": {},
   "outputs": [
    {
     "name": "stdout",
     "output_type": "stream",
     "text": [
      "higher number is 10\n"
     ]
    }
   ],
   "source": [
    "print_higher_number_error(10,5)"
   ]
  },
  {
   "cell_type": "code",
   "execution_count": 16,
   "metadata": {},
   "outputs": [
    {
     "name": "stdout",
     "output_type": "stream",
     "text": [
      "Higher number is 20\n"
     ]
    },
    {
     "ename": "TypeError",
     "evalue": "unsupported operand type(s) for +: 'int' and 'str'",
     "output_type": "error",
     "traceback": [
      "\u001b[0;31m---------------------------------------------------------------------------\u001b[0m",
      "\u001b[0;31mTypeError\u001b[0m                                 Traceback (most recent call last)",
      "Cell \u001b[0;32mIn[16], line 1\u001b[0m\n\u001b[0;32m----> 1\u001b[0m \u001b[43mprint_higher_number_error\u001b[49m\u001b[43m(\u001b[49m\u001b[38;5;241;43m10\u001b[39;49m\u001b[43m,\u001b[49m\u001b[38;5;241;43m20\u001b[39;49m\u001b[43m)\u001b[49m\n",
      "Cell \u001b[0;32mIn[14], line 7\u001b[0m, in \u001b[0;36mprint_higher_number_error\u001b[0;34m(a, b)\u001b[0m\n\u001b[1;32m      4\u001b[0m \u001b[38;5;28;01melse\u001b[39;00m: \n\u001b[1;32m      5\u001b[0m     \u001b[38;5;28mprint\u001b[39m(\u001b[38;5;124m\"\u001b[39m\u001b[38;5;124mHigher number is\u001b[39m\u001b[38;5;124m\"\u001b[39m, b)\n\u001b[0;32m----> 7\u001b[0m     result \u001b[38;5;241m=\u001b[39m \u001b[43mb\u001b[49m\u001b[43m \u001b[49m\u001b[38;5;241;43m+\u001b[39;49m\u001b[43m \u001b[49m\u001b[38;5;124;43m\"\u001b[39;49m\u001b[38;5;124;43ma\u001b[39;49m\u001b[38;5;124;43m\"\u001b[39;49m\n",
      "\u001b[0;31mTypeError\u001b[0m: unsupported operand type(s) for +: 'int' and 'str'"
     ]
    }
   ],
   "source": [
    "print_higher_number_error(10,20)"
   ]
  },
  {
   "cell_type": "code",
   "execution_count": 18,
   "metadata": {},
   "outputs": [],
   "source": [
    "def multiply(num1, num2, num3):\n",
    "    print(\"Multiplication result\", num1 * num2 * num3)"
   ]
  },
  {
   "cell_type": "code",
   "execution_count": 20,
   "metadata": {},
   "outputs": [
    {
     "name": "stdout",
     "output_type": "stream",
     "text": [
      "Multiplication result 2.8\n"
     ]
    },
    {
     "ename": "TypeError",
     "evalue": "multiply() takes 3 positional arguments but 4 were given",
     "output_type": "error",
     "traceback": [
      "\u001b[0;31m---------------------------------------------------------------------------\u001b[0m",
      "\u001b[0;31mTypeError\u001b[0m                                 Traceback (most recent call last)",
      "Cell \u001b[0;32mIn[20], line 3\u001b[0m\n\u001b[1;32m      1\u001b[0m multiply(\u001b[38;5;241m1\u001b[39m, \u001b[38;5;241m1.4\u001b[39m, \u001b[38;5;241m2\u001b[39m)\n\u001b[0;32m----> 3\u001b[0m \u001b[43mmultiply\u001b[49m\u001b[43m(\u001b[49m\u001b[38;5;241;43m1\u001b[39;49m\u001b[43m,\u001b[49m\u001b[43m \u001b[49m\u001b[38;5;241;43m1.4\u001b[39;49m\u001b[43m,\u001b[49m\u001b[43m \u001b[49m\u001b[38;5;241;43m2\u001b[39;49m\u001b[43m,\u001b[49m\u001b[43m \u001b[49m\u001b[38;5;241;43m4\u001b[39;49m\u001b[43m)\u001b[49m\n",
      "\u001b[0;31mTypeError\u001b[0m: multiply() takes 3 positional arguments but 4 were given"
     ]
    }
   ],
   "source": [
    "multiply(1, 1.4, 2)\n",
    "\n",
    "multiply(1, 1.4, 2)"
   ]
  },
  {
   "cell_type": "code",
   "execution_count": 21,
   "metadata": {},
   "outputs": [],
   "source": [
    "def length(some_list):\n",
    "    count = 0\n",
    "    for element in some_list:\n",
    "     count += 1\n",
    "\n",
    "    print(\"the length of the list is\", count)\n",
    "     "
   ]
  },
  {
   "cell_type": "code",
   "execution_count": 22,
   "metadata": {},
   "outputs": [
    {
     "name": "stdout",
     "output_type": "stream",
     "text": [
      "the length of the list is 7\n"
     ]
    }
   ],
   "source": [
    "num_list = [4,6,12,7,2,9,23]\n",
    "\n",
    "length(num_list)"
   ]
  },
  {
   "cell_type": "code",
   "execution_count": 23,
   "metadata": {},
   "outputs": [
    {
     "name": "stdout",
     "output_type": "stream",
     "text": [
      "the length of the list is 4\n"
     ]
    }
   ],
   "source": [
    "cars_list = [\"toyta\", 'honda', \"hyundai\", 'ford']\n",
    "\n",
    "length(cars_list)"
   ]
  },
  {
   "cell_type": "code",
   "execution_count": 24,
   "metadata": {},
   "outputs": [
    {
     "data": {
      "text/plain": [
       "4"
      ]
     },
     "execution_count": 24,
     "metadata": {},
     "output_type": "execute_result"
    }
   ],
   "source": [
    "num_cars = len(cars_list)\n",
    "\n",
    "num_cars"
   ]
  },
  {
   "cell_type": "code",
   "execution_count": 25,
   "metadata": {},
   "outputs": [
    {
     "name": "stdout",
     "output_type": "stream",
     "text": [
      "the length of the list is 4\n"
     ]
    }
   ],
   "source": [
    "num_cars = length(cars_list)"
   ]
  },
  {
   "cell_type": "code",
   "execution_count": 27,
   "metadata": {},
   "outputs": [
    {
     "name": "stdout",
     "output_type": "stream",
     "text": [
      "None\n"
     ]
    }
   ],
   "source": [
    "print(num_cars)"
   ]
  },
  {
   "cell_type": "code",
   "execution_count": null,
   "metadata": {},
   "outputs": [],
   "source": []
  },
  {
   "cell_type": "code",
   "execution_count": 30,
   "metadata": {},
   "outputs": [
    {
     "name": "stdout",
     "output_type": "stream",
     "text": [
      "print many times\n",
      "print many times\n",
      "print many times\n"
     ]
    }
   ],
   "source": []
  },
  {
   "cell_type": "code",
   "execution_count": null,
   "metadata": {},
   "outputs": [],
   "source": []
  }
 ],
 "metadata": {
  "kernelspec": {
   "display_name": "Python 3",
   "language": "python",
   "name": "python3"
  },
  "language_info": {
   "codemirror_mode": {
    "name": "ipython",
    "version": 3
   },
   "file_extension": ".py",
   "mimetype": "text/x-python",
   "name": "python",
   "nbconvert_exporter": "python",
   "pygments_lexer": "ipython3",
   "version": "3.12.1"
  }
 },
 "nbformat": 4,
 "nbformat_minor": 2
}
