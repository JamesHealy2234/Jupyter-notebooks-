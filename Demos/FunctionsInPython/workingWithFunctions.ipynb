{
 "cells": [
  {
   "cell_type": "code",
   "execution_count": 8,
   "metadata": {},
   "outputs": [
    {
     "name": "stdout",
     "output_type": "stream",
     "text": [
      "this is now defined\n",
      "This indentation is all right!\n",
      "Well 20 is greater than 5\n"
     ]
    }
   ],
   "source": [
    "##function for python date 16/02/2024\n",
    "\n",
    "\n",
    "def my_new_function(): \n",
    "    print(\"this is now defined\")\n",
    "\n",
    "my_new_function();\n",
    "\n",
    "\n",
    "def will_work_function():\n",
    "    print(\"This indentation is all right!\")\n",
    "\n",
    "    if 10 > 5: \n",
    "        print(\"Well 20 is greater than 5\")\n",
    "\n",
    "will_work_function()\n"
   ]
  },
  {
   "cell_type": "code",
   "execution_count": 9,
   "metadata": {},
   "outputs": [
    {
     "name": "stdout",
     "output_type": "stream",
     "text": [
      "i is now 0\n",
      "i is now 1\n",
      "i is now 2\n",
      "i is now 3\n",
      "i is now 4\n",
      "i is now 5\n",
      "i is now 6\n",
      "i is now 7\n",
      "i is now 8\n",
      "i is now 9\n"
     ]
    }
   ],
   "source": [
    "def a_more_complicated_function():\n",
    "    for i in range(10):\n",
    "        print(\"i is now\", i)\n",
    "\n",
    "a_more_complicated_function()"
   ]
  },
  {
   "cell_type": "code",
   "execution_count": 11,
   "metadata": {},
   "outputs": [
    {
     "name": "stdout",
     "output_type": "stream",
     "text": [
      "this works!\n"
     ]
    }
   ],
   "source": [
    "def _Function_Can_Be_NamedLikeThis_123():\n",
    "    print('this works!')\n",
    "\n",
    "_Function_Can_Be_NamedLikeThis_123()"
   ]
  },
  {
   "cell_type": "code",
   "execution_count": null,
   "metadata": {},
   "outputs": [],
   "source": [
    "##dont start functions with a digit## \n",
    "##def 123this_does_not_work"
   ]
  },
  {
   "cell_type": "code",
   "execution_count": 14,
   "metadata": {},
   "outputs": [
    {
     "data": {
      "text/plain": [
       "' this function does somthing this is documented '"
      ]
     },
     "execution_count": 14,
     "metadata": {},
     "output_type": "execute_result"
    }
   ],
   "source": [
    "def document_function():\n",
    "    \"\"\" this function does somthing this is documented \"\"\"\n",
    "    print(\"hello\")\n",
    "\n",
    "document_function.__doc__"
   ]
  },
  {
   "cell_type": "code",
   "execution_count": 15,
   "metadata": {},
   "outputs": [
    {
     "name": "stdout",
     "output_type": "stream",
     "text": [
      "hello\n"
     ]
    }
   ],
   "source": [
    "another_function = document_function\n",
    "\n",
    "## references the same function\n",
    "another_function()"
   ]
  },
  {
   "cell_type": "code",
   "execution_count": 19,
   "metadata": {},
   "outputs": [
    {
     "name": "stdout",
     "output_type": "stream",
     "text": [
      "my name is John\n",
      "city i live in Toronto\n"
     ]
    }
   ],
   "source": [
    "name = \"John\"\n",
    "city = \"Toronto\"\n",
    "\n",
    "def introduction():\n",
    "    print(\"my name is\", name)\n",
    "    print(\"city i live in\" , city)\n",
    "\n",
    "\n",
    "introduction()\n",
    "\n",
    "\n"
   ]
  },
  {
   "cell_type": "code",
   "execution_count": 21,
   "metadata": {},
   "outputs": [
    {
     "name": "stdout",
     "output_type": "stream",
     "text": [
      "my name is lily\n",
      "city i live in New York\n"
     ]
    }
   ],
   "source": [
    "name = \"lily\"\n",
    "city = \"New York\"\n",
    "\n",
    "introduction()\n"
   ]
  },
  {
   "cell_type": "code",
   "execution_count": null,
   "metadata": {},
   "outputs": [],
   "source": [
    "\"a\" + 2 \n",
    "\n",
    "##if you put this in a function you will not get the error \n",
    "## untill you invoke the function "
   ]
  },
  {
   "cell_type": "markdown",
   "metadata": {},
   "source": []
  },
  {
   "cell_type": "markdown",
   "metadata": {},
   "source": []
  }
 ],
 "metadata": {
  "kernelspec": {
   "display_name": "Python 3",
   "language": "python",
   "name": "python3"
  },
  "language_info": {
   "codemirror_mode": {
    "name": "ipython",
    "version": 3
   },
   "file_extension": ".py",
   "mimetype": "text/x-python",
   "name": "python",
   "nbconvert_exporter": "python",
   "pygments_lexer": "ipython3",
   "version": "3.12.1"
  }
 },
 "nbformat": 4,
 "nbformat_minor": 2
}
