{
 "cells": [
  {
   "cell_type": "code",
   "execution_count": 13,
   "metadata": {},
   "outputs": [
    {
     "name": "stdout",
     "output_type": "stream",
     "text": [
      "\n"
     ]
    }
   ],
   "source": [
    "print()"
   ]
  },
  {
   "cell_type": "code",
   "execution_count": 14,
   "metadata": {},
   "outputs": [],
   "source": [
    "def print_fn(string_1):\n",
    "    print(string_1)"
   ]
  },
  {
   "cell_type": "code",
   "execution_count": 15,
   "metadata": {},
   "outputs": [
    {
     "ename": "TypeError",
     "evalue": "print_fn() missing 1 required positional argument: 'string_1'",
     "output_type": "error",
     "traceback": [
      "\u001b[0;31m---------------------------------------------------------------------------\u001b[0m",
      "\u001b[0;31mTypeError\u001b[0m                                 Traceback (most recent call last)",
      "Cell \u001b[0;32mIn[15], line 1\u001b[0m\n\u001b[0;32m----> 1\u001b[0m \u001b[43mprint_fn\u001b[49m\u001b[43m(\u001b[49m\u001b[43m)\u001b[49m\n",
      "\u001b[0;31mTypeError\u001b[0m: print_fn() missing 1 required positional argument: 'string_1'"
     ]
    }
   ],
   "source": [
    "print_fn()"
   ]
  },
  {
   "cell_type": "code",
   "execution_count": null,
   "metadata": {},
   "outputs": [],
   "source": [
    "def print_fn(string_1=\"\\n\"):\n",
    "    print(string_1)"
   ]
  },
  {
   "cell_type": "code",
   "execution_count": null,
   "metadata": {},
   "outputs": [
    {
     "name": "stdout",
     "output_type": "stream",
     "text": [
      "\n",
      "\n"
     ]
    }
   ],
   "source": [
    "print_fn()"
   ]
  },
  {
   "cell_type": "code",
   "execution_count": null,
   "metadata": {},
   "outputs": [
    {
     "ename": "TypeError",
     "evalue": "print_fn() takes from 0 to 1 positional arguments but 2 were given",
     "output_type": "error",
     "traceback": [
      "\u001b[0;31m---------------------------------------------------------------------------\u001b[0m",
      "\u001b[0;31mTypeError\u001b[0m                                 Traceback (most recent call last)",
      "Cell \u001b[0;32mIn[7], line 1\u001b[0m\n\u001b[0;32m----> 1\u001b[0m \u001b[43mprint_fn\u001b[49m\u001b[43m(\u001b[49m\u001b[38;5;124;43m'\u001b[39;49m\u001b[38;5;124;43mBob\u001b[39;49m\u001b[38;5;124;43m'\u001b[39;49m\u001b[43m,\u001b[49m\u001b[43m \u001b[49m\u001b[38;5;124;43m\"\u001b[39;49m\u001b[38;5;124;43mpeter\u001b[39;49m\u001b[38;5;124;43m\"\u001b[39;49m\u001b[43m)\u001b[49m\n",
      "\u001b[0;31mTypeError\u001b[0m: print_fn() takes from 0 to 1 positional arguments but 2 were given"
     ]
    }
   ],
   "source": [
    "print_fn('Bob', \"peter\")"
   ]
  },
  {
   "cell_type": "code",
   "execution_count": null,
   "metadata": {},
   "outputs": [],
   "source": [
    "def print_fn(string_1=\"\\n\", string_2=\"\"):\n",
    "    print(string_1, string_2)\n"
   ]
  },
  {
   "cell_type": "code",
   "execution_count": null,
   "metadata": {},
   "outputs": [
    {
     "name": "stdout",
     "output_type": "stream",
     "text": [
      "bob \n"
     ]
    }
   ],
   "source": [
    "print_fn( \"bob\")"
   ]
  },
  {
   "cell_type": "code",
   "execution_count": 19,
   "metadata": {},
   "outputs": [],
   "source": [
    "def print_fn(*args):\n",
    "\n",
    "    args_type = type(args)\n",
    "    print(args_type)\n",
    "\n",
    "    print(args)"
   ]
  },
  {
   "cell_type": "code",
   "execution_count": 16,
   "metadata": {},
   "outputs": [
    {
     "name": "stdout",
     "output_type": "stream",
     "text": [
      "bob\n"
     ]
    }
   ],
   "source": [
    "print_fn(\"bob\")"
   ]
  },
  {
   "cell_type": "code",
   "execution_count": 21,
   "metadata": {},
   "outputs": [
    {
     "name": "stdout",
     "output_type": "stream",
     "text": [
      "<class 'tuple'>\n",
      "('bob', 'Peter')\n"
     ]
    }
   ],
   "source": [
    "print_fn(\"bob\" , \"Peter\")"
   ]
  },
  {
   "cell_type": "code",
   "execution_count": 24,
   "metadata": {},
   "outputs": [
    {
     "name": "stdout",
     "output_type": "stream",
     "text": [
      "<class 'tuple'>\n",
      "('greg', 'claudia', 'bob', 'alice', 'steve', 'jim')\n"
     ]
    }
   ],
   "source": [
    "names_list  = ['greg', 'claudia', 'bob', 'alice', 'steve', 'jim']\n",
    "\n",
    "print_fn(*names_list)\n",
    "\n"
   ]
  },
  {
   "cell_type": "code",
   "execution_count": 26,
   "metadata": {},
   "outputs": [],
   "source": [
    "def students_in_COlledge(college, city, *students):\n",
    "    \n",
    "    print(\"colledge \", college)\n",
    "    print(\"city: \", city)\n",
    "    print(\"students: \", students)\n"
   ]
  },
  {
   "cell_type": "code",
   "execution_count": 31,
   "metadata": {},
   "outputs": [
    {
     "name": "stdout",
     "output_type": "stream",
     "text": [
      "colledge  columbia\n",
      "city:  New york\n",
      "students:  ('bob',)\n"
     ]
    }
   ],
   "source": [
    "students_in_COlledge(\"columbia\", 'New york', \"bob\")"
   ]
  },
  {
   "cell_type": "code",
   "execution_count": 32,
   "metadata": {},
   "outputs": [
    {
     "name": "stdout",
     "output_type": "stream",
     "text": [
      "colledge  columbia\n",
      "city:  New york\n",
      "students:  ('Peter', 'Juile', 'Trista')\n"
     ]
    }
   ],
   "source": [
    "students_in_COlledge(\"columbia\", 'New york', \"Peter\", \"Juile\", \"Trista\")"
   ]
  },
  {
   "cell_type": "code",
   "execution_count": 2,
   "metadata": {},
   "outputs": [],
   "source": [
    "def student_details(**kwargs):\n",
    "    print(type(kwargs))\n",
    "    print(kwargs)"
   ]
  },
  {
   "cell_type": "code",
   "execution_count": 3,
   "metadata": {},
   "outputs": [
    {
     "name": "stdout",
     "output_type": "stream",
     "text": [
      "<class 'dict'>\n",
      "{}\n"
     ]
    }
   ],
   "source": [
    "student_details()"
   ]
  },
  {
   "cell_type": "code",
   "execution_count": 5,
   "metadata": {},
   "outputs": [
    {
     "name": "stdout",
     "output_type": "stream",
     "text": [
      "<class 'dict'>\n",
      "{'name': 'John', 'age': 18, 'colledge': 'Harvard'}\n"
     ]
    }
   ],
   "source": [
    "student_details(name=\"John\", age =18 , colledge = \"Harvard\")"
   ]
  },
  {
   "cell_type": "code",
   "execution_count": 6,
   "metadata": {},
   "outputs": [
    {
     "name": "stdout",
     "output_type": "stream",
     "text": [
      "name John\n",
      "age 18\n",
      "college boston university\n"
     ]
    }
   ],
   "source": [
    "def student_details(**details):\n",
    "\n",
    "    for key,value in details.items():\n",
    "        print(key,value)\n",
    "\n",
    "student_details(name=\"John\", age=18, college = \"boston university\")"
   ]
  },
  {
   "cell_type": "code",
   "execution_count": 16,
   "metadata": {},
   "outputs": [],
   "source": [
    "details_dictionary = {'name':'John', \"age\": 18, \"Colledge\":\"boston university\"}"
   ]
  },
  {
   "cell_type": "code",
   "execution_count": 17,
   "metadata": {},
   "outputs": [
    {
     "name": "stdout",
     "output_type": "stream",
     "text": [
      "name John\n",
      "age 18\n",
      "Colledge boston university\n"
     ]
    }
   ],
   "source": [
    "student_details(**details_dictionary)"
   ]
  },
  {
   "cell_type": "code",
   "execution_count": 18,
   "metadata": {},
   "outputs": [],
   "source": [
    "def student_details(**details):\n",
    "\n",
    "    if 'name' in details:\n",
    "        print(\"Name: \", details['name'])\n",
    "    if 'age' in details: \n",
    "        print(\"Age: \", details['age'])\n",
    "    if 'college' in details: \n",
    "        print(\"College: \", details['college'])"
   ]
  },
  {
   "cell_type": "code",
   "execution_count": 20,
   "metadata": {},
   "outputs": [
    {
     "name": "stdout",
     "output_type": "stream",
     "text": [
      "Name:  John\n",
      "College:  Boston University\n"
     ]
    }
   ],
   "source": [
    "student_details(name=\"John\", college=\"Boston University\")"
   ]
  },
  {
   "cell_type": "code",
   "execution_count": 21,
   "metadata": {},
   "outputs": [
    {
     "name": "stdout",
     "output_type": "stream",
     "text": [
      "Name:  John\n",
      "Age:  22\n",
      "College:  Boston University\n"
     ]
    }
   ],
   "source": [
    "student_details(name=\"John\", college=\"Boston University\", age=22)"
   ]
  },
  {
   "cell_type": "code",
   "execution_count": 22,
   "metadata": {},
   "outputs": [],
   "source": [
    "def student_in_college(*student_names, **college_details):\n",
    "    \n",
    "    # single astric means its a postional variable length agument\n",
    "    ## double astrics means its a keyword variable length argument\n",
    "    print(\"Student--\")\n",
    "    for s in student_names:\n",
    "        print(s)\n",
    "\n",
    "    print()\n",
    "\n",
    "    print(\"College Details--\")\n",
    "    for key, value in college_details.items():\n",
    "        print(key,value)\n"
   ]
  },
  {
   "cell_type": "code",
   "execution_count": 23,
   "metadata": {},
   "outputs": [
    {
     "name": "stdout",
     "output_type": "stream",
     "text": [
      "Student--\n",
      "alison\n",
      "bob\n",
      "charlie\n",
      "\n",
      "College Details--\n",
      "name standford\n",
      "city palo alto\n"
     ]
    }
   ],
   "source": [
    "student_in_college(\"alison\", 'bob', 'charlie', name=\"standford\", city=\"palo alto\")"
   ]
  }
 ],
 "metadata": {
  "kernelspec": {
   "display_name": "Python 3",
   "language": "python",
   "name": "python3"
  },
  "language_info": {
   "codemirror_mode": {
    "name": "ipython",
    "version": 3
   },
   "file_extension": ".py",
   "mimetype": "text/x-python",
   "name": "python",
   "nbconvert_exporter": "python",
   "pygments_lexer": "ipython3",
   "version": "3.12.1"
  }
 },
 "nbformat": 4,
 "nbformat_minor": 2
}
