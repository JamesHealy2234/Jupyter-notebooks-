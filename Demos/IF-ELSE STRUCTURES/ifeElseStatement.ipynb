{
 "cells": [
  {
   "cell_type": "code",
   "execution_count": 1,
   "metadata": {},
   "outputs": [
    {
     "name": "stdout",
     "output_type": "stream",
     "text": [
      "10 is less than 20\n",
      "else block activated\n"
     ]
    }
   ],
   "source": [
    "if 10 > 20: \n",
    "    print(\"10 is greater than 20\")\n",
    "    print(\"if block actiavted\")\n",
    "\n",
    "else:\n",
    "    print(\"10 is less than 20\")\n",
    "    print(\"else block activated\")"
   ]
  },
  {
   "cell_type": "code",
   "execution_count": 2,
   "metadata": {},
   "outputs": [
    {
     "data": {
      "text/plain": [
       "7160"
      ]
     },
     "execution_count": 2,
     "metadata": {},
     "output_type": "execute_result"
    }
   ],
   "source": [
    "bike_price = 7160\n",
    "bike_price"
   ]
  },
  {
   "cell_type": "code",
   "execution_count": 3,
   "metadata": {},
   "outputs": [
    {
     "name": "stdout",
     "output_type": "stream",
     "text": [
      "it is a cheap bike \n",
      "if block activated\n"
     ]
    }
   ],
   "source": [
    "if bike_price <= 8000:\n",
    "    print(\"it is a cheap bike \")\n",
    "    print(\"if block activated\")\n",
    "\n",
    "else: \n",
    "    print(\"its ana epensive bike \")\n",
    "    print(\"else block activated\")"
   ]
  },
  {
   "cell_type": "code",
   "execution_count": 6,
   "metadata": {},
   "outputs": [
    {
     "name": "stdout",
     "output_type": "stream",
     "text": [
      "its an epensive bike\n"
     ]
    }
   ],
   "source": [
    "bike_price = 9000\n",
    "\n",
    "if bike_price <= 8000:\n",
    "    print(\"its a cheap bike\")\n",
    "\n",
    "else: \n",
    "    print(\"its an epensive bike\")"
   ]
  },
  {
   "cell_type": "code",
   "execution_count": 9,
   "metadata": {},
   "outputs": [
    {
     "name": "stdout",
     "output_type": "stream",
     "text": [
      "num before epression:  50\n",
      "Num after epression:  30\n"
     ]
    }
   ],
   "source": [
    "num = 50\n",
    "print('num before epression: ', num)\n",
    "num = num - 20 if num > 20 else num + 20\n",
    "\n",
    "print(\"Num after epression: \", num)\n",
    "\n",
    "##quickly checks a condition  makes your code compact"
   ]
  },
  {
   "cell_type": "code",
   "execution_count": 11,
   "metadata": {},
   "outputs": [
    {
     "name": "stdout",
     "output_type": "stream",
     "text": [
      "num before epression:  50\n",
      "num after eppression 30\n"
     ]
    }
   ],
   "source": [
    "num = 50\n",
    "print('num before epression: ', num)\n",
    "if num > 20:\n",
    "    num = num -20\n",
    "else:\n",
    "    num = num + 20\n",
    "\n",
    "print('num after eppression', num)"
   ]
  },
  {
   "cell_type": "code",
   "execution_count": 12,
   "metadata": {},
   "outputs": [
    {
     "name": "stdout",
     "output_type": "stream",
     "text": [
      "NUmber before epression :  100\n",
      "number after epression:  500\n"
     ]
    }
   ],
   "source": [
    "num= 100\n",
    "print(\"NUmber before epression : \" , num)\n",
    "\n",
    "result = num / 5 if num < 50 else num * 5 \n",
    "\n",
    "print(\"number after epression: \" , result)\n"
   ]
  },
  {
   "cell_type": "code",
   "execution_count": 14,
   "metadata": {},
   "outputs": [
    {
     "name": "stdout",
     "output_type": "stream",
     "text": [
      "elif if block activated\n"
     ]
    }
   ],
   "source": [
    "if 15 > 20:  ## conditions are evaluiated how they are assigned \n",
    "    print(\"15 is greater than 20\")\n",
    "    print(\"if block activated\")\n",
    "\n",
    "elif 15 <20:\n",
    "    print('15 is less than 20')\n",
    "    print(\"elif if block activated\")\n",
    "\n",
    "else:\n",
    "    print(\"both are equal\")\n",
    "    print(\"else block activated\")"
   ]
  },
  {
   "cell_type": "code",
   "execution_count": 15,
   "metadata": {},
   "outputs": [
    {
     "name": "stdout",
     "output_type": "stream",
     "text": [
      "a is equal to b\n"
     ]
    }
   ],
   "source": [
    "a = 45 \n",
    "b = 45 \n",
    "\n",
    "if b > a:\n",
    "    print(\"b is greater than a \")\n",
    "    print(\"if block activated\")\n",
    "elif a ==b:\n",
    "    print(\"a is equal to b\")\n",
    "    print(\"elif block activated\")\n",
    "else:\n",
    "    print(\"a is greater than b\")\n",
    "    print(\"else block activated\")"
   ]
  }
 ],
 "metadata": {
  "kernelspec": {
   "display_name": "Python 3",
   "language": "python",
   "name": "python3"
  },
  "language_info": {
   "codemirror_mode": {
    "name": "ipython",
    "version": 3
   },
   "file_extension": ".py",
   "mimetype": "text/x-python",
   "name": "python",
   "nbconvert_exporter": "python",
   "pygments_lexer": "ipython3",
   "version": "3.12.1"
  }
 },
 "nbformat": 4,
 "nbformat_minor": 2
}
