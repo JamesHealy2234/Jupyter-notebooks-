{
 "cells": [
  {
   "cell_type": "code",
   "execution_count": null,
   "metadata": {},
   "outputs": [],
   "source": [
    "tuple_teachers = ('alice', 'alexa', )"
   ]
  },
  {
   "cell_type": "code",
   "execution_count": 1,
   "metadata": {},
   "outputs": [
    {
     "name": "stdout",
     "output_type": "stream",
     "text": [
      "10 is less than 15\n"
     ]
    }
   ],
   "source": [
    "if 10< 15: ## coloen starts the if block\n",
    " print(\"10 is less than 15\")"
   ]
  },
  {
   "cell_type": "code",
   "execution_count": 3,
   "metadata": {},
   "outputs": [
    {
     "name": "stdout",
     "output_type": "stream",
     "text": [
      "465 is greater than 45\n"
     ]
    }
   ],
   "source": [
    "if ( 46 > 40 +5):\n",
    "    print(\"465 is greater than 45\")"
   ]
  },
  {
   "cell_type": "code",
   "execution_count": 5,
   "metadata": {},
   "outputs": [],
   "source": [
    "if(46> 49):\n",
    " print(\"46 is greater than 40\")"
   ]
  },
  {
   "cell_type": "code",
   "execution_count": 6,
   "metadata": {},
   "outputs": [],
   "source": [
    "value_z = 65\n",
    "\n",
    "value_y = 25\n",
    "\n",
    "if value_z < value_y:\n",
    "    print('Value of z is less than the value of y')"
   ]
  },
  {
   "cell_type": "code",
   "execution_count": 8,
   "metadata": {},
   "outputs": [
    {
     "name": "stdout",
     "output_type": "stream",
     "text": [
      "Value of z is greater than the value of y\n"
     ]
    }
   ],
   "source": [
    "\n",
    "if value_z > value_y:\n",
    "    print('Value of z is greater than the value of y')"
   ]
  },
  {
   "cell_type": "code",
   "execution_count": 9,
   "metadata": {},
   "outputs": [
    {
     "name": "stdout",
     "output_type": "stream",
     "text": [
      "Yes Python is in my_string\n"
     ]
    }
   ],
   "source": [
    "my_string = 'Hello python world'\n",
    "\n",
    "if 'python' in my_string:\n",
    "    print('Yes', \"Python is in my_string\")"
   ]
  },
  {
   "cell_type": "code",
   "execution_count": 10,
   "metadata": {},
   "outputs": [],
   "source": [
    "if \"pythonworld\" in my_string:\n",
    "    print('Yes, \"Python world is in my_STRING' )\n",
    "\n",
    "    ## doesnt work because python is case sensitive \n"
   ]
  },
  {
   "cell_type": "code",
   "execution_count": 11,
   "metadata": {},
   "outputs": [
    {
     "name": "stdout",
     "output_type": "stream",
     "text": [
      "Yes, \"Python world is in my_STRING\n"
     ]
    }
   ],
   "source": [
    "if \"python world\" in my_string:\n",
    "    print('Yes, \"Python world is in my_STRING' )"
   ]
  },
  {
   "cell_type": "code",
   "execution_count": 12,
   "metadata": {},
   "outputs": [
    {
     "data": {
      "text/plain": [
       "['Ayden', 'Gavin', 'Ian', 'Jose', 'Jane']"
      ]
     },
     "execution_count": 12,
     "metadata": {},
     "output_type": "execute_result"
    }
   ],
   "source": [
    "list_students = [\"Ayden\", \"Gavin\", \"Ian\", \"Jose\", \"Jane\"]\n",
    "\n",
    "list_students"
   ]
  },
  {
   "cell_type": "code",
   "execution_count": 13,
   "metadata": {},
   "outputs": [
    {
     "name": "stdout",
     "output_type": "stream",
     "text": [
      "jose is a student\n"
     ]
    }
   ],
   "source": [
    "if 'Jose' in list_students:\n",
    "    print(\"jose is a student\")"
   ]
  },
  {
   "cell_type": "code",
   "execution_count": 14,
   "metadata": {},
   "outputs": [],
   "source": [
    "if 'eva' in list_students:\n",
    "    print(\"jose is a student\")"
   ]
  },
  {
   "cell_type": "code",
   "execution_count": 17,
   "metadata": {},
   "outputs": [
    {
     "data": {
      "text/plain": [
       "('Alice', 'Alexa', 'Robert', 'Bella')"
      ]
     },
     "execution_count": 17,
     "metadata": {},
     "output_type": "execute_result"
    }
   ],
   "source": [
    "tuple_teachers = (\"Alice\", \"Alexa\", \"Robert\", \"Bella\")\n",
    "tuple_teachers "
   ]
  },
  {
   "cell_type": "code",
   "execution_count": 20,
   "metadata": {},
   "outputs": [
    {
     "name": "stdout",
     "output_type": "stream",
     "text": [
      "Alexa is a teacher\n"
     ]
    }
   ],
   "source": [
    "if \"Alexa\" in tuple_teachers:\n",
    "    print(\"Alexa is a teacher\")"
   ]
  },
  {
   "cell_type": "code",
   "execution_count": 22,
   "metadata": {},
   "outputs": [
    {
     "data": {
      "text/plain": [
       "{'Ayden': 60, 'Gavin': 85, 'ian': 76, 'Jose': 70, 'Jane': 82}"
      ]
     },
     "execution_count": 22,
     "metadata": {},
     "output_type": "execute_result"
    }
   ],
   "source": [
    "student_score = {\"Ayden\" : 60, \"Gavin\": 85, \"ian\": 76 , \"Jose\": 70, \"Jane\": 82}\n",
    "student_score"
   ]
  },
  {
   "cell_type": "code",
   "execution_count": 23,
   "metadata": {},
   "outputs": [
    {
     "name": "stdout",
     "output_type": "stream",
     "text": [
      "Ian is in the student_score dictionary\n"
     ]
    }
   ],
   "source": [
    "if \"ian\" in student_score:\n",
    "    print(\"Ian is in the student_score dictionary\")"
   ]
  },
  {
   "cell_type": "code",
   "execution_count": 24,
   "metadata": {},
   "outputs": [
    {
     "name": "stdout",
     "output_type": "stream",
     "text": [
      "Jane's score 82\n"
     ]
    }
   ],
   "source": [
    "if \"Jane\" in student_score:\n",
    "    print(\"Jane's score\" , student_score['Jane'])"
   ]
  },
  {
   "cell_type": "code",
   "execution_count": 26,
   "metadata": {},
   "outputs": [
    {
     "name": "stdout",
     "output_type": "stream",
     "text": [
      "Ayden's score:  60\n"
     ]
    }
   ],
   "source": [
    "if( \"Ayden\" in student_score):\n",
    "    print(\"Ayden's score: \", student_score[\"Ayden\"])"
   ]
  },
  {
   "cell_type": "code",
   "execution_count": 7,
   "metadata": {},
   "outputs": [],
   "source": [
    "a = 60\n",
    "b = 35  \n",
    "\n",
    "if(a >b and b>a):\n",
    "    print(\"a is greater than b \")"
   ]
  },
  {
   "cell_type": "code",
   "execution_count": 30,
   "metadata": {},
   "outputs": [],
   "source": [
    "x_value = 65\n",
    "y_value = 25 \n"
   ]
  },
  {
   "cell_type": "code",
   "execution_count": 31,
   "metadata": {},
   "outputs": [],
   "source": [
    "if (a >b and b >a): \n",
    "    print('a is greeater than b ')\n",
    "\n",
    "\n",
    "    "
   ]
  },
  {
   "cell_type": "code",
   "execution_count": 2,
   "metadata": {},
   "outputs": [],
   "source": [
    "x_value = 65\n",
    "y_value = 25 "
   ]
  },
  {
   "cell_type": "code",
   "execution_count": 4,
   "metadata": {},
   "outputs": [
    {
     "data": {
      "text/plain": [
       "90"
      ]
     },
     "execution_count": 4,
     "metadata": {},
     "output_type": "execute_result"
    }
   ],
   "source": [
    "z_value = x_value + y_value\n",
    "z_value"
   ]
  },
  {
   "cell_type": "code",
   "execution_count": 5,
   "metadata": {},
   "outputs": [
    {
     "name": "stdout",
     "output_type": "stream",
     "text": [
      "both conditions are True\n"
     ]
    }
   ],
   "source": [
    "if x_value > y_value and y_value < z_value:\n",
    "    print(\"both conditions are True\")\n",
    "\n",
    "    "
   ]
  },
  {
   "cell_type": "code",
   "execution_count": 10,
   "metadata": {},
   "outputs": [
    {
     "name": "stdout",
     "output_type": "stream",
     "text": [
      "At least one of the above conditions is true\n"
     ]
    }
   ],
   "source": [
    "a,b\n",
    "if (a > b  or b < a ):\n",
    "    print('At least one of the above conditions is true')"
   ]
  },
  {
   "cell_type": "code",
   "execution_count": 11,
   "metadata": {},
   "outputs": [],
   "source": [
    "bike_price = 716"
   ]
  },
  {
   "cell_type": "code",
   "execution_count": 12,
   "metadata": {},
   "outputs": [
    {
     "name": "stdout",
     "output_type": "stream",
     "text": [
      "At least one of the above conditions is true\n"
     ]
    }
   ],
   "source": [
    "bike_is_electric = False\n",
    "\n",
    "if bike_price > 500 or bike_is_electric:\n",
    "    print(\"At least one of the above conditions is true\")"
   ]
  },
  {
   "cell_type": "code",
   "execution_count": 14,
   "metadata": {},
   "outputs": [],
   "source": [
    "if bike_price > 1000 or bike_is_electric:\n",
    "    print(\"At least one of the above conditions is true\")\n",
    "\n",
    "    ##both statement evaluate to false \n",
    "\n",
    "    "
   ]
  },
  {
   "cell_type": "code",
   "execution_count": 15,
   "metadata": {},
   "outputs": [
    {
     "name": "stdout",
     "output_type": "stream",
     "text": [
      "its a human powered bike\n"
     ]
    }
   ],
   "source": [
    "if not bike_is_electric:\n",
    "    print(\"its a human powered bike\")"
   ]
  },
  {
   "cell_type": "code",
   "execution_count": 17,
   "metadata": {},
   "outputs": [],
   "source": [
    "x= 45 \n",
    "y = 78"
   ]
  },
  {
   "cell_type": "code",
   "execution_count": 18,
   "metadata": {},
   "outputs": [],
   "source": [
    "if not( x<y):\n",
    "    print(\"x is not less than y\")"
   ]
  },
  {
   "cell_type": "code",
   "execution_count": 19,
   "metadata": {},
   "outputs": [
    {
     "name": "stdout",
     "output_type": "stream",
     "text": [
      "x is not greater than y\n"
     ]
    }
   ],
   "source": [
    "if not (x> y ):\n",
    "    print('x is not greater than y')\n",
    "\n",
    "\n",
    "    ##using the not key word"
   ]
  }
 ],
 "metadata": {
  "kernelspec": {
   "display_name": "Python 3",
   "language": "python",
   "name": "python3"
  },
  "language_info": {
   "codemirror_mode": {
    "name": "ipython",
    "version": 3
   },
   "file_extension": ".py",
   "mimetype": "text/x-python",
   "name": "python",
   "nbconvert_exporter": "python",
   "pygments_lexer": "ipython3",
   "version": "3.12.1"
  }
 },
 "nbformat": 4,
 "nbformat_minor": 2
}
