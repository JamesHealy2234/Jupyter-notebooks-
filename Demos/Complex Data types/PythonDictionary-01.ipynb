{
 "cells": [
  {
   "cell_type": "code",
   "execution_count": 2,
   "id": "c5d2bf56",
   "metadata": {},
   "outputs": [],
   "source": [
    "empty_dict = {}"
   ]
  },
  {
   "cell_type": "code",
   "execution_count": 3,
   "id": "25493448",
   "metadata": {},
   "outputs": [
    {
     "data": {
      "text/plain": [
       "{}"
      ]
     },
     "execution_count": 3,
     "metadata": {},
     "output_type": "execute_result"
    }
   ],
   "source": [
    "empty_dict"
   ]
  },
  {
   "cell_type": "code",
   "execution_count": 8,
   "id": "d0e7add0",
   "metadata": {},
   "outputs": [
    {
     "data": {
      "text/plain": [
       "{'James': 'Ducati  Monster 1200',\n",
       " 'Jacob': 'Kawasaki',\n",
       " 'Connor': 'Honda',\n",
       " 'Sam': 'Yamaha',\n",
       " 'Aiden': 'Harley Davidson'}"
      ]
     },
     "execution_count": 8,
     "metadata": {},
     "output_type": "execute_result"
    }
   ],
   "source": [
    "bike_owners={\"James\":\"Ducati  Monster 1200\", \"Jacob\":\"Kawasaki\", \"Connor\":\"Honda\",\"Sam\":\"Yamaha\", \"Aiden\": \"Harley Davidson\"}\n",
    "\n",
    "bike_owners"
   ]
  },
  {
   "cell_type": "code",
   "execution_count": 9,
   "id": "816dc4f2",
   "metadata": {},
   "outputs": [
    {
     "data": {
      "text/plain": [
       "'Harley Davidson'"
      ]
     },
     "execution_count": 9,
     "metadata": {},
     "output_type": "execute_result"
    }
   ],
   "source": [
    "bike_owners['Aiden']"
   ]
  },
  {
   "cell_type": "code",
   "execution_count": 10,
   "id": "29540304",
   "metadata": {},
   "outputs": [
    {
     "ename": "KeyError",
     "evalue": "'Ducati  Monster 1200'",
     "output_type": "error",
     "traceback": [
      "\u001b[1;31m---------------------------------------------------------------------------\u001b[0m",
      "\u001b[1;31mKeyError\u001b[0m                                  Traceback (most recent call last)",
      "Cell \u001b[1;32mIn[10], line 1\u001b[0m\n\u001b[1;32m----> 1\u001b[0m bike_owners[\u001b[38;5;124m\"\u001b[39m\u001b[38;5;124mDucati  Monster 1200\u001b[39m\u001b[38;5;124m\"\u001b[39m]\n",
      "\u001b[1;31mKeyError\u001b[0m: 'Ducati  Monster 1200'"
     ]
    }
   ],
   "source": [
    "bike_owners[\"Ducati  Monster 1200\"]"
   ]
  },
  {
   "cell_type": "code",
   "execution_count": null,
   "id": "3b2508e0",
   "metadata": {},
   "outputs": [],
   "source": [
    "##keys in a python dictionary needs to be unique "
   ]
  },
  {
   "cell_type": "code",
   "execution_count": 2,
   "id": "f90e3932",
   "metadata": {},
   "outputs": [],
   "source": [
    "students_details = {\n",
    "    \n",
    "        'Alice Smith': 1995 ,\n",
    "      \n",
    "\n",
    "        'Bob Johnson': 1997,\n",
    "    \n",
    "        'Charlie Davis': 1999,\n",
    "    \n",
    "}"
   ]
  },
  {
   "cell_type": "code",
   "execution_count": 19,
   "id": "fb01dfe1",
   "metadata": {},
   "outputs": [
    {
     "data": {
      "text/plain": [
       "dict_keys(['Alice Smith', 'Bob Johnson', 'Charlie Davis'])"
      ]
     },
     "execution_count": 19,
     "metadata": {},
     "output_type": "execute_result"
    }
   ],
   "source": [
    "students_details.keys()"
   ]
  },
  {
   "cell_type": "code",
   "execution_count": 20,
   "id": "46280e48",
   "metadata": {},
   "outputs": [
    {
     "data": {
      "text/plain": [
       "True"
      ]
     },
     "execution_count": 20,
     "metadata": {},
     "output_type": "execute_result"
    }
   ],
   "source": [
    "'Bob Johnson' in students_details.keys()"
   ]
  },
  {
   "cell_type": "code",
   "execution_count": 4,
   "id": "b3224dbf",
   "metadata": {},
   "outputs": [
    {
     "data": {
      "text/plain": [
       "dict_values([1995, 1997, 1999])"
      ]
     },
     "execution_count": 4,
     "metadata": {},
     "output_type": "execute_result"
    }
   ],
   "source": [
    "students_details.values()"
   ]
  },
  {
   "cell_type": "code",
   "execution_count": 3,
   "id": "7d22bb78",
   "metadata": {},
   "outputs": [
    {
     "data": {
      "text/plain": [
       "False"
      ]
     },
     "execution_count": 3,
     "metadata": {},
     "output_type": "execute_result"
    }
   ],
   "source": [
    "\"John smith\" in students_details.keys()"
   ]
  },
  {
   "cell_type": "code",
   "execution_count": 8,
   "id": "74313e96",
   "metadata": {},
   "outputs": [
    {
     "name": "stdout",
     "output_type": "stream",
     "text": [
      "{False: 'daniel', 'Aria:': [1, 2, 3], 'jacob': True}\n"
     ]
    }
   ],
   "source": [
    "mixed_dict = {False: 'daniel', \"Aria:\" : [1,2 ,3], 'jacob' :True}\n",
    "print(mixed_dict)"
   ]
  },
  {
   "cell_type": "code",
   "execution_count": 10,
   "id": "7538fbb1",
   "metadata": {},
   "outputs": [
    {
     "data": {
      "text/plain": [
       "'daniel'"
      ]
     },
     "execution_count": 10,
     "metadata": {},
     "output_type": "execute_result"
    }
   ],
   "source": [
    "mixed_dict[False]"
   ]
  },
  {
   "cell_type": "code",
   "execution_count": 3,
   "id": "cc769d01",
   "metadata": {},
   "outputs": [
    {
     "data": {
      "text/plain": [
       "{'bike_owner': 'John Doe',\n",
       " 'bike_model': 'Ducati Monster 1200',\n",
       " 'bike_price': 5164.0,\n",
       " 'engine_displacement': 1200}"
      ]
     },
     "execution_count": 3,
     "metadata": {},
     "output_type": "execute_result"
    }
   ],
   "source": [
    "bike_details =  {\n",
    "    'bike_owner': 'John Doe',\n",
    "    'bike_model': 'Ducati Monster 1200',\n",
    "    'bike_price': 5164.0,  # Replace with the actual price\n",
    "    'engine_displacement': 1200,  # Replace with the actual engine displacement\n",
    "    # Add more information as needed\n",
    "}\n",
    "\n",
    "bike_details"
   ]
  },
  {
   "cell_type": "code",
   "execution_count": 14,
   "id": "e55e0c20",
   "metadata": {},
   "outputs": [],
   "source": [
    "bike_details['num_cylinders']= 2"
   ]
  },
  {
   "cell_type": "code",
   "execution_count": 4,
   "id": "ad83c88d",
   "metadata": {},
   "outputs": [
    {
     "data": {
      "text/plain": [
       "{'bike_owner': 'John Doe',\n",
       " 'bike_model': 'Ducati Monster 1200',\n",
       " 'bike_price': 5164.0,\n",
       " 'engine_displacement': 1200}"
      ]
     },
     "execution_count": 4,
     "metadata": {},
     "output_type": "execute_result"
    }
   ],
   "source": [
    "bike_details"
   ]
  },
  {
   "cell_type": "code",
   "execution_count": 5,
   "id": "9b25a914",
   "metadata": {},
   "outputs": [
    {
     "data": {
      "text/plain": [
       "5164.0"
      ]
     },
     "execution_count": 5,
     "metadata": {},
     "output_type": "execute_result"
    }
   ],
   "source": [
    "# bike_details['bike_price'] = 20100\n",
    "\n",
    "bike_details.get('bike_price')"
   ]
  },
  {
   "cell_type": "code",
   "execution_count": 10,
   "id": "2e96b86c",
   "metadata": {},
   "outputs": [
    {
     "name": "stdout",
     "output_type": "stream",
     "text": [
      "{'Apple': {'field1': 7, 'field2': 19, 'field3': 26, 'field4': 33}, 'Banana': {'field1': 1, 'field2': 11, 'field3': 27, 'field4': 40}, 'Orange': {'field1': 4, 'field2': 19, 'field3': 26, 'field4': 34}, 'Grapes': {'field1': 4, 'field2': 20, 'field3': 30, 'field4': 35}, 'Pineapple': {'field1': 10, 'field2': 11, 'field3': 25, 'field4': 39}}\n"
     ]
    },
    {
     "ename": "NameError",
     "evalue": "name 'fruits' is not defined",
     "output_type": "error",
     "traceback": [
      "\u001b[1;31m---------------------------------------------------------------------------\u001b[0m",
      "\u001b[1;31mNameError\u001b[0m                                 Traceback (most recent call last)",
      "Cell \u001b[1;32mIn[10], line 17\u001b[0m\n\u001b[0;32m     13\u001b[0m \u001b[38;5;28mprint\u001b[39m(fruit_qty_consumed)\n\u001b[0;32m     15\u001b[0m \u001b[38;5;28;01mdel\u001b[39;00m[fruits]\n\u001b[1;32m---> 17\u001b[0m fruits\u001b[38;5;241m.\u001b[39mclear()\n",
      "\u001b[1;31mNameError\u001b[0m: name 'fruits' is not defined"
     ]
    }
   ],
   "source": [
    "import random\n",
    "\n",
    "# List of fruits\n",
    "fruits = ['Apple', 'Banana', 'Orange', 'Grapes', 'Pineapple']\n",
    "\n",
    "# Dictionary with 5 fruits, each having 4 fields with random numbers\n",
    "fruit_qty_consumed = {fruit: {'field1': random.randint(1, 10),\n",
    "                              'field2': random.randint(10, 20),\n",
    "                              'field3': random.randint(20, 30),\n",
    "                              'field4': random.randint(30, 40)}\n",
    "                     for fruit in fruits}\n",
    "\n",
    "print(fruit_qty_consumed)\n",
    "\n",
    "del[fruits]\n",
    "\n"
   ]
  },
  {
   "cell_type": "code",
   "execution_count": 11,
   "id": "8f2d0961",
   "metadata": {},
   "outputs": [
    {
     "ename": "NameError",
     "evalue": "name 'fruits' is not defined",
     "output_type": "error",
     "traceback": [
      "\u001b[1;31m---------------------------------------------------------------------------\u001b[0m",
      "\u001b[1;31mNameError\u001b[0m                                 Traceback (most recent call last)",
      "Cell \u001b[1;32mIn[11], line 1\u001b[0m\n\u001b[1;32m----> 1\u001b[0m fruits\n",
      "\u001b[1;31mNameError\u001b[0m: name 'fruits' is not defined"
     ]
    }
   ],
   "source": [
    "fruits"
   ]
  }
 ],
 "metadata": {
  "kernelspec": {
   "display_name": "Python 3 (ipykernel)",
   "language": "python",
   "name": "python3"
  },
  "language_info": {
   "codemirror_mode": {
    "name": "ipython",
    "version": 3
   },
   "file_extension": ".py",
   "mimetype": "text/x-python",
   "name": "python",
   "nbconvert_exporter": "python",
   "pygments_lexer": "ipython3",
   "version": "3.11.5"
  }
 },
 "nbformat": 4,
 "nbformat_minor": 5
}
