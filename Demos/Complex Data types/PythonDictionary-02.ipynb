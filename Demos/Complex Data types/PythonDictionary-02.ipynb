{
 "cells": [
  {
   "cell_type": "code",
   "execution_count": 2,
   "id": "2b0c0b6a",
   "metadata": {},
   "outputs": [
    {
     "data": {
      "text/plain": [
       "{}"
      ]
     },
     "execution_count": 2,
     "metadata": {},
     "output_type": "execute_result"
    }
   ],
   "source": [
    "fruit_qty = {}\n",
    "\n",
    "fruit_qty"
   ]
  },
  {
   "cell_type": "code",
   "execution_count": 15,
   "id": "4160a390",
   "metadata": {},
   "outputs": [],
   "source": [
    "fruit_qty['Banana'] = 50\n",
    "fruit_qty['apple'] = 78\n",
    "fruit_qty['avocardo'] = 30 "
   ]
  },
  {
   "cell_type": "code",
   "execution_count": 13,
   "id": "58029307",
   "metadata": {},
   "outputs": [
    {
     "data": {
      "text/plain": [
       "{'Banana': 50, 'apple': 78, 'avocardo': 30, 'Watermelon': 10}"
      ]
     },
     "execution_count": 13,
     "metadata": {},
     "output_type": "execute_result"
    }
   ],
   "source": [
    "# fruit_qty['avocado']\n",
    "\n",
    "fruit_qty['Apricot'] = 30\n",
    "\n",
    "\n",
    "\n"
   ]
  },
  {
   "cell_type": "code",
   "execution_count": 16,
   "id": "d371c399",
   "metadata": {},
   "outputs": [],
   "source": [
    "fruit_qty_consumed = {'banana' : [50, 60, 40, 55],\n",
    "                        'Apple' : [570, 22, 40, 55],\n",
    "                         'Apricot ' : [  40 , 70 ,30 ,55],\n",
    "                         'Orange' : [570, 33, 89, 98],\n",
    "                         'Avocado' :[220, 22, 89, 98] }\n",
    "\n",
    "## associated a list of values "
   ]
  },
  {
   "cell_type": "code",
   "execution_count": 19,
   "id": "122cb057",
   "metadata": {},
   "outputs": [
    {
     "data": {
      "text/plain": [
       "[220, 22, 89, 98]"
      ]
     },
     "execution_count": 19,
     "metadata": {},
     "output_type": "execute_result"
    }
   ],
   "source": [
    "fruit_qty_consumed['Avocado']\n",
    "##fuit orange at index position 3"
   ]
  },
  {
   "cell_type": "code",
   "execution_count": 21,
   "id": "e77fd75a",
   "metadata": {},
   "outputs": [],
   "source": [
    "fruit_qty_consumed['Avocado'][3] = 50\n",
    "##fruit at avocardo update the value at postion 3 = 50"
   ]
  },
  {
   "cell_type": "code",
   "execution_count": 22,
   "id": "5dfb78bf",
   "metadata": {},
   "outputs": [
    {
     "data": {
      "text/plain": [
       "{'banana': [50, 60, 40, 55],\n",
       " 'Apple': [570, 22, 40, 55],\n",
       " 'Apricot ': [40, 70, 30, 55],\n",
       " 'Orange': [570, 33, 89, 98],\n",
       " 'Avocado': [220, 22, 89, 50]}"
      ]
     },
     "execution_count": 22,
     "metadata": {},
     "output_type": "execute_result"
    }
   ],
   "source": [
    "fruit_qty_consumed"
   ]
  }
 ],
 "metadata": {
  "kernelspec": {
   "display_name": "Python 3 (ipykernel)",
   "language": "python",
   "name": "python3"
  },
  "language_info": {
   "codemirror_mode": {
    "name": "ipython",
    "version": 3
   },
   "file_extension": ".py",
   "mimetype": "text/x-python",
   "name": "python",
   "nbconvert_exporter": "python",
   "pygments_lexer": "ipython3",
   "version": "3.11.5"
  }
 },
 "nbformat": 4,
 "nbformat_minor": 5
}
