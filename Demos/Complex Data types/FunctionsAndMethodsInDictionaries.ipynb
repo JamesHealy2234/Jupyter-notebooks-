{
 "cells": [
  {
   "cell_type": "code",
   "execution_count": 3,
   "id": "0b0b2e45",
   "metadata": {},
   "outputs": [
    {
     "data": {
      "text/plain": [
       "{'James': 'Ducati  Monster 1200',\n",
       " 'Jacob': 'Kawasaki',\n",
       " 'Connor': 'Honda',\n",
       " 'Sam': 'Yamaha',\n",
       " 'Aiden': 'Harley Davidson'}"
      ]
     },
     "execution_count": 3,
     "metadata": {},
     "output_type": "execute_result"
    }
   ],
   "source": [
    "bike_owners={\"James\":\"Ducati  Monster 1200\", \"Jacob\":\"Kawasaki\", \"Connor\":\"Honda\",\"Sam\":\"Yamaha\", \"Aiden\": \"Harley Davidson\"}\n",
    "\n",
    "\n",
    "bike_owners\n"
   ]
  },
  {
   "cell_type": "code",
   "execution_count": 7,
   "id": "f82003d5",
   "metadata": {},
   "outputs": [
    {
     "data": {
      "text/plain": [
       "5"
      ]
     },
     "execution_count": 7,
     "metadata": {},
     "output_type": "execute_result"
    }
   ],
   "source": [
    "len(bike_owners.values())"
   ]
  },
  {
   "cell_type": "code",
   "execution_count": 20,
   "id": "1ed92127",
   "metadata": {},
   "outputs": [],
   "source": [
    "bike_details = {\"Owner\" : \"james ford\",\n",
    "                 \"Bike_make\" : \"suzuki 3SX\",\n",
    "                 \"bike Price\" : 23400 , \n",
    "                    'engine_displacement' :110200\n",
    "                   }"
   ]
  },
  {
   "cell_type": "code",
   "execution_count": 10,
   "id": "baa3a1e7",
   "metadata": {},
   "outputs": [
    {
     "data": {
      "text/plain": [
       "['Bike_make', 'Owner', 'bike Price', 'egine_displacement']"
      ]
     },
     "execution_count": 10,
     "metadata": {},
     "output_type": "execute_result"
    }
   ],
   "source": [
    "sorted(bike_details)"
   ]
  },
  {
   "cell_type": "code",
   "execution_count": 11,
   "id": "49164604",
   "metadata": {},
   "outputs": [
    {
     "data": {
      "text/plain": [
       "['egine_displacement', 'bike Price', 'Owner', 'Bike_make']"
      ]
     },
     "execution_count": 11,
     "metadata": {},
     "output_type": "execute_result"
    }
   ],
   "source": [
    "sorted(bike_details, reverse= True)"
   ]
  },
  {
   "cell_type": "code",
   "execution_count": 13,
   "id": "a6a89cc4",
   "metadata": {},
   "outputs": [
    {
     "ename": "TypeError",
     "evalue": "'<' not supported between instances of 'int' and 'str'",
     "output_type": "error",
     "traceback": [
      "\u001b[1;31m---------------------------------------------------------------------------\u001b[0m",
      "\u001b[1;31mTypeError\u001b[0m                                 Traceback (most recent call last)",
      "Cell \u001b[1;32mIn[13], line 1\u001b[0m\n\u001b[1;32m----> 1\u001b[0m \u001b[38;5;28msorted\u001b[39m(bike_details\u001b[38;5;241m.\u001b[39mvalues())\n",
      "\u001b[1;31mTypeError\u001b[0m: '<' not supported between instances of 'int' and 'str'"
     ]
    }
   ],
   "source": [
    "sorted(bike_details.values())"
   ]
  },
  {
   "cell_type": "code",
   "execution_count": 14,
   "id": "de32d4b1",
   "metadata": {},
   "outputs": [
    {
     "data": {
      "text/plain": [
       "dict_items([('Owner', 'james ford'), ('Bike_make', 'suzuki 3SX'), ('bike Price', 23400), ('egine_displacement', 110200)])"
      ]
     },
     "execution_count": 14,
     "metadata": {},
     "output_type": "execute_result"
    }
   ],
   "source": [
    "bike_details.items()"
   ]
  },
  {
   "cell_type": "code",
   "execution_count": 21,
   "id": "cdd4837d",
   "metadata": {},
   "outputs": [],
   "source": [
    "copy_bike_details = bike_details.copy()"
   ]
  },
  {
   "cell_type": "code",
   "execution_count": 22,
   "id": "a45f2475",
   "metadata": {},
   "outputs": [
    {
     "data": {
      "text/plain": [
       "110200"
      ]
     },
     "execution_count": 22,
     "metadata": {},
     "output_type": "execute_result"
    }
   ],
   "source": [
    "copy_bike_details.pop('engine_displacement')"
   ]
  },
  {
   "cell_type": "code",
   "execution_count": 32,
   "id": "17b372cc",
   "metadata": {},
   "outputs": [
    {
     "data": {
      "text/plain": [
       "{'Owner': 'james ford', 'Bike_make': 'suzuki 3SX', 'bike Price': 23400}"
      ]
     },
     "execution_count": 32,
     "metadata": {},
     "output_type": "execute_result"
    }
   ],
   "source": [
    "copy_bike_details"
   ]
  },
  {
   "cell_type": "code",
   "execution_count": 33,
   "id": "066f9d3f",
   "metadata": {},
   "outputs": [
    {
     "data": {
      "text/plain": [
       "('bike Price', 23400)"
      ]
     },
     "execution_count": 33,
     "metadata": {},
     "output_type": "execute_result"
    }
   ],
   "source": [
    "copy_bike_details.popitem()"
   ]
  },
  {
   "cell_type": "code",
   "execution_count": 34,
   "id": "7de63c67",
   "metadata": {},
   "outputs": [
    {
     "data": {
      "text/plain": [
       "{'Owner': 'james ford', 'Bike_make': 'suzuki 3SX'}"
      ]
     },
     "execution_count": 34,
     "metadata": {},
     "output_type": "execute_result"
    }
   ],
   "source": [
    "copy_bike_details"
   ]
  },
  {
   "cell_type": "code",
   "execution_count": 35,
   "id": "0f956135",
   "metadata": {},
   "outputs": [],
   "source": [
    "dict_age = {\"Ethan\": 54, \"Sofia\": 50}\n",
    "\n",
    "new_dict_age = { \"Ethan\": 55, \"Harper\": 58 }"
   ]
  },
  {
   "cell_type": "code",
   "execution_count": 37,
   "id": "5f315697",
   "metadata": {},
   "outputs": [
    {
     "data": {
      "text/plain": [
       "{'Ethan': 55, 'Sofia': 50, 'Harper': 58}"
      ]
     },
     "execution_count": 37,
     "metadata": {},
     "output_type": "execute_result"
    }
   ],
   "source": [
    "dict_age.update(new_dict_age)\n",
    "\n",
    "dict_age"
   ]
  }
 ],
 "metadata": {
  "kernelspec": {
   "display_name": "Python 3 (ipykernel)",
   "language": "python",
   "name": "python3"
  },
  "language_info": {
   "codemirror_mode": {
    "name": "ipython",
    "version": 3
   },
   "file_extension": ".py",
   "mimetype": "text/x-python",
   "name": "python",
   "nbconvert_exporter": "python",
   "pygments_lexer": "ipython3",
   "version": "3.11.5"
  }
 },
 "nbformat": 4,
 "nbformat_minor": 5
}
