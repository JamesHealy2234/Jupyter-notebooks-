{
 "cells": [
  {
   "cell_type": "code",
   "execution_count": 1,
   "id": "d8e4e112",
   "metadata": {},
   "outputs": [
    {
     "data": {
      "text/plain": [
       "{'Emma', 'ava', 'mia', 'olivia'}"
      ]
     },
     "execution_count": 1,
     "metadata": {},
     "output_type": "execute_result"
    }
   ],
   "source": [
    "set_string = {\"Emma\", \"olivia\", \"ava\", \"mia\"}\n",
    "\n",
    "set_string"
   ]
  },
  {
   "cell_type": "code",
   "execution_count": null,
   "id": "31d3a815",
   "metadata": {},
   "outputs": [],
   "source": [
    "## no intrinsic order"
   ]
  },
  {
   "cell_type": "code",
   "execution_count": 2,
   "id": "b8ab8fa8",
   "metadata": {},
   "outputs": [],
   "source": [
    "empty_set = set()"
   ]
  },
  {
   "cell_type": "code",
   "execution_count": 4,
   "id": "269323b4",
   "metadata": {},
   "outputs": [],
   "source": [
    "mixed_set = {\"Emma\", 5, 1.5, True}"
   ]
  },
  {
   "cell_type": "code",
   "execution_count": 5,
   "id": "2f5233c2",
   "metadata": {},
   "outputs": [],
   "source": [
    "mixed_set1 = {\"Emma\", 5 , 1.5 , True, (1,2,3)}"
   ]
  },
  {
   "cell_type": "code",
   "execution_count": 6,
   "id": "525ae75c",
   "metadata": {},
   "outputs": [
    {
     "data": {
      "text/plain": [
       "{(1, 2, 3), 1.5, 5, 'Emma', True}"
      ]
     },
     "execution_count": 6,
     "metadata": {},
     "output_type": "execute_result"
    }
   ],
   "source": [
    "mixed_set1"
   ]
  },
  {
   "cell_type": "code",
   "execution_count": 7,
   "id": "f688a587",
   "metadata": {},
   "outputs": [],
   "source": [
    "set_list = (1,2,3, [4,5,6])"
   ]
  },
  {
   "cell_type": "code",
   "execution_count": 9,
   "id": "0241cabe",
   "metadata": {},
   "outputs": [
    {
     "ename": "TypeError",
     "evalue": "unhashable type: 'dict'",
     "output_type": "error",
     "traceback": [
      "\u001b[1;31m---------------------------------------------------------------------------\u001b[0m",
      "\u001b[1;31mTypeError\u001b[0m                                 Traceback (most recent call last)",
      "Cell \u001b[1;32mIn[9], line 1\u001b[0m\n\u001b[1;32m----> 1\u001b[0m set_dict \u001b[38;5;241m=\u001b[39m {\u001b[38;5;241m1\u001b[39m,\u001b[38;5;241m2\u001b[39m,\u001b[38;5;241m3\u001b[39m,\u001b[38;5;241m4\u001b[39m,  {\u001b[38;5;241m4\u001b[39m:\u001b[38;5;124m\"\u001b[39m\u001b[38;5;124memma\u001b[39m\u001b[38;5;124m\"\u001b[39m}}\n",
      "\u001b[1;31mTypeError\u001b[0m: unhashable type: 'dict'"
     ]
    }
   ],
   "source": [
    "set_dict = {1,2,3,4,  {4:\"emma\"}}"
   ]
  },
  {
   "cell_type": "code",
   "execution_count": 11,
   "id": "aa045f1b",
   "metadata": {},
   "outputs": [
    {
     "data": {
      "text/plain": [
       "{'ava', 'emma', 'max'}"
      ]
     },
     "execution_count": 11,
     "metadata": {},
     "output_type": "execute_result"
    }
   ],
   "source": [
    "student_set = {\"emma\", \"ava\" , \"max\", \"max\"}\n",
    "student_set"
   ]
  },
  {
   "cell_type": "code",
   "execution_count": 13,
   "id": "a1be899d",
   "metadata": {},
   "outputs": [
    {
     "data": {
      "text/plain": [
       "{1, 10, 2, 3, 4, 5, 6, 8, 'a'}"
      ]
     },
     "execution_count": 13,
     "metadata": {},
     "output_type": "execute_result"
    }
   ],
   "source": [
    "set_1 = {1,2, 4,5,8, 'a', 6 ,2, 10 , 3, 4}\n",
    "set_1"
   ]
  },
  {
   "cell_type": "code",
   "execution_count": 26,
   "id": "4346be25",
   "metadata": {},
   "outputs": [
    {
     "data": {
      "text/plain": [
       "{1, 10, 2, 3, 4, 5, 6, 8, 9, 9.5, 'a'}"
      ]
     },
     "execution_count": 26,
     "metadata": {},
     "output_type": "execute_result"
    }
   ],
   "source": [
    "set_1.add(9)\n",
    "set_1"
   ]
  },
  {
   "cell_type": "code",
   "execution_count": null,
   "id": "d029dd7d",
   "metadata": {},
   "outputs": [],
   "source": [
    "##you have functions like .discard() and .remove() for sets \n",
    "##discard will do nothing id the item has been removed unlike .remove wil throw an error"
   ]
  },
  {
   "cell_type": "code",
   "execution_count": 27,
   "id": "9f234704",
   "metadata": {},
   "outputs": [],
   "source": [
    "set_1.clear()"
   ]
  },
  {
   "cell_type": "code",
   "execution_count": 28,
   "id": "17a536bb",
   "metadata": {},
   "outputs": [
    {
     "data": {
      "text/plain": [
       "set()"
      ]
     },
     "execution_count": 28,
     "metadata": {},
     "output_type": "execute_result"
    }
   ],
   "source": [
    "set_1"
   ]
  }
 ],
 "metadata": {
  "kernelspec": {
   "display_name": "Python 3 (ipykernel)",
   "language": "python",
   "name": "python3"
  },
  "language_info": {
   "codemirror_mode": {
    "name": "ipython",
    "version": 3
   },
   "file_extension": ".py",
   "mimetype": "text/x-python",
   "name": "python",
   "nbconvert_exporter": "python",
   "pygments_lexer": "ipython3",
   "version": "3.11.5"
  }
 },
 "nbformat": 4,
 "nbformat_minor": 5
}
