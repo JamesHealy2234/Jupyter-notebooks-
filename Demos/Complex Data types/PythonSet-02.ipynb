{
 "cells": [
  {
   "cell_type": "code",
   "execution_count": 9,
   "id": "c0dc21fa",
   "metadata": {},
   "outputs": [],
   "source": [
    "number1 = {1,2,3,4,5}\n",
    "\n",
    "\n",
    "number2= {4,5,6,7,8}\n",
    "\n",
    "number3 = {7,8,9,10,11,12}\n",
    "\n",
    "\n"
   ]
  },
  {
   "cell_type": "code",
   "execution_count": 13,
   "id": "939a756b",
   "metadata": {},
   "outputs": [],
   "source": [
    "student_set_1 = {\"ava\", \"Emma\", \"james\"}\n",
    "\n",
    "student_set_2 = {\"james\", \"mia\", \"Olivia\"}\n",
    "\n",
    "student_set_3 = {\"Olivia\", \"Sarah\", \"sofia\"}"
   ]
  },
  {
   "cell_type": "code",
   "execution_count": 10,
   "id": "e036a696",
   "metadata": {},
   "outputs": [
    {
     "name": "stdout",
     "output_type": "stream",
     "text": [
      "{1, 2, 3, 4, 5}\n",
      "{4, 5, 6, 7, 8}\n",
      "{7, 8, 9, 10, 11, 12}\n"
     ]
    }
   ],
   "source": [
    "print(number1)\n",
    "print(number2)\n",
    "print(number3)"
   ]
  },
  {
   "cell_type": "code",
   "execution_count": 11,
   "id": "dd043a34",
   "metadata": {},
   "outputs": [
    {
     "data": {
      "text/plain": [
       "{1, 2, 3}"
      ]
     },
     "execution_count": 11,
     "metadata": {},
     "output_type": "execute_result"
    }
   ],
   "source": [
    "number1.difference(number2)"
   ]
  },
  {
   "cell_type": "code",
   "execution_count": 15,
   "id": "70400fa1",
   "metadata": {},
   "outputs": [
    {
     "data": {
      "text/plain": [
       "{'Emma', 'ava'}"
      ]
     },
     "execution_count": 15,
     "metadata": {},
     "output_type": "execute_result"
    }
   ],
   "source": [
    "diff_set = student_set_1.difference(student_set_2)\n",
    "\n",
    "diff_set\n",
    "\n",
    "##ava emma are not present in the second and third set"
   ]
  },
  {
   "cell_type": "code",
   "execution_count": 16,
   "id": "5e815fa5",
   "metadata": {},
   "outputs": [
    {
     "data": {
      "text/plain": [
       "{4, 5}"
      ]
     },
     "execution_count": 16,
     "metadata": {},
     "output_type": "execute_result"
    }
   ],
   "source": [
    "number1.intersection_update(number2)\n",
    "\n",
    "number1"
   ]
  },
  {
   "cell_type": "code",
   "execution_count": 18,
   "id": "baf0bfd8",
   "metadata": {},
   "outputs": [
    {
     "data": {
      "text/plain": [
       "True"
      ]
     },
     "execution_count": 18,
     "metadata": {},
     "output_type": "execute_result"
    }
   ],
   "source": [
    "{1,2,3}.isdisjoint({4,5,6})"
   ]
  },
  {
   "cell_type": "code",
   "execution_count": 19,
   "id": "1d388bed",
   "metadata": {},
   "outputs": [
    {
     "data": {
      "text/plain": [
       "False"
      ]
     },
     "execution_count": 19,
     "metadata": {},
     "output_type": "execute_result"
    }
   ],
   "source": [
    "{1,2,3}.isdisjoint({1,2,4,6})"
   ]
  }
 ],
 "metadata": {
  "kernelspec": {
   "display_name": "Python 3 (ipykernel)",
   "language": "python",
   "name": "python3"
  },
  "language_info": {
   "codemirror_mode": {
    "name": "ipython",
    "version": 3
   },
   "file_extension": ".py",
   "mimetype": "text/x-python",
   "name": "python",
   "nbconvert_exporter": "python",
   "pygments_lexer": "ipython3",
   "version": "3.11.5"
  }
 },
 "nbformat": 4,
 "nbformat_minor": 5
}
