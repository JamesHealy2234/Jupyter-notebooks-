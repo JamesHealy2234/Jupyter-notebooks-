{
 "cells": [
  {
   "cell_type": "code",
   "execution_count": 16,
   "id": "5998e07c",
   "metadata": {},
   "outputs": [
    {
     "data": {
      "text/plain": [
       "[['hennesdsay Venom GT', 1244],\n",
       " ['SSC ultimate Aero', 1287],\n",
       " ['Zenvo STI', 1100]]"
      ]
     },
     "execution_count": 16,
     "metadata": {},
     "output_type": "execute_result"
    }
   ],
   "source": [
    "car_matrix = [[\"hennesdsay Venom GT\", 1244], ['SSC ultimate Aero', 1287 ],['Zenvo STI', 1100]] \n",
    "\n",
    "car_matrix"
   ]
  },
  {
   "cell_type": "code",
   "execution_count": 3,
   "id": "12f8e93c",
   "metadata": {},
   "outputs": [
    {
     "data": {
      "text/plain": [
       "3"
      ]
     },
     "execution_count": 3,
     "metadata": {},
     "output_type": "execute_result"
    }
   ],
   "source": [
    "len(car_matrix)"
   ]
  },
  {
   "cell_type": "code",
   "execution_count": 4,
   "id": "3ceb4ced",
   "metadata": {},
   "outputs": [
    {
     "data": {
      "text/plain": [
       "2"
      ]
     },
     "execution_count": 4,
     "metadata": {},
     "output_type": "execute_result"
    }
   ],
   "source": [
    "len(car_matrix[1])"
   ]
  },
  {
   "cell_type": "code",
   "execution_count": 5,
   "id": "5af71ba0",
   "metadata": {},
   "outputs": [
    {
     "data": {
      "text/plain": [
       "'SSC ultimate Aero'"
      ]
     },
     "execution_count": 5,
     "metadata": {},
     "output_type": "execute_result"
    }
   ],
   "source": [
    "car_matrix[1][0]"
   ]
  },
  {
   "cell_type": "code",
   "execution_count": 6,
   "id": "e8ad50dc",
   "metadata": {},
   "outputs": [],
   "source": [
    "A = [[1, 4, 5, 12], \n",
    "    [-5, 8, 9, 0],\n",
    "    [-6, 7, 11, 19]]"
   ]
  },
  {
   "cell_type": "code",
   "execution_count": 13,
   "id": "ce8b5b89",
   "metadata": {},
   "outputs": [
    {
     "name": "stdout",
     "output_type": "stream",
     "text": [
      "A List =  [[1, 4, 5, 12], [-5, 8, 9, 0], [-6, 7, 11, 19]]\n"
     ]
    }
   ],
   "source": [
    "print(\"A List = \", A) ## you need to use two square brackets to access nested list"
   ]
  },
  {
   "cell_type": "code",
   "execution_count": 23,
   "id": "924fd2d2",
   "metadata": {},
   "outputs": [
    {
     "data": {
      "text/plain": [
       "['Zenvo STI', 1100]"
      ]
     },
     "execution_count": 23,
     "metadata": {},
     "output_type": "execute_result"
    }
   ],
   "source": [
    "car_matrix[2][0:2]"
   ]
  },
  {
   "cell_type": "code",
   "execution_count": 25,
   "id": "8e1d0f0c",
   "metadata": {},
   "outputs": [
    {
     "data": {
      "text/plain": [
       "[11, 19]"
      ]
     },
     "execution_count": 25,
     "metadata": {},
     "output_type": "execute_result"
    }
   ],
   "source": [
    "A[2][2:4]"
   ]
  },
  {
   "cell_type": "code",
   "execution_count": 26,
   "id": "aa751b57",
   "metadata": {},
   "outputs": [
    {
     "name": "stdout",
     "output_type": "stream",
     "text": [
      "[70]\n"
     ]
    }
   ],
   "source": [
    "# Initialize list\n",
    "Lst = [50, 70, 30, 20, 90, 10, 50]\n",
    "\n",
    "# Display list\n",
    "print(Lst[1:2])\n",
    "\n",
    "#does not inlclude the last number in the brackets \n"
   ]
  },
  {
   "cell_type": "code",
   "execution_count": null,
   "id": "f9fb511e",
   "metadata": {},
   "outputs": [],
   "source": [
    "################ Convertin list to Tuyple #################### next vid"
   ]
  },
  {
   "cell_type": "code",
   "execution_count": 27,
   "id": "6b8b21cc",
   "metadata": {},
   "outputs": [],
   "source": [
    "my_list = [['Leo', 17], ['Aaron' , 25], ['Easton' , 34], ['Jack' , 70] ]"
   ]
  },
  {
   "cell_type": "code",
   "execution_count": 30,
   "id": "ad19d466",
   "metadata": {},
   "outputs": [
    {
     "data": {
      "text/plain": [
       "(['Leo', 17], ['Aaron', 25], ['Easton', 34], ['Jack', 70])"
      ]
     },
     "execution_count": 30,
     "metadata": {},
     "output_type": "execute_result"
    }
   ],
   "source": [
    "tuple(my_list)"
   ]
  },
  {
   "cell_type": "code",
   "execution_count": 31,
   "id": "4d8fe841",
   "metadata": {},
   "outputs": [],
   "source": [
    "student_list = [[1, 'Caleb',  2, 'Leo'], [3, 'easton'] , [4,'Jordan', 'JamesyM8']]"
   ]
  },
  {
   "cell_type": "code",
   "execution_count": null,
   "id": "2b18819a",
   "metadata": {},
   "outputs": [],
   "source": []
  },
  {
   "cell_type": "code",
   "execution_count": 32,
   "id": "564915db",
   "metadata": {},
   "outputs": [
    {
     "data": {
      "text/plain": [
       "[[1, 'Caleb', 2, 'Leo'], [3, 'easton', 4, 'Jordan']]"
      ]
     },
     "execution_count": 32,
     "metadata": {},
     "output_type": "execute_result"
    }
   ],
   "source": [
    "student_list ## two dimesions"
   ]
  },
  {
   "cell_type": "code",
   "execution_count": 34,
   "id": "641e0245",
   "metadata": {},
   "outputs": [
    {
     "ename": "ValueError",
     "evalue": "dictionary update sequence element #0 has length 4; 2 is required",
     "output_type": "error",
     "traceback": [
      "\u001b[1;31m---------------------------------------------------------------------------\u001b[0m",
      "\u001b[1;31mValueError\u001b[0m                                Traceback (most recent call last)",
      "Cell \u001b[1;32mIn[34], line 1\u001b[0m\n\u001b[1;32m----> 1\u001b[0m \u001b[38;5;28mdict\u001b[39m(student_list)\n",
      "\u001b[1;31mValueError\u001b[0m: dictionary update sequence element #0 has length 4; 2 is required"
     ]
    }
   ],
   "source": [
    "dict(student_list)"
   ]
  },
  {
   "cell_type": "code",
   "execution_count": 36,
   "id": "a8c77d47",
   "metadata": {},
   "outputs": [],
   "source": [
    "student_list = [[1, 'Caleb'], [ 2, 'Leo'], \n",
    "                [3, 'easton'], [4,'Jordan']]"
   ]
  },
  {
   "cell_type": "code",
   "execution_count": 37,
   "id": "0b12abaf",
   "metadata": {},
   "outputs": [
    {
     "data": {
      "text/plain": [
       "{1: 'Caleb', 2: 'Leo', 3: 'easton', 4: 'Jordan'}"
      ]
     },
     "execution_count": 37,
     "metadata": {},
     "output_type": "execute_result"
    }
   ],
   "source": [
    "dict(student_list)"
   ]
  },
  {
   "cell_type": "code",
   "execution_count": 43,
   "id": "304b02b4",
   "metadata": {},
   "outputs": [],
   "source": [
    "student_list_2 = [[1, 'Caleb'] , [2, 'Leo'], [3, 'easton'] , [4,['Jordan', 'JamesyM8']]]\n",
    "##dict items must be able to distingues between a value and key hence the seperation with 3 inner seperate values inthe list"
   ]
  },
  {
   "cell_type": "code",
   "execution_count": 44,
   "id": "928df9e7",
   "metadata": {},
   "outputs": [
    {
     "data": {
      "text/plain": [
       "{1: 'Caleb', 2: 'Leo', 3: 'easton', 4: ['Jordan', 'JamesyM8']}"
      ]
     },
     "execution_count": 44,
     "metadata": {},
     "output_type": "execute_result"
    }
   ],
   "source": [
    "dict(student_list_2)"
   ]
  },
  {
   "cell_type": "code",
   "execution_count": 45,
   "id": "55a934eb",
   "metadata": {},
   "outputs": [
    {
     "ename": "NameError",
     "evalue": "name 'car_matrix_dict' is not defined",
     "output_type": "error",
     "traceback": [
      "\u001b[1;31m---------------------------------------------------------------------------\u001b[0m",
      "\u001b[1;31mNameError\u001b[0m                                 Traceback (most recent call last)",
      "Cell \u001b[1;32mIn[45], line 1\u001b[0m\n\u001b[1;32m----> 1\u001b[0m car_matrix_dict\n",
      "\u001b[1;31mNameError\u001b[0m: name 'car_matrix_dict' is not defined"
     ]
    }
   ],
   "source": [
    "car_matrix"
   ]
  }
 ],
 "metadata": {
  "kernelspec": {
   "display_name": "Python 3 (ipykernel)",
   "language": "python",
   "name": "python3"
  },
  "language_info": {
   "codemirror_mode": {
    "name": "ipython",
    "version": 3
   },
   "file_extension": ".py",
   "mimetype": "text/x-python",
   "name": "python",
   "nbconvert_exporter": "python",
   "pygments_lexer": "ipython3",
   "version": "3.11.5"
  }
 },
 "nbformat": 4,
 "nbformat_minor": 5
}
