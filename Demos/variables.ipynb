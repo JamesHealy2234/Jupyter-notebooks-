{
 "cells": [
  {
   "cell_type": "code",
   "execution_count": 2,
   "id": "441bb1db",
   "metadata": {},
   "outputs": [
    {
     "data": {
      "text/plain": [
       "14000"
      ]
     },
     "execution_count": 2,
     "metadata": {},
     "output_type": "execute_result"
    }
   ],
   "source": [
    "24000-10000"
   ]
  },
  {
   "cell_type": "code",
   "execution_count": 5,
   "id": "06749aaa",
   "metadata": {},
   "outputs": [
    {
     "data": {
      "text/plain": [
       "90000"
      ]
     },
     "execution_count": 5,
     "metadata": {},
     "output_type": "execute_result"
    }
   ],
   "source": [
    "salary = 90000\n",
    "\n",
    "salary"
   ]
  },
  {
   "cell_type": "code",
   "execution_count": 7,
   "id": "ab2b4ea5",
   "metadata": {},
   "outputs": [],
   "source": [
    "house_rent = 10000\n",
    "\n",
    "food_exp = 5000"
   ]
  },
  {
   "cell_type": "code",
   "execution_count": 8,
   "id": "6c66e5a9",
   "metadata": {},
   "outputs": [
    {
     "data": {
      "text/plain": [
       "10000"
      ]
     },
     "execution_count": 8,
     "metadata": {},
     "output_type": "execute_result"
    }
   ],
   "source": [
    "house_rent"
   ]
  },
  {
   "cell_type": "code",
   "execution_count": 9,
   "id": "0d7e5e41",
   "metadata": {},
   "outputs": [
    {
     "data": {
      "text/plain": [
       "5000"
      ]
     },
     "execution_count": 9,
     "metadata": {},
     "output_type": "execute_result"
    }
   ],
   "source": [
    "food_exp"
   ]
  },
  {
   "cell_type": "code",
   "execution_count": 10,
   "id": "7b1da1e0",
   "metadata": {},
   "outputs": [],
   "source": [
    "total_expense = house_rent + food_exp"
   ]
  },
  {
   "cell_type": "code",
   "execution_count": 11,
   "id": "b314227d",
   "metadata": {},
   "outputs": [
    {
     "data": {
      "text/plain": [
       "15000"
      ]
     },
     "execution_count": 11,
     "metadata": {},
     "output_type": "execute_result"
    }
   ],
   "source": [
    "total_expense"
   ]
  },
  {
   "cell_type": "code",
   "execution_count": 2,
   "id": "a46d1dc4",
   "metadata": {},
   "outputs": [],
   "source": [
    "house_plants_expenses = 200"
   ]
  },
  {
   "cell_type": "code",
   "execution_count": 3,
   "id": "878a331c",
   "metadata": {},
   "outputs": [
    {
     "name": "stdout",
     "output_type": "stream",
     "text": [
      "red blue red\n"
     ]
    }
   ],
   "source": [
    "color_a = 'red'\n",
    "color_b = 'blue'\n",
    "color_c = color_a\n",
    "print(color_a, color_b, color_c)"
   ]
  },
  {
   "cell_type": "code",
   "execution_count": null,
   "id": "f9021910",
   "metadata": {},
   "outputs": [],
   "source": []
  }
 ],
 "metadata": {
  "kernelspec": {
   "display_name": "Python 3 (ipykernel)",
   "language": "python",
   "name": "python3"
  },
  "language_info": {
   "codemirror_mode": {
    "name": "ipython",
    "version": 3
   },
   "file_extension": ".py",
   "mimetype": "text/x-python",
   "name": "python",
   "nbconvert_exporter": "python",
   "pygments_lexer": "ipython3",
   "version": "3.11.5"
  }
 },
 "nbformat": 4,
 "nbformat_minor": 5
}
