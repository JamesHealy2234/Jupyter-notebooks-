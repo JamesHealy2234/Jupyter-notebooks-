{
 "cells": [
  {
   "cell_type": "code",
   "execution_count": 8,
   "metadata": {},
   "outputs": [],
   "source": [
    "salary = 1000\n",
    "\n",
    "expense = 200\n",
    "\n",
    "name = \"James\"\n",
    "interest_rate = 0.04\n",
    "\n",
    "\n",
    "def print_savings_details():\n",
    "\n",
    "    print(\"Name on account: \", name) \n",
    "\n",
    "\n",
    "    savings = salary - expense \n",
    "    print(\"savings: \", savings)\n",
    "    print(\"Interest rate: \", interest_rate)\n"
   ]
  },
  {
   "cell_type": "code",
   "execution_count": 3,
   "metadata": {},
   "outputs": [
    {
     "name": "stdout",
     "output_type": "stream",
     "text": [
      "Name on account:  james\n",
      "savings:  800\n",
      "Interest rate:  0.04\n"
     ]
    }
   ],
   "source": [
    "print_savings_details()"
   ]
  },
  {
   "cell_type": "code",
   "execution_count": 14,
   "metadata": {},
   "outputs": [],
   "source": [
    "def print_savings_details(name, salary, expense, interest_rate):\n",
    "\n",
    "    print(\"Name on account: \", name) \n",
    "\n",
    "    expense = expense + 100\n",
    "\n",
    "    savings = salary - expense \n",
    "    print(\"savings: \", savings)\n",
    "    print(\"Interest rate: \", interest_rate)"
   ]
  },
  {
   "cell_type": "code",
   "execution_count": 11,
   "metadata": {},
   "outputs": [
    {
     "name": "stdout",
     "output_type": "stream",
     "text": [
      "Name on account:  James\n",
      "savings:  800\n",
      "Interest rate:  0.04\n"
     ]
    }
   ],
   "source": [
    "print_savings_details(name,salary,expense, interest_rate)"
   ]
  },
  {
   "cell_type": "code",
   "execution_count": 15,
   "metadata": {},
   "outputs": [
    {
     "name": "stdout",
     "output_type": "stream",
     "text": [
      "Name on account:  Julie\n",
      "savings:  7900\n",
      "Interest rate:  0.2\n"
     ]
    }
   ],
   "source": [
    "print_savings_details(\"Julie\", 10000, 2000,0.2)"
   ]
  },
  {
   "cell_type": "code",
   "execution_count": 16,
   "metadata": {},
   "outputs": [
    {
     "data": {
      "text/plain": [
       "('James', 1000, 200, 0.04)"
      ]
     },
     "execution_count": 16,
     "metadata": {},
     "output_type": "execute_result"
    }
   ],
   "source": [
    "name, salary, expense, interest_rate"
   ]
  },
  {
   "cell_type": "code",
   "execution_count": 18,
   "metadata": {},
   "outputs": [],
   "source": [
    "def print_savings_details(name, salary, expense, interest_rate):\n",
    "\n",
    "    name = \"Harry\"\n",
    "    print(\"Name on account: \", name) \n",
    "\n",
    "    salary = salary * 2\n",
    "    expense = expense + 100\n",
    "\n",
    "    savings = salary - expense \n",
    "    print(\"savings: \", savings)\n",
    "\n",
    "    interest_rate = 0.09\n",
    "    print(\"Interest rate: \", interest_rate)"
   ]
  },
  {
   "cell_type": "code",
   "execution_count": 19,
   "metadata": {},
   "outputs": [
    {
     "name": "stdout",
     "output_type": "stream",
     "text": [
      "Name on account:  Harry\n",
      "savings:  1700\n",
      "Interest rate:  0.09\n"
     ]
    }
   ],
   "source": [
    "print_savings_details(name, salary, expense, interest_rate)"
   ]
  },
  {
   "cell_type": "code",
   "execution_count": 26,
   "metadata": {},
   "outputs": [],
   "source": [
    "fruits_list = [\"apple\", \"Grapes\", \"Mango\", \"Bananas\"]\n"
   ]
  },
  {
   "cell_type": "code",
   "execution_count": 27,
   "metadata": {},
   "outputs": [
    {
     "name": "stdout",
     "output_type": "stream",
     "text": [
      "Inside the function ['kiwi', 'Strawberry']\n",
      "\n",
      "Outside the function:  ['apple', 'Grapes', 'Mango', 'Bananas']\n"
     ]
    }
   ],
   "source": [
    "def change_list(fruits_list):\n",
    "\n",
    "    fruits_list = ['kiwi', \"Strawberry\"]\n",
    "\n",
    "    print(\"Inside the function\", fruits_list)\n",
    "\n",
    "change_list(fruits_list)\n",
    "print()\n",
    "print(\"Outside the function: \", fruits_list)"
   ]
  },
  {
   "cell_type": "code",
   "execution_count": 28,
   "metadata": {},
   "outputs": [
    {
     "name": "stdout",
     "output_type": "stream",
     "text": [
      "Inside the function ['kiwi', 'Strawberry']\n"
     ]
    }
   ],
   "source": [
    "fruits_list = ['apple', 'Grapes']\n",
    "\n",
    "\n",
    "change_list(fruits_list)"
   ]
  },
  {
   "cell_type": "code",
   "execution_count": 29,
   "metadata": {},
   "outputs": [
    {
     "data": {
      "text/plain": [
       "['apple', 'Grapes']"
      ]
     },
     "execution_count": 29,
     "metadata": {},
     "output_type": "execute_result"
    }
   ],
   "source": [
    "fruits_list"
   ]
  },
  {
   "cell_type": "code",
   "execution_count": 30,
   "metadata": {},
   "outputs": [],
   "source": [
    "fruits_tuple = (\"apple\", \"Grapes\", \"Mango\", \"Bananas\")"
   ]
  },
  {
   "cell_type": "code",
   "execution_count": 34,
   "metadata": {},
   "outputs": [
    {
     "name": "stdout",
     "output_type": "stream",
     "text": [
      "Inside the function:  this is not even a tuple\n",
      "\n",
      "outside the function:  ('apple', 'Grapes', 'Mango', 'Bananas')\n"
     ]
    }
   ],
   "source": [
    "def change_tuple(fruits_tuple):\n",
    "\n",
    "    fruits_tuple = \"this is not even a tuple\"\n",
    "\n",
    "    print(\"Inside the function: \", fruits_tuple)\n",
    "\n",
    "change_tuple(fruits_tuple)\n",
    "print()\n",
    "print(\"outside the function: \", fruits_tuple)"
   ]
  },
  {
   "cell_type": "code",
   "execution_count": 35,
   "metadata": {},
   "outputs": [],
   "source": [
    "car_speed_dictionary = {\n",
    "    'Camry' : 120,\n",
    "    \"Accord\": 130,\n",
    "    \"Cayenne\": 250,\n",
    "    \"Mini cooper\": 100\n",
    "}"
   ]
  },
  {
   "cell_type": "code",
   "execution_count": 37,
   "metadata": {},
   "outputs": [],
   "source": [
    "def change_dictionary(car_speed_dictionary):\n",
    "\n",
    "    car_speed_dictionary = {\n",
    "        \"Mustang\": 200\n",
    "    }\n",
    "\n",
    "    print(\"inside the function: \", car_speed_dictionary)"
   ]
  },
  {
   "cell_type": "code",
   "execution_count": 39,
   "metadata": {},
   "outputs": [
    {
     "name": "stdout",
     "output_type": "stream",
     "text": [
      "inside the function:  {'Mustang': 200}\n"
     ]
    }
   ],
   "source": [
    "change_dictionary(car_speed_dictionary)"
   ]
  },
  {
   "cell_type": "code",
   "execution_count": 40,
   "metadata": {},
   "outputs": [
    {
     "data": {
      "text/plain": [
       "{'Camry': 120, 'Accord': 130, 'Cayenne': 250, 'Mini cooper': 100}"
      ]
     },
     "execution_count": 40,
     "metadata": {},
     "output_type": "execute_result"
    }
   ],
   "source": [
    "car_speed_dictionary"
   ]
  }
 ],
 "metadata": {
  "kernelspec": {
   "display_name": "Python 3",
   "language": "python",
   "name": "python3"
  },
  "language_info": {
   "codemirror_mode": {
    "name": "ipython",
    "version": 3
   },
   "file_extension": ".py",
   "mimetype": "text/x-python",
   "name": "python",
   "nbconvert_exporter": "python",
   "pygments_lexer": "ipython3",
   "version": "3.12.1"
  }
 },
 "nbformat": 4,
 "nbformat_minor": 2
}
