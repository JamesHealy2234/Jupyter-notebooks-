{
 "cells": [
  {
   "cell_type": "code",
   "execution_count": 13,
   "metadata": {},
   "outputs": [
    {
     "name": "stdout",
     "output_type": "stream",
     "text": [
      "Country:  USA\n",
      "city  Seattle\n"
     ]
    }
   ],
   "source": [
    "country = \"USA\"\n",
    "city = \"Seattle\"\n",
    "\n",
    "\n",
    "def some_fn():\n",
    "    print(\"Country: \", country)\n",
    "    print(\"city \", city)\n",
    "\n",
    "some_fn()"
   ]
  },
  {
   "cell_type": "code",
   "execution_count": 7,
   "metadata": {},
   "outputs": [
    {
     "name": "stdout",
     "output_type": "stream",
     "text": [
      "Country:  USA\n",
      "city  Seattle\n"
     ]
    }
   ],
   "source": [
    "some_fn()"
   ]
  },
  {
   "cell_type": "code",
   "execution_count": 8,
   "metadata": {},
   "outputs": [],
   "source": [
    "def some_fn():\n",
    "    country = \"India\"\n",
    "\n",
    "    print(\"Country: \", country)\n",
    "    print(\"city \", city)"
   ]
  },
  {
   "cell_type": "code",
   "execution_count": 9,
   "metadata": {},
   "outputs": [
    {
     "name": "stdout",
     "output_type": "stream",
     "text": [
      "Country:  India\n",
      "city  Seattle\n"
     ]
    }
   ],
   "source": [
    "some_fn()"
   ]
  },
  {
   "cell_type": "code",
   "execution_count": 12,
   "metadata": {},
   "outputs": [
    {
     "ename": "NameError",
     "evalue": "name 'country' is not defined",
     "output_type": "error",
     "traceback": [
      "\u001b[0;31m---------------------------------------------------------------------------\u001b[0m",
      "\u001b[0;31mNameError\u001b[0m                                 Traceback (most recent call last)",
      "Cell \u001b[0;32mIn[12], line 1\u001b[0m\n\u001b[0;32m----> 1\u001b[0m \u001b[43mcountry\u001b[49m, city\n",
      "\u001b[0;31mNameError\u001b[0m: name 'country' is not defined"
     ]
    }
   ],
   "source": [
    "country, city"
   ]
  },
  {
   "cell_type": "code",
   "execution_count": 11,
   "metadata": {},
   "outputs": [
    {
     "name": "stdout",
     "output_type": "stream",
     "text": [
      "Country: india\n",
      "CIty:  Bangalore\n"
     ]
    }
   ],
   "source": [
    "def some_fn():\n",
    "    country = \"india\"\n",
    "    city = \"Bangalore\"\n",
    "\n",
    "    print(\"Country:\", country)\n",
    "    print('CIty: ', city)\n",
    "\n",
    "\n",
    "some_fn()\n"
   ]
  },
  {
   "cell_type": "code",
   "execution_count": 12,
   "metadata": {},
   "outputs": [],
   "source": [
    "def some_fn():\n",
    "    city= \"seattle\"\n",
    "    city = city + \"-Washington\"\n",
    "\n",
    "    print(\"Country: \", country)\n",
    "    print(\"Country: \", city)\n",
    "\n",
    "\n"
   ]
  },
  {
   "cell_type": "code",
   "execution_count": 14,
   "metadata": {},
   "outputs": [
    {
     "name": "stdout",
     "output_type": "stream",
     "text": [
      "Country:  USA\n",
      "Country:  seattle-Washington\n"
     ]
    }
   ],
   "source": [
    "some_fn()\n"
   ]
  },
  {
   "cell_type": "code",
   "execution_count": 2,
   "metadata": {},
   "outputs": [],
   "source": [
    "def some_fn(country,city): \n",
    "    print(\"country: \", country)\n",
    "    print(\"City: \", city)\n"
   ]
  },
  {
   "cell_type": "code",
   "execution_count": 3,
   "metadata": {},
   "outputs": [
    {
     "name": "stdout",
     "output_type": "stream",
     "text": [
      "country:  India\n",
      "City:  Bangalore\n"
     ]
    }
   ],
   "source": [
    "some_fn(\"India\", \"Bangalore\")"
   ]
  },
  {
   "cell_type": "code",
   "execution_count": 15,
   "metadata": {},
   "outputs": [],
   "source": [
    "def some_fn():\n",
    "\n",
    "    global city,country\n",
    "\n",
    "    city = city + \"-Washington\"\n",
    "    country = country + \"-World\"\n",
    "\n",
    "    print(\"Country: \", country)\n",
    "    print(\"City: \", city)"
   ]
  },
  {
   "cell_type": "code",
   "execution_count": 16,
   "metadata": {},
   "outputs": [
    {
     "name": "stdout",
     "output_type": "stream",
     "text": [
      "Country:  USA-World\n",
      "City:  Seattle-Washington\n"
     ]
    }
   ],
   "source": [
    "some_fn()"
   ]
  }
 ],
 "metadata": {
  "kernelspec": {
   "display_name": "Python 3",
   "language": "python",
   "name": "python3"
  },
  "language_info": {
   "codemirror_mode": {
    "name": "ipython",
    "version": 3
   },
   "file_extension": ".py",
   "mimetype": "text/x-python",
   "name": "python",
   "nbconvert_exporter": "python",
   "pygments_lexer": "ipython3",
   "version": "3.12.1"
  }
 },
 "nbformat": 4,
 "nbformat_minor": 2
}
