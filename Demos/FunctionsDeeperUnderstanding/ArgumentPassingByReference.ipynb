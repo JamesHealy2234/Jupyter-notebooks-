{
 "cells": [
  {
   "cell_type": "code",
   "execution_count": 1,
   "metadata": {},
   "outputs": [
    {
     "name": "stdout",
     "output_type": "stream",
     "text": [
      "Inside the function:  ['kiwi', 'Grapes', 'Mango', 'Bananas']\n",
      "\n",
      "Outside the function:  ['kiwi', 'Grapes', 'Mango', 'Bananas']\n"
     ]
    }
   ],
   "source": [
    "fruits_list = [\"Apple\", \"Grapes\", \"Mango\", \"Bananas\"]\n",
    "\n",
    "\n",
    "def change_list(fruits_list):\n",
    "\n",
    "    fruits_list[0] = \"kiwi\"\n",
    "\n",
    "    # updating the first index \n",
    "\n",
    "    print(\"Inside the function: \" , fruits_list)\n",
    "\n",
    "    #print the frist list inside the function\n",
    "\n",
    "change_list(fruits_list)\n",
    "print()\n",
    "print(\"Outside the function: \", fruits_list)\n",
    "\n",
    "# modified the context of the list inside the function "
   ]
  },
  {
   "cell_type": "code",
   "execution_count": 2,
   "metadata": {},
   "outputs": [],
   "source": [
    "fruits_list = ['Apple', \"Grapes\"]\n",
    "\n"
   ]
  },
  {
   "cell_type": "code",
   "execution_count": 3,
   "metadata": {},
   "outputs": [
    {
     "name": "stdout",
     "output_type": "stream",
     "text": [
      "Inside the function:  ['kiwi', 'Grapes']\n"
     ]
    }
   ],
   "source": [
    "change_list(fruits_list)"
   ]
  },
  {
   "cell_type": "code",
   "execution_count": 4,
   "metadata": {},
   "outputs": [
    {
     "name": "stdout",
     "output_type": "stream",
     "text": [
      "Inside the function:  ['Apple', 'Grapes', 'Mango', 'Bananas', 'Kiwi']\n",
      "\n",
      "Outside the function:  ['Apple', 'Grapes', 'Mango', 'Bananas', 'Kiwi']\n"
     ]
    }
   ],
   "source": [
    "fruits_list = [\"Apple\", \"Grapes\", \"Mango\", \"Bananas\"]\n",
    "\n",
    "\n",
    "def change_list(fruits_list):\n",
    "\n",
    "    # fruits_list[0] = \"kiwi\"\n",
    "\n",
    "    fruits_list.append('Kiwi')\n",
    "\n",
    "    # updating the first index \n",
    "\n",
    "    print(\"Inside the function: \" , fruits_list)\n",
    "\n",
    "    #print the frist list inside the function\n",
    "\n",
    "change_list(fruits_list)\n",
    "print()\n",
    "print(\"Outside the function: \", fruits_list)"
   ]
  },
  {
   "cell_type": "code",
   "execution_count": 1,
   "metadata": {},
   "outputs": [],
   "source": [
    "fruits_list = [\"Apple\", \"Grapes\", \"Mango\", \"Bananas\"]\n",
    "\n",
    "def sort_items_and_remove_last(my_list):\n",
    "    my_list.sort()\n",
    "    my_list.pop()\n",
    "\n",
    "    print(\"Inside the function\", my_list)\n",
    "    \n",
    "\n",
    "    "
   ]
  },
  {
   "cell_type": "code",
   "execution_count": 2,
   "metadata": {},
   "outputs": [
    {
     "name": "stdout",
     "output_type": "stream",
     "text": [
      "Inside the function ['Apple', 'Bananas', 'Grapes']\n"
     ]
    }
   ],
   "source": [
    "sort_items_and_remove_last(fruits_list)\n"
   ]
  },
  {
   "cell_type": "code",
   "execution_count": 3,
   "metadata": {},
   "outputs": [],
   "source": [
    "car_speeds_dictionary = {\n",
    "    \"Camry\": 120,\n",
    "    \"accord\": 130,\n",
    "    \"Cayenne\": 250,\n",
    "    \"Mini Cooper\": 100\n",
    "}"
   ]
  },
  {
   "cell_type": "code",
   "execution_count": 13,
   "metadata": {},
   "outputs": [],
   "source": [
    "def change_dictionary(car_speeds_dictionary):\n",
    "\n",
    "    car_speeds_dictionary[\"mustang\"] = 200\n",
    "\n",
    "    print(\"Inside the function: \", car_speeds_dictionary)"
   ]
  },
  {
   "cell_type": "code",
   "execution_count": 14,
   "metadata": {},
   "outputs": [
    {
     "name": "stdout",
     "output_type": "stream",
     "text": [
      "Inside the function:  {'Camry': 120, 'accord': 130, 'Cayenne': 250, 'Mini Cooper': 100, 'musang': 200, 'mustang': 200}\n"
     ]
    }
   ],
   "source": [
    "change_dictionary(car_speeds_dictionary)"
   ]
  },
  {
   "cell_type": "code",
   "execution_count": 15,
   "metadata": {},
   "outputs": [
    {
     "data": {
      "text/plain": [
       "{'Camry': 120,\n",
       " 'accord': 130,\n",
       " 'Cayenne': 250,\n",
       " 'Mini Cooper': 100,\n",
       " 'musang': 200,\n",
       " 'mustang': 200}"
      ]
     },
     "execution_count": 15,
     "metadata": {},
     "output_type": "execute_result"
    }
   ],
   "source": [
    "car_speeds_dictionary"
   ]
  },
  {
   "cell_type": "code",
   "execution_count": 16,
   "metadata": {},
   "outputs": [],
   "source": [
    "def change_dictionary(some_dictionary):\n",
    "    some_dictionary[\"Camry\"] = 140 \n",
    "\n",
    "    print(\"inside the function: \", some_dictionary)"
   ]
  },
  {
   "cell_type": "code",
   "execution_count": 18,
   "metadata": {},
   "outputs": [
    {
     "name": "stdout",
     "output_type": "stream",
     "text": [
      "inside the function:  {'Camry': 140, 'accord': 130, 'Cayenne': 250, 'Mini Cooper': 100, 'musang': 200, 'mustang': 200}\n"
     ]
    },
    {
     "data": {
      "text/plain": [
       "{'Camry': 140,\n",
       " 'accord': 130,\n",
       " 'Cayenne': 250,\n",
       " 'Mini Cooper': 100,\n",
       " 'musang': 200,\n",
       " 'mustang': 200}"
      ]
     },
     "execution_count": 18,
     "metadata": {},
     "output_type": "execute_result"
    }
   ],
   "source": [
    "change_dictionary(car_speeds_dictionary)\n",
    "\n",
    "car_speeds_dictionary\n",
    "\n",
    "\n",
    "##changes "
   ]
  },
  {
   "cell_type": "markdown",
   "metadata": {},
   "source": []
  }
 ],
 "metadata": {
  "kernelspec": {
   "display_name": "Python 3",
   "language": "python",
   "name": "python3"
  },
  "language_info": {
   "codemirror_mode": {
    "name": "ipython",
    "version": 3
   },
   "file_extension": ".py",
   "mimetype": "text/x-python",
   "name": "python",
   "nbconvert_exporter": "python",
   "pygments_lexer": "ipython3",
   "version": "3.12.1"
  }
 },
 "nbformat": 4,
 "nbformat_minor": 2
}
