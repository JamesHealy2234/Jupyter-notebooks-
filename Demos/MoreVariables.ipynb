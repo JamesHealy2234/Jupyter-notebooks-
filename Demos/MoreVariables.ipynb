{
 "cells": [
  {
   "cell_type": "code",
   "execution_count": 1,
   "id": "1da4bd20",
   "metadata": {},
   "outputs": [],
   "source": [
    "n1 = 34\n",
    "n2 = 34.5\n",
    "n3 = 100"
   ]
  },
  {
   "cell_type": "code",
   "execution_count": null,
   "id": "167049a8",
   "metadata": {},
   "outputs": [],
   "source": [
    "s1 = 'hello'\n",
    "s2 = 'world'"
   ]
  },
  {
   "cell_type": "code",
   "execution_count": 2,
   "id": "9b9a8465",
   "metadata": {},
   "outputs": [
    {
     "data": {
      "text/plain": [
       "168.5"
      ]
     },
     "execution_count": 2,
     "metadata": {},
     "output_type": "execute_result"
    }
   ],
   "source": [
    "total_n = n1+n2+n3\n",
    " \n",
    "total_n"
   ]
  },
  {
   "cell_type": "code",
   "execution_count": 8,
   "id": "c00c71f8",
   "metadata": {},
   "outputs": [
    {
     "name": "stdout",
     "output_type": "stream",
     "text": [
      "169.5\n"
     ]
    }
   ],
   "source": [
    "total_n = n1+n2+n3 \n",
    "\n",
    "print(total_n + 1)"
   ]
  },
  {
   "cell_type": "code",
   "execution_count": null,
   "id": "867baeb6",
   "metadata": {},
   "outputs": [],
   "source": []
  }
 ],
 "metadata": {
  "kernelspec": {
   "display_name": "Python 3 (ipykernel)",
   "language": "python",
   "name": "python3"
  },
  "language_info": {
   "codemirror_mode": {
    "name": "ipython",
    "version": 3
   },
   "file_extension": ".py",
   "mimetype": "text/x-python",
   "name": "python",
   "nbconvert_exporter": "python",
   "pygments_lexer": "ipython3",
   "version": "3.11.5"
  }
 },
 "nbformat": 4,
 "nbformat_minor": 5
}
