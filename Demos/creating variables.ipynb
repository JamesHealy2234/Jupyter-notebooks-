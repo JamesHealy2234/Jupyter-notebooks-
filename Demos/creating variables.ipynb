{
 "cells": [
  {
   "cell_type": "code",
   "execution_count": 13,
   "id": "5c367fa3",
   "metadata": {
    "scrolled": true
   },
   "outputs": [],
   "source": [
    "x = True \n",
    "y = False"
   ]
  },
  {
   "cell_type": "code",
   "execution_count": 14,
   "id": "cb1d5c59",
   "metadata": {},
   "outputs": [
    {
     "name": "stdout",
     "output_type": "stream",
     "text": [
      "x and y is:  False\n"
     ]
    }
   ],
   "source": [
    "print('x and y is: ',x and y)"
   ]
  },
  {
   "cell_type": "code",
   "execution_count": 15,
   "id": "54fed158",
   "metadata": {},
   "outputs": [],
   "source": [
    "x = y =z = \"python\""
   ]
  },
  {
   "cell_type": "code",
   "execution_count": 16,
   "id": "c77204df",
   "metadata": {},
   "outputs": [
    {
     "name": "stdout",
     "output_type": "stream",
     "text": [
      "python\n",
      "python\n",
      "python\n"
     ]
    }
   ],
   "source": [
    "print (x)\n",
    "print (y)\n",
    "print (z)"
   ]
  },
  {
   "cell_type": "code",
   "execution_count": 23,
   "id": "85293f8e",
   "metadata": {},
   "outputs": [
    {
     "name": "stdout",
     "output_type": "stream",
     "text": [
      "pythonpython \n"
     ]
    }
   ],
   "source": [
    "b = x + y \n",
    "print (b + \" \")"
   ]
  },
  {
   "cell_type": "code",
   "execution_count": null,
   "id": "8708dced",
   "metadata": {},
   "outputs": [],
   "source": []
  }
 ],
 "metadata": {
  "kernelspec": {
   "display_name": "Python 3 (ipykernel)",
   "language": "python",
   "name": "python3"
  },
  "language_info": {
   "codemirror_mode": {
    "name": "ipython",
    "version": 3
   },
   "file_extension": ".py",
   "mimetype": "text/x-python",
   "name": "python",
   "nbconvert_exporter": "python",
   "pygments_lexer": "ipython3",
   "version": "3.11.5"
  }
 },
 "nbformat": 4,
 "nbformat_minor": 5
}
