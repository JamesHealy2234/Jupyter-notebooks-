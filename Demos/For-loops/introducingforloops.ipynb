{
 "cells": [
  {
   "cell_type": "code",
   "execution_count": 22,
   "metadata": {},
   "outputs": [
    {
     "name": "stdout",
     "output_type": "stream",
     "text": [
      "H\n",
      "E\n",
      "L\n",
      "L\n",
      "O\n"
     ]
    }
   ],
   "source": [
    "## introducing for loops\n",
    "\n",
    "## examples include \n",
    "\n",
    "\n",
    "\n",
    "## letter is a variable\n",
    "for letter  in ('H', 'E', 'L',\"L\", \"O\"):\n",
    "    print(letter)"
   ]
  },
  {
   "cell_type": "code",
   "execution_count": 23,
   "metadata": {},
   "outputs": [
    {
     "name": "stdout",
     "output_type": "stream",
     "text": [
      "germany\n",
      "India\n",
      "Israel\n"
     ]
    }
   ],
   "source": [
    "for country in \"germany\", \"India\", \"Israel\":\n",
    "\n",
    "    print(country)"
   ]
  },
  {
   "cell_type": "code",
   "execution_count": 24,
   "metadata": {},
   "outputs": [
    {
     "name": "stdout",
     "output_type": "stream",
     "text": [
      "dog breed golden retriever\n",
      "dog breed kelpie x retriever\n",
      "dog breed poodle\n",
      "dog breed cavoodle\n"
     ]
    }
   ],
   "source": [
    "dogs_tuple = ('golden retriever', 'kelpie x retriever', 'poodle', 'cavoodle')\n",
    "\n",
    "for dogs in dogs_tuple:\n",
    "    print(\"dog breed\", dogs)"
   ]
  },
  {
   "cell_type": "code",
   "execution_count": 25,
   "metadata": {},
   "outputs": [
    {
     "name": "stdout",
     "output_type": "stream",
     "text": [
      "This dog at 0 is a pug and it weights 20 pounds\n",
      "This dog at 1 is a Doberman and it weights 30 pounds\n",
      "This dog at 2 is a Retriever and it weights 35 pounds\n"
     ]
    }
   ],
   "source": [
    "dog_weight = ((\"pug\",20),(\"Doberman\", 30), (\"Retriever\", 35))\n",
    "\n",
    "##enumerate function  returns the index at each iteration \n",
    "\n",
    "for i, (dog, weight) in enumerate(dog_weight):\n",
    "        print(\"This dog at %d is a %s and it weights %s pounds\" % (i,dog,weight) )\n"
   ]
  },
  {
   "cell_type": "code",
   "execution_count": 26,
   "metadata": {},
   "outputs": [
    {
     "name": "stdout",
     "output_type": "stream",
     "text": [
      "Happy new Year,  John\n",
      "Happy new Year,  Adam\n",
      "Happy new Year,  James\n"
     ]
    }
   ],
   "source": [
    "friends= [\"John\", \"Adam\", \"James\"]\n",
    "for friend in friends:\n",
    "    print(\"Happy new Year, \", friend)"
   ]
  },
  {
   "cell_type": "code",
   "execution_count": 27,
   "metadata": {},
   "outputs": [
    {
     "data": {
      "text/plain": [
       "{'james': 0.24, 'smith': 28, 'Jerry': 99, 'bob': 122}"
      ]
     },
     "execution_count": 27,
     "metadata": {},
     "output_type": "execute_result"
    }
   ],
   "source": [
    "student_scores = {'james': 0.24, \"smith\": 28, 'Jerry':99, 'bob': 122}\n",
    "\n",
    "student_scores "
   ]
  },
  {
   "cell_type": "code",
   "execution_count": 28,
   "metadata": {},
   "outputs": [
    {
     "name": "stdout",
     "output_type": "stream",
     "text": [
      "james\n",
      "smith\n",
      "Jerry\n",
      "bob\n"
     ]
    }
   ],
   "source": [
    "for students in student_scores:\n",
    "    print(students)\n"
   ]
  },
  {
   "cell_type": "code",
   "execution_count": 29,
   "metadata": {},
   "outputs": [
    {
     "data": {
      "text/plain": [
       "dict_keys(['james', 'smith', 'Jerry', 'bob'])"
      ]
     },
     "execution_count": 29,
     "metadata": {},
     "output_type": "execute_result"
    }
   ],
   "source": [
    "student_scores.keys()"
   ]
  },
  {
   "cell_type": "code",
   "execution_count": 30,
   "metadata": {},
   "outputs": [
    {
     "name": "stdout",
     "output_type": "stream",
     "text": [
      "james\n",
      "smith\n",
      "Jerry\n",
      "bob\n"
     ]
    }
   ],
   "source": [
    "for student in student_scores.keys():\n",
    "    print(student)"
   ]
  },
  {
   "cell_type": "code",
   "execution_count": 31,
   "metadata": {},
   "outputs": [
    {
     "name": "stdout",
     "output_type": "stream",
     "text": [
      "0.24\n",
      "28\n",
      "99\n",
      "122\n"
     ]
    }
   ],
   "source": [
    "for score in student_scores.values():\n",
    "    print(score)"
   ]
  },
  {
   "cell_type": "code",
   "execution_count": 32,
   "metadata": {},
   "outputs": [
    {
     "name": "stdout",
     "output_type": "stream",
     "text": [
      "key value pair james : 0.24\n",
      "key value pair smith : 28\n",
      "key value pair Jerry : 99\n",
      "key value pair bob : 122\n"
     ]
    }
   ],
   "source": [
    "for key in student_scores:\n",
    "    print(\"key value pair\", key, ':' , student_scores[key])"
   ]
  },
  {
   "cell_type": "code",
   "execution_count": 33,
   "metadata": {},
   "outputs": [
    {
     "name": "stdout",
     "output_type": "stream",
     "text": [
      "('james', 0.24)\n",
      "('smith', 28)\n",
      "('Jerry', 99)\n",
      "('bob', 122)\n"
     ]
    }
   ],
   "source": [
    "for key_value in student_scores.items():\n",
    "    print(key_value)"
   ]
  },
  {
   "cell_type": "code",
   "execution_count": 34,
   "metadata": {},
   "outputs": [
    {
     "name": "stdout",
     "output_type": "stream",
     "text": [
      "Student james \t scores 0.24\n",
      "Student smith \t scores 28\n",
      "Student Jerry \t scores 99\n",
      "Student bob \t scores 122\n"
     ]
    }
   ],
   "source": [
    "## making two seperate list\n",
    "\n",
    "for student, score in student_scores.items():\n",
    "    print(\"Student\" , student , '\\t scores', score)\n",
    "\n",
    "\n"
   ]
  },
  {
   "cell_type": "code",
   "execution_count": 46,
   "metadata": {},
   "outputs": [
    {
     "name": "stdout",
     "output_type": "stream",
     "text": [
      "2 is the quotent of: 4 /2\n",
      "3 is the quotent of: 6 /2\n",
      "4 is the quotent of: 8 /2\n",
      "5 is the quotent of: 10 /2\n"
     ]
    }
   ],
   "source": [
    "numbers = [4,6,8,10]\n",
    "\n",
    "for num in numbers:\n",
    "    quotient = num // 2\n",
    "    print(quotient, \"is the quotent of:\" , num , '/2')\n",
    "\n",
    "\n",
    "## the main goal of a for loop is to iterate over each item in sequence\n",
    "    \n"
   ]
  },
  {
   "cell_type": "code",
   "execution_count": 49,
   "metadata": {},
   "outputs": [
    {
     "name": "stdout",
     "output_type": "stream",
     "text": [
      "type of 145  is <class 'int'>\n",
      "type of 10.5  is <class 'float'>\n",
      "type of (1+3j)  is <class 'complex'>\n",
      "type of True  is <class 'bool'>\n",
      "type of Python  is <class 'str'>\n",
      "type of (0, 10)  is <class 'tuple'>\n",
      "type of [2, -5]  is <class 'list'>\n",
      "type of {'Class': 'V', 'Section': 'A'}  is <class 'dict'>\n"
     ]
    }
   ],
   "source": [
    "mixed_list = [145, 10.5, 1+3j, True, 'Python', (0,10), [2,-5], {\"Class\":\"V\", \"Section\":\"A\"}]\n",
    "\n",
    "for item in mixed_list:\n",
    "    print (\"type of\" , item ,\" is\" , type(item))\n"
   ]
  },
  {
   "cell_type": "code",
   "execution_count": 53,
   "metadata": {},
   "outputs": [
    {
     "name": "stdout",
     "output_type": "stream",
     "text": [
      "the square of 2 is 4\n",
      "the square of 4 is 16\n",
      "the square of 6 is 36\n",
      "the square of 8 is 64\n"
     ]
    }
   ],
   "source": [
    "num_list = [2,4,6,8]\n",
    "\n",
    "## set a variable of the square\n",
    "\n",
    "square = 0\n",
    "\n",
    "for num in num_list:\n",
    "    square = num **2 \n",
    "    print(\"the square of\", num, \"is\", square)"
   ]
  },
  {
   "cell_type": "code",
   "execution_count": 59,
   "metadata": {},
   "outputs": [
    {
     "name": "stdout",
     "output_type": "stream",
     "text": [
      "4\n"
     ]
    }
   ],
   "source": [
    "string = input(\"enter an input\")\n",
    "\n",
    "count = 0\n",
    "\n",
    "for i in string:\n",
    "    count = count +1\n",
    "\n",
    "print(count)"
   ]
  },
  {
   "cell_type": "code",
   "execution_count": 60,
   "metadata": {},
   "outputs": [
    {
     "name": "stdout",
     "output_type": "stream",
     "text": [
      "1\n",
      "4\n",
      "6\n",
      "7\n",
      "no more items in the list\n"
     ]
    }
   ],
   "source": [
    "numbers = [1,4,6,7]\n",
    "\n",
    "for num in numbers:\n",
    "    print(num)\n",
    "\n",
    "else:\n",
    "    print(\"no more items in the list\")\n",
    "\n",
    "\n",
    "## enter the oif block when the "
   ]
  },
  {
   "cell_type": "code",
   "execution_count": 61,
   "metadata": {},
   "outputs": [
    {
     "name": "stdout",
     "output_type": "stream",
     "text": [
      "d\n",
      "b\n",
      "c\n",
      "a\n",
      "no more characters left\n"
     ]
    }
   ],
   "source": [
    "characters = {'a', 'b', 'c', 'd'}\n",
    "\n",
    "for letter in characters:\n",
    "    print(letter)\n",
    "\n",
    "else:\n",
    "    print(\"no more characters left\")"
   ]
  },
  {
   "cell_type": "code",
   "execution_count": 65,
   "metadata": {},
   "outputs": [
    {
     "name": "stdout",
     "output_type": "stream",
     "text": [
      "new york is present in this list\n"
     ]
    }
   ],
   "source": [
    "us_citys = ['New York', \"Texas\", \"Las Vegas\", \"california\"]\n",
    "\n",
    "for city in us_citys:\n",
    "    if city == 'New York':\n",
    "        print(\"new york is present in this list\")\n",
    "\n",
    "\n",
    "\n"
   ]
  },
  {
   "cell_type": "code",
   "execution_count": 69,
   "metadata": {},
   "outputs": [
    {
     "name": "stdout",
     "output_type": "stream",
     "text": [
      "the list contains even numbers 10\n",
      "the list contains even numbers 10\n",
      "the list contains even numbers 44\n"
     ]
    }
   ],
   "source": [
    "numbers = [3, 5 ,10,9,9,10,13,17,19,21,23,44]\n",
    "\n",
    "for num in numbers:\n",
    "    if num % 2 == 0:\n",
    "        print(\"the list contains even numbers\", num)\n",
    "\n",
    "        "
   ]
  },
  {
   "cell_type": "code",
   "execution_count": 70,
   "metadata": {},
   "outputs": [
    {
     "name": "stdout",
     "output_type": "stream",
     "text": [
      "its a leap year\n",
      "its not a leap year\n",
      "its not a leap year\n",
      "its not a leap year\n"
     ]
    }
   ],
   "source": [
    "years = [2016,2017,2018,2019]\n",
    "\n",
    "for year in years: \n",
    "    if year % 4 ==0: \n",
    "        print(\"its a leap year\")\n",
    "    else: \n",
    "        print(\"its not a leap year\")"
   ]
  },
  {
   "cell_type": "markdown",
   "metadata": {},
   "source": []
  }
 ],
 "metadata": {
  "kernelspec": {
   "display_name": "Python 3",
   "language": "python",
   "name": "python3"
  },
  "language_info": {
   "codemirror_mode": {
    "name": "ipython",
    "version": 3
   },
   "file_extension": ".py",
   "mimetype": "text/x-python",
   "name": "python",
   "nbconvert_exporter": "python",
   "pygments_lexer": "ipython3",
   "version": "3.12.1"
  }
 },
 "nbformat": 4,
 "nbformat_minor": 2
}
